{
 "cells": [
  {
   "cell_type": "markdown",
   "id": "3d70d4d5",
   "metadata": {},
   "source": [
    "# Importing Some Libraries"
   ]
  },
  {
   "cell_type": "code",
   "execution_count": 231,
   "id": "029966ba",
   "metadata": {
    "id": "029966ba"
   },
   "outputs": [],
   "source": [
    "import pandas as pd\n",
    "import numpy as np\n",
    "import random\n",
    "from sklearn.utils import shuffle\n",
    "from category_encoders import BinaryEncoder\n",
    "import matplotlib.pyplot as plt"
   ]
  },
  {
   "cell_type": "markdown",
   "id": "875fbb5b",
   "metadata": {
    "id": "875fbb5b"
   },
   "source": [
    "# Importing data"
   ]
  },
  {
   "cell_type": "markdown",
   "id": "NSUUlL2Dcq3M",
   "metadata": {
    "id": "NSUUlL2Dcq3M"
   },
   "source": [
    "## Getting data from drive\n",
    "\n",
    "Only run these cell if you're using colab and have uploaded data to the drive"
   ]
  },
  {
   "cell_type": "code",
   "execution_count": 2,
   "id": "sl8JyTyKcqjd",
   "metadata": {
    "colab": {
     "base_uri": "https://localhost:8080/"
    },
    "id": "sl8JyTyKcqjd",
    "outputId": "9803d138-f956-4ca1-9cef-03f719f9e552"
   },
   "outputs": [],
   "source": [
    "#from google.colab import drive\n",
    "#drive.mount('/content/drive')"
   ]
  },
  {
   "cell_type": "code",
   "execution_count": 3,
   "id": "BmH09QL6eVVH",
   "metadata": {
    "id": "BmH09QL6eVVH"
   },
   "outputs": [],
   "source": [
    "#!cp /content/drive/MyDrive/Intrusion_detection_data/*.zip /content/"
   ]
  },
  {
   "cell_type": "markdown",
   "id": "4w59pMnse-dx",
   "metadata": {
    "id": "4w59pMnse-dx"
   },
   "source": [
    "## Unzipping data\n",
    "\n",
    "Run these cells if the data is zipped"
   ]
  },
  {
   "cell_type": "code",
   "execution_count": 4,
   "id": "tcvsnPMifA39",
   "metadata": {
    "id": "tcvsnPMifA39"
   },
   "outputs": [],
   "source": [
    "#import zipfile"
   ]
  },
  {
   "cell_type": "code",
   "execution_count": 5,
   "id": "_Unk59oHfEiu",
   "metadata": {
    "id": "_Unk59oHfEiu"
   },
   "outputs": [],
   "source": [
    "#zip=zipfile.ZipFile('biflow_features.zip')\n",
    "#zip1=zipfile.ZipFile('uniflow_features.zip')\n",
    "#zip2=zipfile.ZipFile('packet_features.zip')"
   ]
  },
  {
   "cell_type": "code",
   "execution_count": 6,
   "id": "_sAo1CM_flHx",
   "metadata": {
    "id": "_sAo1CM_flHx"
   },
   "outputs": [],
   "source": [
    "#zip.extractall('biflow_features')\n",
    "#zip1.extractall('uniflow_features')\n",
    "#zip2.extractall('packet_features')"
   ]
  },
  {
   "cell_type": "markdown",
   "id": "cb0b20c4",
   "metadata": {
    "id": "cb0b20c4"
   },
   "source": [
    "## Importing bi-directional data"
   ]
  },
  {
   "cell_type": "code",
   "execution_count": 7,
   "id": "fd71b3e0",
   "metadata": {
    "id": "fd71b3e0"
   },
   "outputs": [],
   "source": [
    "bi_brute=pd.read_csv('biflow_features/biflow_mqtt_bruteforce.csv')"
   ]
  },
  {
   "cell_type": "code",
   "execution_count": 8,
   "id": "640988ed",
   "metadata": {
    "id": "640988ed"
   },
   "outputs": [],
   "source": [
    "bi_normal=pd.read_csv('biflow_features/biflow_normal.csv')"
   ]
  },
  {
   "cell_type": "code",
   "execution_count": 9,
   "id": "178c7fa3",
   "metadata": {
    "id": "178c7fa3"
   },
   "outputs": [],
   "source": [
    "bi_scan=pd.read_csv('biflow_features/biflow_scan_A.csv')"
   ]
  },
  {
   "cell_type": "code",
   "execution_count": 10,
   "id": "f359795a",
   "metadata": {
    "id": "f359795a"
   },
   "outputs": [],
   "source": [
    "bi_scanSU=pd.read_csv('biflow_features/biflow_scan_sU.csv')"
   ]
  },
  {
   "cell_type": "code",
   "execution_count": 11,
   "id": "e239263f",
   "metadata": {
    "id": "e239263f"
   },
   "outputs": [],
   "source": [
    "bi_sparta=pd.read_csv('biflow_features/biflow_sparta.csv')"
   ]
  },
  {
   "cell_type": "markdown",
   "id": "1759bd68",
   "metadata": {
    "id": "1759bd68"
   },
   "source": [
    "### Converting bool is_attack to respective attack names"
   ]
  },
  {
   "cell_type": "markdown",
   "id": "71cfcb18",
   "metadata": {},
   "source": [
    "This function changes the bool is_attack values to their own atttack name"
   ]
  },
  {
   "cell_type": "code",
   "execution_count": 232,
   "id": "a8954100",
   "metadata": {
    "id": "a8954100"
   },
   "outputs": [],
   "source": [
    "def attacktype(x,y):\n",
    "    if x==1 or x=='is_attack':\n",
    "        return y\n",
    "    else:\n",
    "        return 'normal'"
   ]
  },
  {
   "cell_type": "code",
   "execution_count": 13,
   "id": "e836f2c7",
   "metadata": {
    "id": "e836f2c7"
   },
   "outputs": [],
   "source": [
    "bi_brute['is_attack']=bi_brute['is_attack'].apply(attacktype,args=['bruteforce'])"
   ]
  },
  {
   "cell_type": "code",
   "execution_count": 14,
   "id": "b6b1b168",
   "metadata": {
    "id": "b6b1b168"
   },
   "outputs": [],
   "source": [
    "bi_normal['is_attack']=bi_normal['is_attack'].apply(attacktype,args=['normal'])"
   ]
  },
  {
   "cell_type": "code",
   "execution_count": 15,
   "id": "cd0814b0",
   "metadata": {
    "id": "cd0814b0"
   },
   "outputs": [],
   "source": [
    "bi_scan['is_attack']=bi_scan['is_attack'].apply(attacktype,args=['scan_A'])"
   ]
  },
  {
   "cell_type": "code",
   "execution_count": 16,
   "id": "a8a44e62",
   "metadata": {
    "id": "a8a44e62"
   },
   "outputs": [],
   "source": [
    "bi_scanSU['is_attack']=bi_scanSU['is_attack'].apply(attacktype,args=['scan_SU'])"
   ]
  },
  {
   "cell_type": "code",
   "execution_count": 17,
   "id": "dd6cc199",
   "metadata": {
    "id": "dd6cc199"
   },
   "outputs": [],
   "source": [
    "bi_sparta['is_attack']=bi_sparta['is_attack'].apply(attacktype,args=['sparta'])"
   ]
  },
  {
   "cell_type": "markdown",
   "id": "28a087cf",
   "metadata": {
    "id": "28a087cf"
   },
   "source": [
    "### Combining bidirectional dataframes"
   ]
  },
  {
   "cell_type": "code",
   "execution_count": 18,
   "id": "8bb835d0",
   "metadata": {
    "id": "8bb835d0"
   },
   "outputs": [],
   "source": [
    "bi_df=pd.concat([bi_brute,bi_normal,bi_scan,bi_scanSU,bi_sparta])"
   ]
  },
  {
   "cell_type": "code",
   "execution_count": 19,
   "id": "9ef9d4b0",
   "metadata": {},
   "outputs": [],
   "source": [
    "bi_df = shuffle(bi_df)\n",
    "bi_df=bi_df.reset_index(drop=True)"
   ]
  },
  {
   "cell_type": "markdown",
   "id": "ac9953fc",
   "metadata": {
    "id": "ac9953fc"
   },
   "source": [
    "## Importing uni-directional data"
   ]
  },
  {
   "cell_type": "code",
   "execution_count": 233,
   "id": "9b29f3f9",
   "metadata": {
    "id": "9b29f3f9"
   },
   "outputs": [],
   "source": [
    "uni_brute=pd.read_csv('uniflow_features/uniflow_mqtt_bruteforce.csv')"
   ]
  },
  {
   "cell_type": "code",
   "execution_count": 234,
   "id": "36284799",
   "metadata": {
    "id": "36284799"
   },
   "outputs": [],
   "source": [
    "uni_normal=pd.read_csv('uniflow_features/uniflow_normal.csv')"
   ]
  },
  {
   "cell_type": "code",
   "execution_count": 235,
   "id": "191141e1",
   "metadata": {
    "id": "191141e1"
   },
   "outputs": [],
   "source": [
    "uni_scan=pd.read_csv('uniflow_features/uniflow_scan_A.csv')"
   ]
  },
  {
   "cell_type": "code",
   "execution_count": 236,
   "id": "d31906a3",
   "metadata": {
    "id": "d31906a3"
   },
   "outputs": [],
   "source": [
    "uni_scanSU=pd.read_csv('uniflow_features/uniflow_scan_sU.csv')"
   ]
  },
  {
   "cell_type": "code",
   "execution_count": 237,
   "id": "0ab1b0b7",
   "metadata": {
    "id": "0ab1b0b7"
   },
   "outputs": [],
   "source": [
    "uni_sparta=pd.read_csv('uniflow_features/uniflow_sparta.csv')"
   ]
  },
  {
   "cell_type": "markdown",
   "id": "d545ae15",
   "metadata": {
    "id": "d545ae15"
   },
   "source": [
    "### Converting bool is_attack to respective attack names"
   ]
  },
  {
   "cell_type": "code",
   "execution_count": 238,
   "id": "0388f214",
   "metadata": {
    "id": "0388f214"
   },
   "outputs": [],
   "source": [
    "uni_brute['is_attack']=uni_brute['is_attack'].apply(attacktype,args=['bruteforce'])"
   ]
  },
  {
   "cell_type": "code",
   "execution_count": 239,
   "id": "ac07f0b6",
   "metadata": {
    "id": "ac07f0b6"
   },
   "outputs": [],
   "source": [
    "uni_normal['is_attack']=uni_normal['is_attack'].apply(attacktype,args=['normal'])"
   ]
  },
  {
   "cell_type": "code",
   "execution_count": 240,
   "id": "d5d5b6f5",
   "metadata": {
    "id": "d5d5b6f5"
   },
   "outputs": [],
   "source": [
    "uni_scan['is_attack']=uni_scan['is_attack'].apply(attacktype,args=['scan_A'])"
   ]
  },
  {
   "cell_type": "code",
   "execution_count": 241,
   "id": "382a2f97",
   "metadata": {
    "id": "382a2f97"
   },
   "outputs": [],
   "source": [
    "uni_scanSU['is_attack']=uni_scanSU['is_attack'].apply(attacktype,args=['scan_SU'])"
   ]
  },
  {
   "cell_type": "code",
   "execution_count": 242,
   "id": "33c100ca",
   "metadata": {
    "id": "33c100ca"
   },
   "outputs": [],
   "source": [
    "uni_sparta['is_attack']=uni_sparta['is_attack'].apply(attacktype,args=['sparta'])"
   ]
  },
  {
   "cell_type": "markdown",
   "id": "e9ce5719",
   "metadata": {
    "id": "e9ce5719"
   },
   "source": [
    "### Combining Uni-directional data frames"
   ]
  },
  {
   "cell_type": "code",
   "execution_count": 243,
   "id": "526f51a5",
   "metadata": {
    "id": "526f51a5"
   },
   "outputs": [],
   "source": [
    "uni_df=pd.concat([uni_brute,uni_normal,uni_scan,uni_scanSU,uni_sparta])"
   ]
  },
  {
   "cell_type": "code",
   "execution_count": 244,
   "id": "3ba6fa9a",
   "metadata": {},
   "outputs": [],
   "source": [
    "uni_df = shuffle(uni_df)\n",
    "uni_df=uni_df.reset_index(drop=True)"
   ]
  },
  {
   "cell_type": "markdown",
   "id": "642fafc1",
   "metadata": {
    "id": "642fafc1"
   },
   "source": [
    "## Importing packet data"
   ]
  },
  {
   "cell_type": "markdown",
   "id": "fcc7493c",
   "metadata": {},
   "source": [
    "### Preprocessing Function\n",
    "\n",
    "Function removes the string bad values from the int or float types and converts the columns back to their inteded datatype, drops the featuress/columns in order to avoid feature influence"
   ]
  },
  {
   "cell_type": "code",
   "execution_count": 32,
   "id": "327481d2",
   "metadata": {},
   "outputs": [],
   "source": [
    "chunk=pd.read_csv('packet_features/mqtt_bruteforce.csv',nrows=1000)\n",
    "lis=chunk.dtypes\n",
    "types=lis.to_dict()\n",
    "to_drop_packet=['timestamp', 'src_ip', 'dst_ip']\n",
    "def remove_str(z,col):\n",
    "    if z in col:\n",
    "        return -1\n",
    "    else:\n",
    "        return z\n",
    "def process_df(chunk):\n",
    "    chunk.drop(to_drop_packet,axis=1,inplace=True)\n",
    "    chunk.fillna(-1,inplace=True)\n",
    "    cols=chunk.columns[1:-1]\n",
    "    for x in cols:\n",
    "        chunk[x]=chunk[x].apply(remove_str,args=[cols])\n",
    "    chunk[cols]=chunk[cols].apply(pd.to_numeric)\n",
    "    return chunk"
   ]
  },
  {
   "cell_type": "markdown",
   "id": "d9c0323c",
   "metadata": {},
   "source": [
    "### Importing data"
   ]
  },
  {
   "cell_type": "code",
   "execution_count": 33,
   "id": "f35c2fb1",
   "metadata": {
    "id": "f35c2fb1"
   },
   "outputs": [],
   "source": [
    "#df_chunk=pd.read_csv('packet_features/mqtt_bruteforce.csv',chunksize=1000000)\n",
    "#packet_brute=read_chunk(df_chunk)\n",
    "p=0.10\n",
    "packet_brute=pd.read_csv('packet_features/mqtt_bruteforce.csv',\n",
    "         header=0, \n",
    "         skiprows=lambda i: i>0 and random.random() > p)\n",
    "packet_brute=process_df(packet_brute)"
   ]
  },
  {
   "cell_type": "code",
   "execution_count": 34,
   "id": "1ea7d4db",
   "metadata": {
    "colab": {
     "base_uri": "https://localhost:8080/"
    },
    "id": "1ea7d4db",
    "outputId": "1fefc63f-141d-4e1f-8736-f4a264f38838",
    "scrolled": true
   },
   "outputs": [
    {
     "name": "stderr",
     "output_type": "stream",
     "text": [
      "C:\\Users\\rafay\\AppData\\Local\\Temp\\ipykernel_15232\\970644864.py:3: DtypeWarning: Columns (4,5,6,7,8,9,10,11,12,13,14,15,16,17,18,19,20,21,22,23,24,25,26,27,28,29,30) have mixed types. Specify dtype option on import or set low_memory=False.\n",
      "  df_chunk=pd.read_csv('packet_features/normal.csv',\n"
     ]
    }
   ],
   "source": [
    "#packet_normal=pd.read_csv('packet_features/normal.csv')\n",
    "p=0.60\n",
    "df_chunk=pd.read_csv('packet_features/normal.csv',\n",
    "                      header=0, \n",
    "                      skiprows=lambda i: i>0 and random.random() > p)\n",
    "packet_normal=process_df(df_chunk)"
   ]
  },
  {
   "cell_type": "code",
   "execution_count": 35,
   "id": "27376a2e",
   "metadata": {
    "id": "27376a2e"
   },
   "outputs": [],
   "source": [
    "packet_scan=pd.read_csv('packet_features/scan_A.csv')\n",
    "packet_scan=process_df(packet_scan)"
   ]
  },
  {
   "cell_type": "code",
   "execution_count": 36,
   "id": "724348e6",
   "metadata": {
    "id": "724348e6"
   },
   "outputs": [],
   "source": [
    "packet_scanSU=pd.read_csv('packet_features/scan_sU.csv')\n",
    "packet_scanSU=process_df(packet_scanSU)"
   ]
  },
  {
   "cell_type": "code",
   "execution_count": 37,
   "id": "c78760b4",
   "metadata": {
    "colab": {
     "base_uri": "https://localhost:8080/"
    },
    "id": "c78760b4",
    "outputId": "90428798-f659-481e-f90f-8816d089539c"
   },
   "outputs": [],
   "source": [
    "#df_chunk=pd.read_csv('packet_features/sparta.csv',chunksize=1000000)\n",
    "#packet_sparta=read_chunk(df_chunk)\n",
    "\n",
    "filename = \"packet_features/sparta.csv\"\n",
    "p=0.05\n",
    "packet_sparta = pd.read_csv(filename,\n",
    "                            header=0, \n",
    "                            skiprows=lambda i: i>0 and random.random() > p)\n",
    "packet_sparta=process_df(packet_sparta)"
   ]
  },
  {
   "cell_type": "markdown",
   "id": "d0deb579",
   "metadata": {
    "id": "d0deb579"
   },
   "source": [
    "### Converting bool is_attack to respective attack names"
   ]
  },
  {
   "cell_type": "code",
   "execution_count": 38,
   "id": "e4e53194",
   "metadata": {
    "id": "e4e53194"
   },
   "outputs": [],
   "source": [
    "packet_brute['is_attack']=packet_brute['is_attack'].apply(attacktype,args=['bruteforce'])"
   ]
  },
  {
   "cell_type": "code",
   "execution_count": 39,
   "id": "1afccc4c",
   "metadata": {
    "id": "1afccc4c"
   },
   "outputs": [],
   "source": [
    "packet_normal['is_attack']=packet_normal['is_attack'].apply(attacktype,args=['normal'])"
   ]
  },
  {
   "cell_type": "code",
   "execution_count": 40,
   "id": "142c7be0",
   "metadata": {
    "id": "142c7be0"
   },
   "outputs": [],
   "source": [
    "packet_scan['is_attack']=packet_scan['is_attack'].apply(attacktype,args=['scan_A'])"
   ]
  },
  {
   "cell_type": "code",
   "execution_count": 41,
   "id": "e7c07844",
   "metadata": {
    "id": "e7c07844"
   },
   "outputs": [],
   "source": [
    "packet_scanSU['is_attack']=packet_scanSU['is_attack'].apply(attacktype,args=['scan_SU'])"
   ]
  },
  {
   "cell_type": "code",
   "execution_count": 42,
   "id": "d78fe08e",
   "metadata": {
    "id": "d78fe08e"
   },
   "outputs": [],
   "source": [
    "packet_sparta['is_attack']=packet_sparta['is_attack'].apply(attacktype,args=['sparta'])"
   ]
  },
  {
   "cell_type": "markdown",
   "id": "CK7Xq2WdL9Uz",
   "metadata": {
    "id": "CK7Xq2WdL9Uz"
   },
   "source": [
    "### Combining Packet Data"
   ]
  },
  {
   "cell_type": "code",
   "execution_count": 43,
   "id": "8AVQJXSnMGr4",
   "metadata": {
    "id": "8AVQJXSnMGr4"
   },
   "outputs": [],
   "source": [
    "packet_df=pd.concat([packet_brute,packet_normal,packet_scan,packet_scanSU,packet_sparta])"
   ]
  },
  {
   "cell_type": "code",
   "execution_count": 44,
   "id": "1b6cc523",
   "metadata": {},
   "outputs": [],
   "source": [
    "packet_df = shuffle(packet_df)\n",
    "packet_df=packet_df.reset_index(drop=True)"
   ]
  },
  {
   "cell_type": "markdown",
   "id": "Ovjg0wEcgd1y",
   "metadata": {
    "id": "Ovjg0wEcgd1y"
   },
   "source": [
    "# Data Analysis"
   ]
  },
  {
   "cell_type": "markdown",
   "id": "vmUsnazIgi3s",
   "metadata": {
    "id": "vmUsnazIgi3s"
   },
   "source": [
    "## Biflow data distribution"
   ]
  },
  {
   "cell_type": "code",
   "execution_count": 45,
   "id": "6954ee3e",
   "metadata": {
    "colab": {
     "base_uri": "https://localhost:8080/"
    },
    "id": "6954ee3e",
    "outputId": "8c7011f4-39af-4a25-b3c3-8be0201513fb"
   },
   "outputs": [
    {
     "data": {
      "text/plain": [
       "bruteforce    14544\n",
       "normal         2152\n",
       "Name: is_attack, dtype: int64"
      ]
     },
     "execution_count": 45,
     "metadata": {},
     "output_type": "execute_result"
    }
   ],
   "source": [
    "bi_brute['is_attack'].value_counts()"
   ]
  },
  {
   "cell_type": "code",
   "execution_count": 46,
   "id": "dafaf96a",
   "metadata": {
    "colab": {
     "base_uri": "https://localhost:8080/"
    },
    "id": "dafaf96a",
    "outputId": "af9d56b6-7b73-47f6-ed6f-f46d647a7a11"
   },
   "outputs": [
    {
     "data": {
      "text/plain": [
       "normal    86008\n",
       "Name: is_attack, dtype: int64"
      ]
     },
     "execution_count": 46,
     "metadata": {},
     "output_type": "execute_result"
    }
   ],
   "source": [
    "bi_normal['is_attack'].value_counts()"
   ]
  },
  {
   "cell_type": "code",
   "execution_count": 47,
   "id": "6072d095",
   "metadata": {
    "colab": {
     "base_uri": "https://localhost:8080/"
    },
    "id": "6072d095",
    "outputId": "c883c22f-0088-4ff1-95ce-e02981aa2a2f"
   },
   "outputs": [
    {
     "data": {
      "text/plain": [
       "scan_A    19907\n",
       "normal     5786\n",
       "Name: is_attack, dtype: int64"
      ]
     },
     "execution_count": 47,
     "metadata": {},
     "output_type": "execute_result"
    }
   ],
   "source": [
    "bi_scan['is_attack'].value_counts()"
   ]
  },
  {
   "cell_type": "code",
   "execution_count": 48,
   "id": "8a628766",
   "metadata": {
    "colab": {
     "base_uri": "https://localhost:8080/"
    },
    "id": "8a628766",
    "outputId": "6f2e2782-b9c7-4d4c-e4b7-641c4adb9b1d"
   },
   "outputs": [
    {
     "data": {
      "text/plain": [
       "scan_SU    22434\n",
       "normal     17230\n",
       "Name: is_attack, dtype: int64"
      ]
     },
     "execution_count": 48,
     "metadata": {},
     "output_type": "execute_result"
    }
   ],
   "source": [
    "bi_scanSU['is_attack'].value_counts()"
   ]
  },
  {
   "cell_type": "code",
   "execution_count": 49,
   "id": "207680e8",
   "metadata": {
    "colab": {
     "base_uri": "https://localhost:8080/"
    },
    "id": "207680e8",
    "outputId": "70ae82e5-8de2-4610-993d-0f234d960092"
   },
   "outputs": [
    {
     "data": {
      "text/plain": [
       "normal    77202\n",
       "sparta    14116\n",
       "Name: is_attack, dtype: int64"
      ]
     },
     "execution_count": 49,
     "metadata": {},
     "output_type": "execute_result"
    }
   ],
   "source": [
    "bi_sparta['is_attack'].value_counts()"
   ]
  },
  {
   "cell_type": "code",
   "execution_count": 50,
   "id": "b6efe36e",
   "metadata": {
    "colab": {
     "base_uri": "https://localhost:8080/"
    },
    "id": "b6efe36e",
    "outputId": "ae6ce171-773f-4eba-b760-fd678ebf3117"
   },
   "outputs": [
    {
     "data": {
      "text/plain": [
       "normal        188378\n",
       "scan_SU        22434\n",
       "scan_A         19907\n",
       "bruteforce     14544\n",
       "sparta         14116\n",
       "Name: is_attack, dtype: int64"
      ]
     },
     "execution_count": 50,
     "metadata": {},
     "output_type": "execute_result"
    }
   ],
   "source": [
    "bi_df['is_attack'].value_counts()"
   ]
  },
  {
   "cell_type": "markdown",
   "id": "f8d99ebc",
   "metadata": {
    "id": "f8d99ebc"
   },
   "source": [
    "## Uniflow data distribution"
   ]
  },
  {
   "cell_type": "code",
   "execution_count": 51,
   "id": "fd774fb5",
   "metadata": {
    "colab": {
     "base_uri": "https://localhost:8080/"
    },
    "id": "fd774fb5",
    "outputId": "24f0e447-95ce-4730-c9d2-fa045a4092cd"
   },
   "outputs": [
    {
     "data": {
      "text/plain": [
       "bruteforce    28874\n",
       "normal         4205\n",
       "Name: is_attack, dtype: int64"
      ]
     },
     "execution_count": 51,
     "metadata": {},
     "output_type": "execute_result"
    }
   ],
   "source": [
    "uni_brute['is_attack'].value_counts()"
   ]
  },
  {
   "cell_type": "code",
   "execution_count": 52,
   "id": "0b3da4e7",
   "metadata": {
    "colab": {
     "base_uri": "https://localhost:8080/"
    },
    "id": "0b3da4e7",
    "outputId": "5f62fb41-bf24-4118-fd28-0b58ec4d96b1"
   },
   "outputs": [
    {
     "data": {
      "text/plain": [
       "normal    171836\n",
       "Name: is_attack, dtype: int64"
      ]
     },
     "execution_count": 52,
     "metadata": {},
     "output_type": "execute_result"
    }
   ],
   "source": [
    "uni_normal['is_attack'].value_counts()"
   ]
  },
  {
   "cell_type": "code",
   "execution_count": 53,
   "id": "2eb351a8",
   "metadata": {
    "colab": {
     "base_uri": "https://localhost:8080/"
    },
    "id": "2eb351a8",
    "outputId": "61c2458c-2986-4e86-f469-644aef36e6e3"
   },
   "outputs": [
    {
     "data": {
      "text/plain": [
       "scan_A    39797\n",
       "normal    11561\n",
       "Name: is_attack, dtype: int64"
      ]
     },
     "execution_count": 53,
     "metadata": {},
     "output_type": "execute_result"
    }
   ],
   "source": [
    "uni_scan['is_attack'].value_counts()"
   ]
  },
  {
   "cell_type": "code",
   "execution_count": 54,
   "id": "c2ed3681",
   "metadata": {
    "colab": {
     "base_uri": "https://localhost:8080/"
    },
    "id": "c2ed3681",
    "outputId": "5a1ad80d-5151-4761-a445-552d3451d89e"
   },
   "outputs": [
    {
     "data": {
      "text/plain": [
       "normal     34409\n",
       "scan_SU    22436\n",
       "Name: is_attack, dtype: int64"
      ]
     },
     "execution_count": 54,
     "metadata": {},
     "output_type": "execute_result"
    }
   ],
   "source": [
    "uni_scanSU['is_attack'].value_counts()"
   ]
  },
  {
   "cell_type": "code",
   "execution_count": 55,
   "id": "3d4223d9",
   "metadata": {
    "colab": {
     "base_uri": "https://localhost:8080/"
    },
    "id": "3d4223d9",
    "outputId": "29377918-ee40-4752-806d-ca257f8966ad"
   },
   "outputs": [
    {
     "data": {
      "text/plain": [
       "normal    154175\n",
       "sparta     28232\n",
       "Name: is_attack, dtype: int64"
      ]
     },
     "execution_count": 55,
     "metadata": {},
     "output_type": "execute_result"
    }
   ],
   "source": [
    "uni_sparta['is_attack'].value_counts()"
   ]
  },
  {
   "cell_type": "code",
   "execution_count": 56,
   "id": "4KnxvsYohJA4",
   "metadata": {
    "colab": {
     "base_uri": "https://localhost:8080/"
    },
    "id": "4KnxvsYohJA4",
    "outputId": "89851bb9-0516-40db-eedc-cca858f4cdb4"
   },
   "outputs": [
    {
     "data": {
      "text/plain": [
       "normal        376186\n",
       "scan_A         39797\n",
       "bruteforce     28874\n",
       "sparta         28232\n",
       "scan_SU        22436\n",
       "Name: is_attack, dtype: int64"
      ]
     },
     "execution_count": 56,
     "metadata": {},
     "output_type": "execute_result"
    }
   ],
   "source": [
    "uni_df['is_attack'].value_counts()"
   ]
  },
  {
   "cell_type": "markdown",
   "id": "57f49b21",
   "metadata": {
    "id": "57f49b21"
   },
   "source": [
    "## Packet flow data distribution"
   ]
  },
  {
   "cell_type": "code",
   "execution_count": 57,
   "id": "d2cf7363",
   "metadata": {
    "colab": {
     "base_uri": "https://localhost:8080/"
    },
    "id": "d2cf7363",
    "outputId": "ac7415da-5871-4a55-a392-c9c4c35c07c1"
   },
   "outputs": [
    {
     "data": {
      "text/plain": [
       "bruteforce    999861\n",
       "normal          3247\n",
       "Name: is_attack, dtype: int64"
      ]
     },
     "execution_count": 57,
     "metadata": {},
     "output_type": "execute_result"
    }
   ],
   "source": [
    "packet_brute['is_attack'].value_counts()"
   ]
  },
  {
   "cell_type": "code",
   "execution_count": 58,
   "id": "db4f9db0",
   "metadata": {
    "colab": {
     "base_uri": "https://localhost:8080/"
    },
    "id": "db4f9db0",
    "outputId": "531ac039-7faf-4a0c-8154-433b039a551f"
   },
   "outputs": [
    {
     "data": {
      "text/plain": [
       "normal    634156\n",
       "Name: is_attack, dtype: int64"
      ]
     },
     "execution_count": 58,
     "metadata": {},
     "output_type": "execute_result"
    }
   ],
   "source": [
    "packet_normal['is_attack'].value_counts()"
   ]
  },
  {
   "cell_type": "code",
   "execution_count": 59,
   "id": "674f4269",
   "metadata": {
    "colab": {
     "base_uri": "https://localhost:8080/"
    },
    "id": "674f4269",
    "outputId": "0eb85a50-6baf-4942-9cb5-da332bf3bcdd"
   },
   "outputs": [
    {
     "data": {
      "text/plain": [
       "normal    70768\n",
       "scan_A    40624\n",
       "Name: is_attack, dtype: int64"
      ]
     },
     "execution_count": 59,
     "metadata": {},
     "output_type": "execute_result"
    }
   ],
   "source": [
    "packet_scan['is_attack'].value_counts()"
   ]
  },
  {
   "cell_type": "code",
   "execution_count": 60,
   "id": "3dd6d471",
   "metadata": {
    "colab": {
     "base_uri": "https://localhost:8080/"
    },
    "id": "3dd6d471",
    "outputId": "3212e662-8549-41dc-8272-0985f7cdbe01"
   },
   "outputs": [
    {
     "data": {
      "text/plain": [
       "normal     210819\n",
       "scan_SU     22436\n",
       "Name: is_attack, dtype: int64"
      ]
     },
     "execution_count": 60,
     "metadata": {},
     "output_type": "execute_result"
    }
   ],
   "source": [
    "packet_scanSU['is_attack'].value_counts()"
   ]
  },
  {
   "cell_type": "code",
   "execution_count": 61,
   "id": "b0e379c2",
   "metadata": {
    "colab": {
     "base_uri": "https://localhost:8080/"
    },
    "id": "b0e379c2",
    "outputId": "9646ef62-5cbf-4138-a87e-bf6593d5113e"
   },
   "outputs": [
    {
     "data": {
      "text/plain": [
       "sparta    985933\n",
       "normal     47153\n",
       "Name: is_attack, dtype: int64"
      ]
     },
     "execution_count": 61,
     "metadata": {},
     "output_type": "execute_result"
    }
   ],
   "source": [
    "packet_sparta['is_attack'].value_counts()"
   ]
  },
  {
   "cell_type": "markdown",
   "id": "0XOn3nBIwluc",
   "metadata": {
    "id": "0XOn3nBIwluc"
   },
   "source": [
    "## Total data distribution"
   ]
  },
  {
   "cell_type": "code",
   "execution_count": 62,
   "id": "A1_PY0zcwo5i",
   "metadata": {
    "id": "A1_PY0zcwo5i"
   },
   "outputs": [],
   "source": [
    "filenames=['bruteforce','normal','Scan_A','Scan_sU','sparta']"
   ]
  },
  {
   "cell_type": "code",
   "execution_count": 63,
   "id": "X63P0OnixLSn",
   "metadata": {
    "id": "X63P0OnixLSn"
   },
   "outputs": [],
   "source": [
    "mux = pd.MultiIndex.from_product([['Number of packets','Number of UniFlow','Number of BiFlow'], ['Normal','Attack']])"
   ]
  },
  {
   "cell_type": "code",
   "execution_count": 64,
   "id": "cRrtXFCbxRDn",
   "metadata": {
    "id": "cRrtXFCbxRDn"
   },
   "outputs": [],
   "source": [
    "df_dist=pd.DataFrame(columns=mux)"
   ]
  },
  {
   "cell_type": "code",
   "execution_count": 65,
   "id": "CAQowcrrxXjX",
   "metadata": {
    "id": "CAQowcrrxXjX"
   },
   "outputs": [],
   "source": [
    "df_dist.insert(0,'File Name',filenames)"
   ]
  },
  {
   "cell_type": "code",
   "execution_count": 66,
   "id": "E__wkG1zzV8I",
   "metadata": {
    "id": "E__wkG1zzV8I"
   },
   "outputs": [],
   "source": [
    "df_dist['Number of packets','Normal']=[packet_brute['is_attack'].value_counts()['normal'],packet_normal['is_attack'].value_counts()['normal'],packet_scan['is_attack'].value_counts()['normal'],\n",
    "                              packet_scanSU['is_attack'].value_counts()['normal'],packet_sparta['is_attack'].value_counts()['normal']]\n",
    "df_dist['Number of packets','Attack']=[packet_brute['is_attack'].value_counts()['bruteforce'],0,packet_scan['is_attack'].value_counts()['scan_A'],\n",
    "                              packet_scanSU['is_attack'].value_counts()['scan_SU'],packet_sparta['is_attack'].value_counts()['sparta']]\n",
    "\n",
    "df_dist['Number of UniFlow','Normal']=[uni_brute['is_attack'].value_counts()['normal'],uni_normal['is_attack'].value_counts()['normal'],uni_scan['is_attack'].value_counts()['normal'],\n",
    "                              uni_scanSU['is_attack'].value_counts()['normal'],uni_sparta['is_attack'].value_counts()['normal']]\n",
    "df_dist['Number of UniFlow','Attack']=[uni_brute['is_attack'].value_counts()['bruteforce'],0,uni_scan['is_attack'].value_counts()['scan_A'],\n",
    "                              uni_scanSU['is_attack'].value_counts()['scan_SU'],uni_sparta['is_attack'].value_counts()['sparta']]      \n",
    "\n",
    "df_dist['Number of BiFlow','Normal']=[bi_brute['is_attack'].value_counts()['normal'],bi_normal['is_attack'].value_counts()['normal'],bi_scan['is_attack'].value_counts()['normal'],\n",
    "                              bi_scanSU['is_attack'].value_counts()['normal'],bi_sparta['is_attack'].value_counts()['normal']]\n",
    "df_dist['Number of BiFlow','Attack']=[bi_brute['is_attack'].value_counts()['bruteforce'],0,bi_scan['is_attack'].value_counts()['scan_A'],\n",
    "                              bi_scanSU['is_attack'].value_counts()['scan_SU'],bi_sparta['is_attack'].value_counts()['sparta']]                                                  "
   ]
  },
  {
   "cell_type": "code",
   "execution_count": 67,
   "id": "i-oqiiCC0hvG",
   "metadata": {
    "colab": {
     "base_uri": "https://localhost:8080/",
     "height": 237
    },
    "id": "i-oqiiCC0hvG",
    "outputId": "4d6b0e5b-848b-4a99-9f57-f7430c131798",
    "scrolled": true
   },
   "outputs": [
    {
     "data": {
      "text/html": [
       "<div>\n",
       "<style scoped>\n",
       "    .dataframe tbody tr th:only-of-type {\n",
       "        vertical-align: middle;\n",
       "    }\n",
       "\n",
       "    .dataframe tbody tr th {\n",
       "        vertical-align: top;\n",
       "    }\n",
       "\n",
       "    .dataframe thead tr th {\n",
       "        text-align: left;\n",
       "    }\n",
       "</style>\n",
       "<table border=\"1\" class=\"dataframe\">\n",
       "  <thead>\n",
       "    <tr>\n",
       "      <th></th>\n",
       "      <th>File Name</th>\n",
       "      <th colspan=\"2\" halign=\"left\">Number of packets</th>\n",
       "      <th colspan=\"2\" halign=\"left\">Number of UniFlow</th>\n",
       "      <th colspan=\"2\" halign=\"left\">Number of BiFlow</th>\n",
       "    </tr>\n",
       "    <tr>\n",
       "      <th></th>\n",
       "      <th></th>\n",
       "      <th>Normal</th>\n",
       "      <th>Attack</th>\n",
       "      <th>Normal</th>\n",
       "      <th>Attack</th>\n",
       "      <th>Normal</th>\n",
       "      <th>Attack</th>\n",
       "    </tr>\n",
       "  </thead>\n",
       "  <tbody>\n",
       "    <tr>\n",
       "      <th>0</th>\n",
       "      <td>bruteforce</td>\n",
       "      <td>3247</td>\n",
       "      <td>999861</td>\n",
       "      <td>4205</td>\n",
       "      <td>28874</td>\n",
       "      <td>2152</td>\n",
       "      <td>14544</td>\n",
       "    </tr>\n",
       "    <tr>\n",
       "      <th>1</th>\n",
       "      <td>normal</td>\n",
       "      <td>634156</td>\n",
       "      <td>0</td>\n",
       "      <td>171836</td>\n",
       "      <td>0</td>\n",
       "      <td>86008</td>\n",
       "      <td>0</td>\n",
       "    </tr>\n",
       "    <tr>\n",
       "      <th>2</th>\n",
       "      <td>Scan_A</td>\n",
       "      <td>70768</td>\n",
       "      <td>40624</td>\n",
       "      <td>11561</td>\n",
       "      <td>39797</td>\n",
       "      <td>5786</td>\n",
       "      <td>19907</td>\n",
       "    </tr>\n",
       "    <tr>\n",
       "      <th>3</th>\n",
       "      <td>Scan_sU</td>\n",
       "      <td>210819</td>\n",
       "      <td>22436</td>\n",
       "      <td>34409</td>\n",
       "      <td>22436</td>\n",
       "      <td>17230</td>\n",
       "      <td>22434</td>\n",
       "    </tr>\n",
       "    <tr>\n",
       "      <th>4</th>\n",
       "      <td>sparta</td>\n",
       "      <td>47153</td>\n",
       "      <td>985933</td>\n",
       "      <td>154175</td>\n",
       "      <td>28232</td>\n",
       "      <td>77202</td>\n",
       "      <td>14116</td>\n",
       "    </tr>\n",
       "  </tbody>\n",
       "</table>\n",
       "</div>"
      ],
      "text/plain": [
       "    File Name Number of packets         Number of UniFlow         \\\n",
       "                         Normal  Attack            Normal Attack   \n",
       "0  bruteforce              3247  999861              4205  28874   \n",
       "1      normal            634156       0            171836      0   \n",
       "2      Scan_A             70768   40624             11561  39797   \n",
       "3     Scan_sU            210819   22436             34409  22436   \n",
       "4      sparta             47153  985933            154175  28232   \n",
       "\n",
       "  Number of BiFlow         \n",
       "            Normal Attack  \n",
       "0             2152  14544  \n",
       "1            86008      0  \n",
       "2             5786  19907  \n",
       "3            17230  22434  \n",
       "4            77202  14116  "
      ]
     },
     "execution_count": 67,
     "metadata": {},
     "output_type": "execute_result"
    }
   ],
   "source": [
    "df_dist"
   ]
  },
  {
   "cell_type": "code",
   "execution_count": 68,
   "id": "02f42cc0",
   "metadata": {},
   "outputs": [
    {
     "data": {
      "text/plain": [
       "<AxesSubplot:>"
      ]
     },
     "execution_count": 68,
     "metadata": {},
     "output_type": "execute_result"
    },
    {
     "data": {
      "image/png": "[encoded data removed]",
      "text/plain": [
       "<Figure size 648x432 with 1 Axes>"
      ]
     },
     "metadata": {
      "needs_background": "light"
     },
     "output_type": "display_data"
    }
   ],
   "source": [
    "df_dist.iloc[:].plot(kind='bar',figsize=(9,6))"
   ]
  },
  {
   "cell_type": "markdown",
   "id": "PE7Jisx9yIDt",
   "metadata": {
    "id": "PE7Jisx9yIDt"
   },
   "source": [
    "# Data Preprocessing"
   ]
  },
  {
   "cell_type": "markdown",
   "id": "3b_RW3QJ4rud",
   "metadata": {
    "id": "3b_RW3QJ4rud"
   },
   "source": [
    "## Uni-Flow data"
   ]
  },
  {
   "cell_type": "code",
   "execution_count": 245,
   "id": "RIWp-g004v6u",
   "metadata": {
    "colab": {
     "base_uri": "https://localhost:8080/",
     "height": 270
    },
    "id": "RIWp-g004v6u",
    "outputId": "f4ccdc2b-82a8-48c9-b94c-9f8ac96aeffb",
    "scrolled": true
   },
   "outputs": [
    {
     "data": {
      "text/html": [
       "<div>\n",
       "<style scoped>\n",
       "    .dataframe tbody tr th:only-of-type {\n",
       "        vertical-align: middle;\n",
       "    }\n",
       "\n",
       "    .dataframe tbody tr th {\n",
       "        vertical-align: top;\n",
       "    }\n",
       "\n",
       "    .dataframe thead th {\n",
       "        text-align: right;\n",
       "    }\n",
       "</style>\n",
       "<table border=\"1\" class=\"dataframe\">\n",
       "  <thead>\n",
       "    <tr style=\"text-align: right;\">\n",
       "      <th></th>\n",
       "      <th>ip_src</th>\n",
       "      <th>ip_dst</th>\n",
       "      <th>prt_src</th>\n",
       "      <th>prt_dst</th>\n",
       "      <th>proto</th>\n",
       "      <th>num_pkts</th>\n",
       "      <th>mean_iat</th>\n",
       "      <th>std_iat</th>\n",
       "      <th>min_iat</th>\n",
       "      <th>max_iat</th>\n",
       "      <th>mean_pkt_len</th>\n",
       "      <th>num_bytes</th>\n",
       "      <th>num_psh_flags</th>\n",
       "      <th>num_rst_flags</th>\n",
       "      <th>num_urg_flags</th>\n",
       "      <th>std_pkt_len</th>\n",
       "      <th>min_pkt_len</th>\n",
       "      <th>max_pkt_len</th>\n",
       "      <th>is_attack</th>\n",
       "    </tr>\n",
       "  </thead>\n",
       "  <tbody>\n",
       "    <tr>\n",
       "      <th>0</th>\n",
       "      <td>10.0.0.17</td>\n",
       "      <td>192.168.1.7</td>\n",
       "      <td>45498</td>\n",
       "      <td>1883</td>\n",
       "      <td>6</td>\n",
       "      <td>7</td>\n",
       "      <td>0.000402</td>\n",
       "      <td>0.000395</td>\n",
       "      <td>0.000027</td>\n",
       "      <td>0.001236</td>\n",
       "      <td>63.571429</td>\n",
       "      <td>445</td>\n",
       "      <td>3</td>\n",
       "      <td>0</td>\n",
       "      <td>0</td>\n",
       "      <td>17.203464</td>\n",
       "      <td>52.0</td>\n",
       "      <td>102.0</td>\n",
       "      <td>normal</td>\n",
       "    </tr>\n",
       "    <tr>\n",
       "      <th>1</th>\n",
       "      <td>192.168.2.5</td>\n",
       "      <td>192.168.1.7</td>\n",
       "      <td>51509</td>\n",
       "      <td>1883</td>\n",
       "      <td>6</td>\n",
       "      <td>351</td>\n",
       "      <td>3.286615</td>\n",
       "      <td>10.063522</td>\n",
       "      <td>0.000005</td>\n",
       "      <td>73.259551</td>\n",
       "      <td>59.849003</td>\n",
       "      <td>21007</td>\n",
       "      <td>70</td>\n",
       "      <td>0</td>\n",
       "      <td>0</td>\n",
       "      <td>12.154396</td>\n",
       "      <td>52.0</td>\n",
       "      <td>88.0</td>\n",
       "      <td>bruteforce</td>\n",
       "    </tr>\n",
       "    <tr>\n",
       "      <th>2</th>\n",
       "      <td>10.0.0.23</td>\n",
       "      <td>8.8.8.8</td>\n",
       "      <td>35493</td>\n",
       "      <td>53</td>\n",
       "      <td>17</td>\n",
       "      <td>2</td>\n",
       "      <td>5.249260</td>\n",
       "      <td>0.000000</td>\n",
       "      <td>5.249260</td>\n",
       "      <td>5.249260</td>\n",
       "      <td>75.000000</td>\n",
       "      <td>150</td>\n",
       "      <td>0</td>\n",
       "      <td>0</td>\n",
       "      <td>0</td>\n",
       "      <td>0.000000</td>\n",
       "      <td>75.0</td>\n",
       "      <td>75.0</td>\n",
       "      <td>normal</td>\n",
       "    </tr>\n",
       "    <tr>\n",
       "      <th>3</th>\n",
       "      <td>10.0.0.12</td>\n",
       "      <td>192.168.1.7</td>\n",
       "      <td>33308</td>\n",
       "      <td>1883</td>\n",
       "      <td>6</td>\n",
       "      <td>7</td>\n",
       "      <td>0.000268</td>\n",
       "      <td>0.000214</td>\n",
       "      <td>0.000058</td>\n",
       "      <td>0.000573</td>\n",
       "      <td>66.285714</td>\n",
       "      <td>464</td>\n",
       "      <td>3</td>\n",
       "      <td>0</td>\n",
       "      <td>0</td>\n",
       "      <td>19.717391</td>\n",
       "      <td>52.0</td>\n",
       "      <td>101.0</td>\n",
       "      <td>normal</td>\n",
       "    </tr>\n",
       "    <tr>\n",
       "      <th>4</th>\n",
       "      <td>10.0.0.19</td>\n",
       "      <td>192.168.2.5</td>\n",
       "      <td>44176</td>\n",
       "      <td>35087</td>\n",
       "      <td>6</td>\n",
       "      <td>1</td>\n",
       "      <td>0.000000</td>\n",
       "      <td>0.000000</td>\n",
       "      <td>0.000000</td>\n",
       "      <td>0.000000</td>\n",
       "      <td>40.000000</td>\n",
       "      <td>40</td>\n",
       "      <td>0</td>\n",
       "      <td>1</td>\n",
       "      <td>0</td>\n",
       "      <td>0.000000</td>\n",
       "      <td>40.0</td>\n",
       "      <td>40.0</td>\n",
       "      <td>scan_A</td>\n",
       "    </tr>\n",
       "  </tbody>\n",
       "</table>\n",
       "</div>"
      ],
      "text/plain": [
       "        ip_src       ip_dst  prt_src  prt_dst  proto  num_pkts  mean_iat  \\\n",
       "0    10.0.0.17  192.168.1.7    45498     1883      6         7  0.000402   \n",
       "1  192.168.2.5  192.168.1.7    51509     1883      6       351  3.286615   \n",
       "2    10.0.0.23      8.8.8.8    35493       53     17         2  5.249260   \n",
       "3    10.0.0.12  192.168.1.7    33308     1883      6         7  0.000268   \n",
       "4    10.0.0.19  192.168.2.5    44176    35087      6         1  0.000000   \n",
       "\n",
       "     std_iat   min_iat    max_iat  mean_pkt_len  num_bytes  num_psh_flags  \\\n",
       "0   0.000395  0.000027   0.001236     63.571429        445              3   \n",
       "1  10.063522  0.000005  73.259551     59.849003      21007             70   \n",
       "2   0.000000  5.249260   5.249260     75.000000        150              0   \n",
       "3   0.000214  0.000058   0.000573     66.285714        464              3   \n",
       "4   0.000000  0.000000   0.000000     40.000000         40              0   \n",
       "\n",
       "   num_rst_flags  num_urg_flags  std_pkt_len  min_pkt_len  max_pkt_len  \\\n",
       "0              0              0    17.203464         52.0        102.0   \n",
       "1              0              0    12.154396         52.0         88.0   \n",
       "2              0              0     0.000000         75.0         75.0   \n",
       "3              0              0    19.717391         52.0        101.0   \n",
       "4              1              0     0.000000         40.0         40.0   \n",
       "\n",
       "    is_attack  \n",
       "0      normal  \n",
       "1  bruteforce  \n",
       "2      normal  \n",
       "3      normal  \n",
       "4      scan_A  "
      ]
     },
     "execution_count": 245,
     "metadata": {},
     "output_type": "execute_result"
    }
   ],
   "source": [
    "uni_df.head(5)"
   ]
  },
  {
   "cell_type": "markdown",
   "id": "_8_GEQTp4wzQ",
   "metadata": {
    "id": "_8_GEQTp4wzQ"
   },
   "source": [
    "**Removing ip_src and ip_dst to eliminate feature Influence**"
   ]
  },
  {
   "cell_type": "code",
   "execution_count": 246,
   "id": "xGidS-964wka",
   "metadata": {
    "id": "xGidS-964wka"
   },
   "outputs": [],
   "source": [
    "uni_df.drop(['ip_src','ip_dst','proto'],axis=1,inplace=True)"
   ]
  },
  {
   "cell_type": "markdown",
   "id": "yPou20EF57Zz",
   "metadata": {
    "id": "yPou20EF57Zz"
   },
   "source": [
    "**Checking for categorical columns**"
   ]
  },
  {
   "cell_type": "code",
   "execution_count": 247,
   "id": "mf11_WiN4v2W",
   "metadata": {
    "colab": {
     "base_uri": "https://localhost:8080/"
    },
    "id": "mf11_WiN4v2W",
    "outputId": "bc4a6f69-6313-4332-ccc2-3b81248cf0bf"
   },
   "outputs": [
    {
     "data": {
      "text/plain": [
       "['is_attack']"
      ]
     },
     "execution_count": 247,
     "metadata": {},
     "output_type": "execute_result"
    }
   ],
   "source": [
    "uni_df.select_dtypes(include=['object']).columns.tolist()"
   ]
  },
  {
   "cell_type": "markdown",
   "id": "Kgvl2elZ6CZf",
   "metadata": {
    "id": "Kgvl2elZ6CZf"
   },
   "source": [
    "No categorical columns except is_attack which is label column"
   ]
  },
  {
   "cell_type": "markdown",
   "id": "hE2UA1uB7Pkr",
   "metadata": {
    "id": "hE2UA1uB7Pkr"
   },
   "source": [
    "### Dropping Highly Correlated features"
   ]
  },
  {
   "cell_type": "code",
   "execution_count": 248,
   "id": "jFQOlBFr4vxv",
   "metadata": {
    "id": "jFQOlBFr4vxv"
   },
   "outputs": [],
   "source": [
    "cor_matrix = uni_df.corr().abs()"
   ]
  },
  {
   "cell_type": "code",
   "execution_count": 249,
   "id": "kv0CWysu4vtT",
   "metadata": {
    "colab": {
     "base_uri": "https://localhost:8080/"
    },
    "id": "kv0CWysu4vtT",
    "outputId": "e7fb5508-73ac-4fef-d6a4-160fa30b21f9"
   },
   "outputs": [
    {
     "name": "stderr",
     "output_type": "stream",
     "text": [
      "C:\\Users\\rafay\\AppData\\Local\\Temp\\ipykernel_15232\\3673341754.py:1: DeprecationWarning: `np.bool` is a deprecated alias for the builtin `bool`. To silence this warning, use `bool` by itself. Doing this will not modify any behavior and is safe. If you specifically wanted the numpy scalar type, use `np.bool_` here.\n",
      "Deprecated in NumPy 1.20; for more details and guidance: https://numpy.org/devdocs/release/1.20.0-notes.html#deprecations\n",
      "  upper_tri = cor_matrix.where(np.triu(np.ones(cor_matrix.shape),k=1).astype(np.bool))\n"
     ]
    }
   ],
   "source": [
    "upper_tri = cor_matrix.where(np.triu(np.ones(cor_matrix.shape),k=1).astype(np.bool))"
   ]
  },
  {
   "cell_type": "code",
   "execution_count": 250,
   "id": "vAcV7Hvc4vpE",
   "metadata": {
    "id": "vAcV7Hvc4vpE"
   },
   "outputs": [],
   "source": [
    "to_drop_uni = [column for column in upper_tri.columns if any(upper_tri[column] > 0.95)]"
   ]
  },
  {
   "cell_type": "code",
   "execution_count": 251,
   "id": "A_f540hR4vKa",
   "metadata": {
    "id": "A_f540hR4vKa"
   },
   "outputs": [],
   "source": [
    "uni_df=uni_df.drop(to_drop_uni, axis=1)"
   ]
  },
  {
   "cell_type": "code",
   "execution_count": 252,
   "id": "hGPMSqImOW_A",
   "metadata": {
    "id": "hGPMSqImOW_A"
   },
   "outputs": [],
   "source": [
    "to_drop_uni.append('ip_src')\n",
    "to_drop_uni.append('ip_dst')\n",
    "to_drop_uni.append('proto')"
   ]
  },
  {
   "cell_type": "code",
   "execution_count": 253,
   "id": "6eKsgYHX7YmM",
   "metadata": {
    "colab": {
     "base_uri": "https://localhost:8080/"
    },
    "id": "6eKsgYHX7YmM",
    "outputId": "46f58d58-7e2f-4c18-d876-1983fb8bdf26"
   },
   "outputs": [
    {
     "data": {
      "text/plain": [
       "(495525, 14)"
      ]
     },
     "execution_count": 253,
     "metadata": {},
     "output_type": "execute_result"
    }
   ],
   "source": [
    "uni_df.shape"
   ]
  },
  {
   "cell_type": "markdown",
   "id": "ReUhEuJ04xmq",
   "metadata": {
    "id": "ReUhEuJ04xmq"
   },
   "source": [
    "## Bi-Flow data"
   ]
  },
  {
   "cell_type": "code",
   "execution_count": 78,
   "id": "nFZ6cQbk7jgv",
   "metadata": {
    "colab": {
     "base_uri": "https://localhost:8080/",
     "height": 299
    },
    "id": "nFZ6cQbk7jgv",
    "outputId": "11b9dea5-7ddc-4df3-b3f4-211b1c1b8bd4"
   },
   "outputs": [
    {
     "data": {
      "text/html": [
       "<div>\n",
       "<style scoped>\n",
       "    .dataframe tbody tr th:only-of-type {\n",
       "        vertical-align: middle;\n",
       "    }\n",
       "\n",
       "    .dataframe tbody tr th {\n",
       "        vertical-align: top;\n",
       "    }\n",
       "\n",
       "    .dataframe thead th {\n",
       "        text-align: right;\n",
       "    }\n",
       "</style>\n",
       "<table border=\"1\" class=\"dataframe\">\n",
       "  <thead>\n",
       "    <tr style=\"text-align: right;\">\n",
       "      <th></th>\n",
       "      <th>ip_src</th>\n",
       "      <th>ip_dst</th>\n",
       "      <th>prt_src</th>\n",
       "      <th>prt_dst</th>\n",
       "      <th>proto</th>\n",
       "      <th>fwd_num_pkts</th>\n",
       "      <th>bwd_num_pkts</th>\n",
       "      <th>fwd_mean_iat</th>\n",
       "      <th>bwd_mean_iat</th>\n",
       "      <th>fwd_std_iat</th>\n",
       "      <th>...</th>\n",
       "      <th>bwd_max_pkt_len</th>\n",
       "      <th>fwd_num_bytes</th>\n",
       "      <th>bwd_num_bytes</th>\n",
       "      <th>fwd_num_psh_flags</th>\n",
       "      <th>bwd_num_psh_flags</th>\n",
       "      <th>fwd_num_rst_flags</th>\n",
       "      <th>bwd_num_rst_flags</th>\n",
       "      <th>fwd_num_urg_flags</th>\n",
       "      <th>bwd_num_urg_flags</th>\n",
       "      <th>is_attack</th>\n",
       "    </tr>\n",
       "  </thead>\n",
       "  <tbody>\n",
       "    <tr>\n",
       "      <th>0</th>\n",
       "      <td>10.0.0.23</td>\n",
       "      <td>10.0.0.1</td>\n",
       "      <td>59422</td>\n",
       "      <td>53</td>\n",
       "      <td>17</td>\n",
       "      <td>2</td>\n",
       "      <td>2</td>\n",
       "      <td>3540.832641</td>\n",
       "      <td>3540.832633</td>\n",
       "      <td>0.000000</td>\n",
       "      <td>...</td>\n",
       "      <td>75.0</td>\n",
       "      <td>157</td>\n",
       "      <td>135</td>\n",
       "      <td>0</td>\n",
       "      <td>0</td>\n",
       "      <td>0</td>\n",
       "      <td>0</td>\n",
       "      <td>0</td>\n",
       "      <td>0</td>\n",
       "      <td>normal</td>\n",
       "    </tr>\n",
       "    <tr>\n",
       "      <th>1</th>\n",
       "      <td>10.0.0.5</td>\n",
       "      <td>192.168.1.7</td>\n",
       "      <td>56008</td>\n",
       "      <td>1883</td>\n",
       "      <td>6</td>\n",
       "      <td>7</td>\n",
       "      <td>5</td>\n",
       "      <td>0.000405</td>\n",
       "      <td>0.000506</td>\n",
       "      <td>0.000436</td>\n",
       "      <td>...</td>\n",
       "      <td>60.0</td>\n",
       "      <td>445</td>\n",
       "      <td>272</td>\n",
       "      <td>3</td>\n",
       "      <td>1</td>\n",
       "      <td>0</td>\n",
       "      <td>0</td>\n",
       "      <td>0</td>\n",
       "      <td>0</td>\n",
       "      <td>normal</td>\n",
       "    </tr>\n",
       "    <tr>\n",
       "      <th>2</th>\n",
       "      <td>10.0.0.16</td>\n",
       "      <td>192.168.1.7</td>\n",
       "      <td>35024</td>\n",
       "      <td>1883</td>\n",
       "      <td>6</td>\n",
       "      <td>7</td>\n",
       "      <td>5</td>\n",
       "      <td>0.000291</td>\n",
       "      <td>0.000323</td>\n",
       "      <td>0.000275</td>\n",
       "      <td>...</td>\n",
       "      <td>60.0</td>\n",
       "      <td>444</td>\n",
       "      <td>272</td>\n",
       "      <td>3</td>\n",
       "      <td>1</td>\n",
       "      <td>0</td>\n",
       "      <td>0</td>\n",
       "      <td>0</td>\n",
       "      <td>0</td>\n",
       "      <td>normal</td>\n",
       "    </tr>\n",
       "    <tr>\n",
       "      <th>3</th>\n",
       "      <td>10.0.0.16</td>\n",
       "      <td>192.168.1.7</td>\n",
       "      <td>55366</td>\n",
       "      <td>1883</td>\n",
       "      <td>6</td>\n",
       "      <td>7</td>\n",
       "      <td>5</td>\n",
       "      <td>0.000341</td>\n",
       "      <td>0.000394</td>\n",
       "      <td>0.000341</td>\n",
       "      <td>...</td>\n",
       "      <td>60.0</td>\n",
       "      <td>444</td>\n",
       "      <td>272</td>\n",
       "      <td>3</td>\n",
       "      <td>1</td>\n",
       "      <td>0</td>\n",
       "      <td>0</td>\n",
       "      <td>0</td>\n",
       "      <td>0</td>\n",
       "      <td>normal</td>\n",
       "    </tr>\n",
       "    <tr>\n",
       "      <th>4</th>\n",
       "      <td>10.0.0.16</td>\n",
       "      <td>192.168.1.7</td>\n",
       "      <td>60402</td>\n",
       "      <td>1883</td>\n",
       "      <td>6</td>\n",
       "      <td>7</td>\n",
       "      <td>5</td>\n",
       "      <td>0.000562</td>\n",
       "      <td>0.000657</td>\n",
       "      <td>0.000551</td>\n",
       "      <td>...</td>\n",
       "      <td>60.0</td>\n",
       "      <td>444</td>\n",
       "      <td>272</td>\n",
       "      <td>3</td>\n",
       "      <td>1</td>\n",
       "      <td>0</td>\n",
       "      <td>0</td>\n",
       "      <td>0</td>\n",
       "      <td>0</td>\n",
       "      <td>normal</td>\n",
       "    </tr>\n",
       "  </tbody>\n",
       "</table>\n",
       "<p>5 rows × 32 columns</p>\n",
       "</div>"
      ],
      "text/plain": [
       "      ip_src       ip_dst  prt_src  prt_dst  proto  fwd_num_pkts  \\\n",
       "0  10.0.0.23     10.0.0.1    59422       53     17             2   \n",
       "1   10.0.0.5  192.168.1.7    56008     1883      6             7   \n",
       "2  10.0.0.16  192.168.1.7    35024     1883      6             7   \n",
       "3  10.0.0.16  192.168.1.7    55366     1883      6             7   \n",
       "4  10.0.0.16  192.168.1.7    60402     1883      6             7   \n",
       "\n",
       "   bwd_num_pkts  fwd_mean_iat  bwd_mean_iat  fwd_std_iat  ...  \\\n",
       "0             2   3540.832641   3540.832633     0.000000  ...   \n",
       "1             5      0.000405      0.000506     0.000436  ...   \n",
       "2             5      0.000291      0.000323     0.000275  ...   \n",
       "3             5      0.000341      0.000394     0.000341  ...   \n",
       "4             5      0.000562      0.000657     0.000551  ...   \n",
       "\n",
       "   bwd_max_pkt_len  fwd_num_bytes  bwd_num_bytes  fwd_num_psh_flags  \\\n",
       "0             75.0            157            135                  0   \n",
       "1             60.0            445            272                  3   \n",
       "2             60.0            444            272                  3   \n",
       "3             60.0            444            272                  3   \n",
       "4             60.0            444            272                  3   \n",
       "\n",
       "   bwd_num_psh_flags  fwd_num_rst_flags  bwd_num_rst_flags  fwd_num_urg_flags  \\\n",
       "0                  0                  0                  0                  0   \n",
       "1                  1                  0                  0                  0   \n",
       "2                  1                  0                  0                  0   \n",
       "3                  1                  0                  0                  0   \n",
       "4                  1                  0                  0                  0   \n",
       "\n",
       "   bwd_num_urg_flags  is_attack  \n",
       "0                  0     normal  \n",
       "1                  0     normal  \n",
       "2                  0     normal  \n",
       "3                  0     normal  \n",
       "4                  0     normal  \n",
       "\n",
       "[5 rows x 32 columns]"
      ]
     },
     "execution_count": 78,
     "metadata": {},
     "output_type": "execute_result"
    }
   ],
   "source": [
    "bi_df.head(5)"
   ]
  },
  {
   "cell_type": "markdown",
   "id": "Yxw4UiiS7jgz",
   "metadata": {
    "id": "Yxw4UiiS7jgz"
   },
   "source": [
    "**Removing ip_src and ip_dst to eliminate feature Influence**"
   ]
  },
  {
   "cell_type": "code",
   "execution_count": 79,
   "id": "ykIEZYoK7jgz",
   "metadata": {
    "id": "ykIEZYoK7jgz"
   },
   "outputs": [],
   "source": [
    "bi_df.drop(['ip_src','ip_dst','proto'],axis=1,inplace=True)"
   ]
  },
  {
   "cell_type": "markdown",
   "id": "42sGbddX7jg0",
   "metadata": {
    "id": "42sGbddX7jg0"
   },
   "source": [
    "**Checking for categorical columns**"
   ]
  },
  {
   "cell_type": "code",
   "execution_count": 80,
   "id": "BG2jt7mi7jg0",
   "metadata": {
    "colab": {
     "base_uri": "https://localhost:8080/"
    },
    "id": "BG2jt7mi7jg0",
    "outputId": "36dd1ff7-551f-4b89-aff4-3c0cc4bcee4b"
   },
   "outputs": [
    {
     "data": {
      "text/plain": [
       "['is_attack']"
      ]
     },
     "execution_count": 80,
     "metadata": {},
     "output_type": "execute_result"
    }
   ],
   "source": [
    "bi_df.select_dtypes(include=['object']).columns.tolist()"
   ]
  },
  {
   "cell_type": "markdown",
   "id": "X58eMai97jg0",
   "metadata": {
    "id": "X58eMai97jg0"
   },
   "source": [
    "No categorical columns except is_attack which is label column"
   ]
  },
  {
   "cell_type": "markdown",
   "id": "s_1Vr5xc7jg1",
   "metadata": {
    "id": "s_1Vr5xc7jg1"
   },
   "source": [
    "### Dropping Highly Correlated features"
   ]
  },
  {
   "cell_type": "code",
   "execution_count": 81,
   "id": "GY3mwycQ7jg1",
   "metadata": {
    "id": "GY3mwycQ7jg1"
   },
   "outputs": [],
   "source": [
    "cor_matrix = bi_df.corr().abs()"
   ]
  },
  {
   "cell_type": "code",
   "execution_count": 82,
   "id": "XQaAOSf87jg1",
   "metadata": {
    "colab": {
     "base_uri": "https://localhost:8080/"
    },
    "id": "XQaAOSf87jg1",
    "outputId": "8b0c5912-0e0d-4021-b534-d4423c5a618c"
   },
   "outputs": [
    {
     "name": "stderr",
     "output_type": "stream",
     "text": [
      "C:\\Users\\rafay\\AppData\\Local\\Temp\\ipykernel_15232\\3673341754.py:1: DeprecationWarning: `np.bool` is a deprecated alias for the builtin `bool`. To silence this warning, use `bool` by itself. Doing this will not modify any behavior and is safe. If you specifically wanted the numpy scalar type, use `np.bool_` here.\n",
      "Deprecated in NumPy 1.20; for more details and guidance: https://numpy.org/devdocs/release/1.20.0-notes.html#deprecations\n",
      "  upper_tri = cor_matrix.where(np.triu(np.ones(cor_matrix.shape),k=1).astype(np.bool))\n"
     ]
    }
   ],
   "source": [
    "upper_tri = cor_matrix.where(np.triu(np.ones(cor_matrix.shape),k=1).astype(np.bool))"
   ]
  },
  {
   "cell_type": "code",
   "execution_count": 83,
   "id": "PsYIR_hO7jg1",
   "metadata": {
    "id": "PsYIR_hO7jg1"
   },
   "outputs": [],
   "source": [
    "to_drop_bi = [column for column in upper_tri.columns if any(upper_tri[column] > 0.95)]"
   ]
  },
  {
   "cell_type": "code",
   "execution_count": 84,
   "id": "dw0pvr8s7jg2",
   "metadata": {
    "id": "dw0pvr8s7jg2"
   },
   "outputs": [],
   "source": [
    "bi_df=bi_df.drop(to_drop_bi, axis=1)"
   ]
  },
  {
   "cell_type": "code",
   "execution_count": 85,
   "id": "tqO7u5YjOmXF",
   "metadata": {
    "id": "tqO7u5YjOmXF"
   },
   "outputs": [],
   "source": [
    "to_drop_bi.append('ip_src')\n",
    "to_drop_bi.append('ip_dst')\n",
    "to_drop_bi.append('proto')"
   ]
  },
  {
   "cell_type": "code",
   "execution_count": 86,
   "id": "8TmOZHd97jg2",
   "metadata": {
    "colab": {
     "base_uri": "https://localhost:8080/"
    },
    "id": "8TmOZHd97jg2",
    "outputId": "b63777f1-a686-4fb2-e468-99b2f0364ed0"
   },
   "outputs": [
    {
     "data": {
      "text/plain": [
       "(259379, 16)"
      ]
     },
     "execution_count": 86,
     "metadata": {},
     "output_type": "execute_result"
    }
   ],
   "source": [
    "bi_df.shape"
   ]
  },
  {
   "cell_type": "code",
   "execution_count": 87,
   "id": "d4fe82d2",
   "metadata": {},
   "outputs": [
    {
     "data": {
      "text/html": [
       "<div>\n",
       "<style scoped>\n",
       "    .dataframe tbody tr th:only-of-type {\n",
       "        vertical-align: middle;\n",
       "    }\n",
       "\n",
       "    .dataframe tbody tr th {\n",
       "        vertical-align: top;\n",
       "    }\n",
       "\n",
       "    .dataframe thead th {\n",
       "        text-align: right;\n",
       "    }\n",
       "</style>\n",
       "<table border=\"1\" class=\"dataframe\">\n",
       "  <thead>\n",
       "    <tr style=\"text-align: right;\">\n",
       "      <th></th>\n",
       "      <th>prt_src</th>\n",
       "      <th>prt_dst</th>\n",
       "      <th>fwd_num_pkts</th>\n",
       "      <th>fwd_mean_iat</th>\n",
       "      <th>fwd_std_iat</th>\n",
       "      <th>fwd_max_iat</th>\n",
       "      <th>fwd_mean_pkt_len</th>\n",
       "      <th>bwd_mean_pkt_len</th>\n",
       "      <th>fwd_std_pkt_len</th>\n",
       "      <th>bwd_std_pkt_len</th>\n",
       "      <th>fwd_min_pkt_len</th>\n",
       "      <th>fwd_num_bytes</th>\n",
       "      <th>fwd_num_rst_flags</th>\n",
       "      <th>fwd_num_urg_flags</th>\n",
       "      <th>bwd_num_urg_flags</th>\n",
       "      <th>is_attack</th>\n",
       "    </tr>\n",
       "  </thead>\n",
       "  <tbody>\n",
       "    <tr>\n",
       "      <th>0</th>\n",
       "      <td>59422</td>\n",
       "      <td>53</td>\n",
       "      <td>2</td>\n",
       "      <td>3540.832641</td>\n",
       "      <td>0.000000</td>\n",
       "      <td>3540.832641</td>\n",
       "      <td>78.500000</td>\n",
       "      <td>67.5</td>\n",
       "      <td>7.500000</td>\n",
       "      <td>7.5</td>\n",
       "      <td>71.0</td>\n",
       "      <td>157</td>\n",
       "      <td>0</td>\n",
       "      <td>0</td>\n",
       "      <td>0</td>\n",
       "      <td>normal</td>\n",
       "    </tr>\n",
       "    <tr>\n",
       "      <th>1</th>\n",
       "      <td>56008</td>\n",
       "      <td>1883</td>\n",
       "      <td>7</td>\n",
       "      <td>0.000405</td>\n",
       "      <td>0.000436</td>\n",
       "      <td>0.001319</td>\n",
       "      <td>63.571429</td>\n",
       "      <td>54.4</td>\n",
       "      <td>17.203464</td>\n",
       "      <td>3.2</td>\n",
       "      <td>52.0</td>\n",
       "      <td>445</td>\n",
       "      <td>0</td>\n",
       "      <td>0</td>\n",
       "      <td>0</td>\n",
       "      <td>normal</td>\n",
       "    </tr>\n",
       "    <tr>\n",
       "      <th>2</th>\n",
       "      <td>35024</td>\n",
       "      <td>1883</td>\n",
       "      <td>7</td>\n",
       "      <td>0.000291</td>\n",
       "      <td>0.000275</td>\n",
       "      <td>0.000755</td>\n",
       "      <td>63.428571</td>\n",
       "      <td>54.4</td>\n",
       "      <td>16.884965</td>\n",
       "      <td>3.2</td>\n",
       "      <td>52.0</td>\n",
       "      <td>444</td>\n",
       "      <td>0</td>\n",
       "      <td>0</td>\n",
       "      <td>0</td>\n",
       "      <td>normal</td>\n",
       "    </tr>\n",
       "    <tr>\n",
       "      <th>3</th>\n",
       "      <td>55366</td>\n",
       "      <td>1883</td>\n",
       "      <td>7</td>\n",
       "      <td>0.000341</td>\n",
       "      <td>0.000341</td>\n",
       "      <td>0.000949</td>\n",
       "      <td>63.428571</td>\n",
       "      <td>54.4</td>\n",
       "      <td>17.128565</td>\n",
       "      <td>3.2</td>\n",
       "      <td>52.0</td>\n",
       "      <td>444</td>\n",
       "      <td>0</td>\n",
       "      <td>0</td>\n",
       "      <td>0</td>\n",
       "      <td>normal</td>\n",
       "    </tr>\n",
       "    <tr>\n",
       "      <th>4</th>\n",
       "      <td>60402</td>\n",
       "      <td>1883</td>\n",
       "      <td>7</td>\n",
       "      <td>0.000562</td>\n",
       "      <td>0.000551</td>\n",
       "      <td>0.001528</td>\n",
       "      <td>63.428571</td>\n",
       "      <td>54.4</td>\n",
       "      <td>16.884965</td>\n",
       "      <td>3.2</td>\n",
       "      <td>52.0</td>\n",
       "      <td>444</td>\n",
       "      <td>0</td>\n",
       "      <td>0</td>\n",
       "      <td>0</td>\n",
       "      <td>normal</td>\n",
       "    </tr>\n",
       "  </tbody>\n",
       "</table>\n",
       "</div>"
      ],
      "text/plain": [
       "   prt_src  prt_dst  fwd_num_pkts  fwd_mean_iat  fwd_std_iat  fwd_max_iat  \\\n",
       "0    59422       53             2   3540.832641     0.000000  3540.832641   \n",
       "1    56008     1883             7      0.000405     0.000436     0.001319   \n",
       "2    35024     1883             7      0.000291     0.000275     0.000755   \n",
       "3    55366     1883             7      0.000341     0.000341     0.000949   \n",
       "4    60402     1883             7      0.000562     0.000551     0.001528   \n",
       "\n",
       "   fwd_mean_pkt_len  bwd_mean_pkt_len  fwd_std_pkt_len  bwd_std_pkt_len  \\\n",
       "0         78.500000              67.5         7.500000              7.5   \n",
       "1         63.571429              54.4        17.203464              3.2   \n",
       "2         63.428571              54.4        16.884965              3.2   \n",
       "3         63.428571              54.4        17.128565              3.2   \n",
       "4         63.428571              54.4        16.884965              3.2   \n",
       "\n",
       "   fwd_min_pkt_len  fwd_num_bytes  fwd_num_rst_flags  fwd_num_urg_flags  \\\n",
       "0             71.0            157                  0                  0   \n",
       "1             52.0            445                  0                  0   \n",
       "2             52.0            444                  0                  0   \n",
       "3             52.0            444                  0                  0   \n",
       "4             52.0            444                  0                  0   \n",
       "\n",
       "   bwd_num_urg_flags is_attack  \n",
       "0                  0    normal  \n",
       "1                  0    normal  \n",
       "2                  0    normal  \n",
       "3                  0    normal  \n",
       "4                  0    normal  "
      ]
     },
     "execution_count": 87,
     "metadata": {},
     "output_type": "execute_result"
    }
   ],
   "source": [
    "bi_df.head(5)"
   ]
  },
  {
   "cell_type": "markdown",
   "id": "rH2Mxmr640s8",
   "metadata": {
    "id": "rH2Mxmr640s8"
   },
   "source": [
    "## Packet data"
   ]
  },
  {
   "cell_type": "markdown",
   "id": "n7l3f_LPOOn9",
   "metadata": {
    "id": "n7l3f_LPOOn9"
   },
   "source": [
    "### Dropping Highly Correlated features"
   ]
  },
  {
   "cell_type": "code",
   "execution_count": 88,
   "id": "onR4i0MKOOn-",
   "metadata": {
    "id": "onR4i0MKOOn-"
   },
   "outputs": [],
   "source": [
    "cor_matrix = packet_df.corr().abs()"
   ]
  },
  {
   "cell_type": "code",
   "execution_count": 89,
   "id": "4QW1ARPZOOn-",
   "metadata": {
    "colab": {
     "base_uri": "https://localhost:8080/"
    },
    "id": "4QW1ARPZOOn-",
    "outputId": "39137fa8-30c0-4a07-cef4-c6d8e8456517"
   },
   "outputs": [
    {
     "name": "stderr",
     "output_type": "stream",
     "text": [
      "C:\\Users\\rafay\\AppData\\Local\\Temp\\ipykernel_15232\\3673341754.py:1: DeprecationWarning: `np.bool` is a deprecated alias for the builtin `bool`. To silence this warning, use `bool` by itself. Doing this will not modify any behavior and is safe. If you specifically wanted the numpy scalar type, use `np.bool_` here.\n",
      "Deprecated in NumPy 1.20; for more details and guidance: https://numpy.org/devdocs/release/1.20.0-notes.html#deprecations\n",
      "  upper_tri = cor_matrix.where(np.triu(np.ones(cor_matrix.shape),k=1).astype(np.bool))\n"
     ]
    }
   ],
   "source": [
    "upper_tri = cor_matrix.where(np.triu(np.ones(cor_matrix.shape),k=1).astype(np.bool))"
   ]
  },
  {
   "cell_type": "code",
   "execution_count": 90,
   "id": "jOpOXveHOOn_",
   "metadata": {
    "id": "jOpOXveHOOn_"
   },
   "outputs": [],
   "source": [
    "to_drop = [column for column in upper_tri.columns if any(upper_tri[column] > 0.95)]"
   ]
  },
  {
   "cell_type": "code",
   "execution_count": 91,
   "id": "pCpdT6yVOOn_",
   "metadata": {
    "id": "pCpdT6yVOOn_"
   },
   "outputs": [],
   "source": [
    "packet_df=packet_df.drop(to_drop, axis=1)"
   ]
  },
  {
   "cell_type": "code",
   "execution_count": 92,
   "id": "BRVYzjhcOOn_",
   "metadata": {
    "colab": {
     "base_uri": "https://localhost:8080/"
    },
    "id": "BRVYzjhcOOn_",
    "outputId": "5731cd18-636d-4246-f184-f6fc0ac234f4"
   },
   "outputs": [
    {
     "data": {
      "text/plain": [
       "(3014997, 17)"
      ]
     },
     "execution_count": 92,
     "metadata": {},
     "output_type": "execute_result"
    }
   ],
   "source": [
    "packet_df.shape"
   ]
  },
  {
   "cell_type": "code",
   "execution_count": 93,
   "id": "5cf4ecec",
   "metadata": {},
   "outputs": [],
   "source": [
    "to_drop_packet.extend(to_drop)"
   ]
  },
  {
   "cell_type": "markdown",
   "id": "JZ_O1hhj8XmW",
   "metadata": {
    "id": "JZ_O1hhj8XmW"
   },
   "source": [
    "# Modelling and Evaluation"
   ]
  },
  {
   "cell_type": "code",
   "execution_count": 254,
   "id": "0ds-D9jy-BxC",
   "metadata": {
    "id": "0ds-D9jy-BxC"
   },
   "outputs": [],
   "source": [
    "from sklearn.metrics import classification_report,confusion_matrix"
   ]
  },
  {
   "cell_type": "markdown",
   "id": "6DOcwu8q8cq1",
   "metadata": {
    "id": "6DOcwu8q8cq1"
   },
   "source": [
    "## Uniflow data"
   ]
  },
  {
   "cell_type": "markdown",
   "id": "oK-A_m7_835Q",
   "metadata": {
    "id": "oK-A_m7_835Q"
   },
   "source": [
    "### Creating train test split"
   ]
  },
  {
   "cell_type": "code",
   "execution_count": 255,
   "id": "rE-sAVvZ9Mo0",
   "metadata": {
    "id": "rE-sAVvZ9Mo0"
   },
   "outputs": [],
   "source": [
    "from sklearn.model_selection import train_test_split"
   ]
  },
  {
   "cell_type": "code",
   "execution_count": 256,
   "id": "g9OJEJYz89r9",
   "metadata": {
    "id": "g9OJEJYz89r9"
   },
   "outputs": [],
   "source": [
    "xtrain, xtest, ytrain, ytest = train_test_split(uni_df.drop('is_attack',axis=1), uni_df['is_attack'], test_size=0.20, random_state=42,stratify= uni_df['is_attack'])"
   ]
  },
  {
   "cell_type": "code",
   "execution_count": 257,
   "id": "f32cb2b6",
   "metadata": {},
   "outputs": [],
   "source": [
    "xtrain=xtrain.values\n",
    "ytrain=ytrain.values\n",
    "xtest=xtest.values\n",
    "ytest=ytest.values"
   ]
  },
  {
   "cell_type": "markdown",
   "id": "25d0a1d0",
   "metadata": {},
   "source": [
    "### Scaling"
   ]
  },
  {
   "cell_type": "code",
   "execution_count": 258,
   "id": "47faf01a",
   "metadata": {},
   "outputs": [],
   "source": [
    "from sklearn.preprocessing import MinMaxScaler"
   ]
  },
  {
   "cell_type": "code",
   "execution_count": 259,
   "id": "7780399e",
   "metadata": {},
   "outputs": [],
   "source": [
    "ss=MinMaxScaler()\n",
    "ss.fit(xtrain)\n",
    "xtrain=ss.transform(xtrain)\n",
    "xtest=ss.transform(xtest)"
   ]
  },
  {
   "cell_type": "markdown",
   "id": "vEP71PuI8gpf",
   "metadata": {
    "id": "vEP71PuI8gpf"
   },
   "source": [
    "### Random Forest Classifier"
   ]
  },
  {
   "cell_type": "code",
   "execution_count": 260,
   "id": "b_mT2KM18f4A",
   "metadata": {
    "id": "b_mT2KM18f4A"
   },
   "outputs": [],
   "source": [
    "from sklearn.ensemble import RandomForestClassifier"
   ]
  },
  {
   "cell_type": "code",
   "execution_count": 261,
   "id": "HyfcO9iT8wtf",
   "metadata": {
    "id": "HyfcO9iT8wtf"
   },
   "outputs": [],
   "source": [
    "rfc=RandomForestClassifier()"
   ]
  },
  {
   "cell_type": "code",
   "execution_count": 262,
   "id": "iWLniThR9ZxL",
   "metadata": {
    "colab": {
     "base_uri": "https://localhost:8080/"
    },
    "id": "iWLniThR9ZxL",
    "outputId": "0b7ce298-82f5-4d09-c653-911f4b34f284"
   },
   "outputs": [
    {
     "data": {
      "text/html": [
       "<style>#sk-container-id-20 {color: black;background-color: white;}#sk-container-id-20 pre{padding: 0;}#sk-container-id-20 div.sk-toggleable {background-color: white;}#sk-container-id-20 label.sk-toggleable__label {cursor: pointer;display: block;width: 100%;margin-bottom: 0;padding: 0.3em;box-sizing: border-box;text-align: center;}#sk-container-id-20 label.sk-toggleable__label-arrow:before {content: \"▸\";float: left;margin-right: 0.25em;color: #696969;}#sk-container-id-20 label.sk-toggleable__label-arrow:hover:before {color: black;}#sk-container-id-20 div.sk-estimator:hover label.sk-toggleable__label-arrow:before {color: black;}#sk-container-id-20 div.sk-toggleable__content {max-height: 0;max-width: 0;overflow: hidden;text-align: left;background-color: #f0f8ff;}#sk-container-id-20 div.sk-toggleable__content pre {margin: 0.2em;color: black;border-radius: 0.25em;background-color: #f0f8ff;}#sk-container-id-20 input.sk-toggleable__control:checked~div.sk-toggleable__content {max-height: 200px;max-width: 100%;overflow: auto;}#sk-container-id-20 input.sk-toggleable__control:checked~label.sk-toggleable__label-arrow:before {content: \"▾\";}#sk-container-id-20 div.sk-estimator input.sk-toggleable__control:checked~label.sk-toggleable__label {background-color: #d4ebff;}#sk-container-id-20 div.sk-label input.sk-toggleable__control:checked~label.sk-toggleable__label {background-color: #d4ebff;}#sk-container-id-20 input.sk-hidden--visually {border: 0;clip: rect(1px 1px 1px 1px);clip: rect(1px, 1px, 1px, 1px);height: 1px;margin: -1px;overflow: hidden;padding: 0;position: absolute;width: 1px;}#sk-container-id-20 div.sk-estimator {font-family: monospace;background-color: #f0f8ff;border: 1px dotted black;border-radius: 0.25em;box-sizing: border-box;margin-bottom: 0.5em;}#sk-container-id-20 div.sk-estimator:hover {background-color: #d4ebff;}#sk-container-id-20 div.sk-parallel-item::after {content: \"\";width: 100%;border-bottom: 1px solid gray;flex-grow: 1;}#sk-container-id-20 div.sk-label:hover label.sk-toggleable__label {background-color: #d4ebff;}#sk-container-id-20 div.sk-serial::before {content: \"\";position: absolute;border-left: 1px solid gray;box-sizing: border-box;top: 0;bottom: 0;left: 50%;z-index: 0;}#sk-container-id-20 div.sk-serial {display: flex;flex-direction: column;align-items: center;background-color: white;padding-right: 0.2em;padding-left: 0.2em;position: relative;}#sk-container-id-20 div.sk-item {position: relative;z-index: 1;}#sk-container-id-20 div.sk-parallel {display: flex;align-items: stretch;justify-content: center;background-color: white;position: relative;}#sk-container-id-20 div.sk-item::before, #sk-container-id-20 div.sk-parallel-item::before {content: \"\";position: absolute;border-left: 1px solid gray;box-sizing: border-box;top: 0;bottom: 0;left: 50%;z-index: -1;}#sk-container-id-20 div.sk-parallel-item {display: flex;flex-direction: column;z-index: 1;position: relative;background-color: white;}#sk-container-id-20 div.sk-parallel-item:first-child::after {align-self: flex-end;width: 50%;}#sk-container-id-20 div.sk-parallel-item:last-child::after {align-self: flex-start;width: 50%;}#sk-container-id-20 div.sk-parallel-item:only-child::after {width: 0;}#sk-container-id-20 div.sk-dashed-wrapped {border: 1px dashed gray;margin: 0 0.4em 0.5em 0.4em;box-sizing: border-box;padding-bottom: 0.4em;background-color: white;}#sk-container-id-20 div.sk-label label {font-family: monospace;font-weight: bold;display: inline-block;line-height: 1.2em;}#sk-container-id-20 div.sk-label-container {text-align: center;}#sk-container-id-20 div.sk-container {/* jupyter's `normalize.less` sets `[hidden] { display: none; }` but bootstrap.min.css set `[hidden] { display: none !important; }` so we also need the `!important` here to be able to override the default hidden behavior on the sphinx rendered scikit-learn.org. See: https://github.com/scikit-learn/scikit-learn/issues/21755 */display: inline-block !important;position: relative;}#sk-container-id-20 div.sk-text-repr-fallback {display: none;}</style><div id=\"sk-container-id-20\" class=\"sk-top-container\"><div class=\"sk-text-repr-fallback\"><pre>RandomForestClassifier()</pre><b>In a Jupyter environment, please rerun this cell to show the HTML representation or trust the notebook. <br />On GitHub, the HTML representation is unable to render, please try loading this page with nbviewer.org.</b></div><div class=\"sk-container\" hidden><div class=\"sk-item\"><div class=\"sk-estimator sk-toggleable\"><input class=\"sk-toggleable__control sk-hidden--visually\" id=\"sk-estimator-id-24\" type=\"checkbox\" checked><label for=\"sk-estimator-id-24\" class=\"sk-toggleable__label sk-toggleable__label-arrow\">RandomForestClassifier</label><div class=\"sk-toggleable__content\"><pre>RandomForestClassifier()</pre></div></div></div></div></div>"
      ],
      "text/plain": [
       "RandomForestClassifier()"
      ]
     },
     "execution_count": 262,
     "metadata": {},
     "output_type": "execute_result"
    }
   ],
   "source": [
    "rfc.fit(xtrain,ytrain)"
   ]
  },
  {
   "cell_type": "code",
   "execution_count": 263,
   "id": "wIjaMyMq9cnb",
   "metadata": {
    "id": "wIjaMyMq9cnb"
   },
   "outputs": [],
   "source": [
    "pred=rfc.predict(xtest)"
   ]
  },
  {
   "cell_type": "code",
   "execution_count": 264,
   "id": "qOzY3HWR9s6b",
   "metadata": {
    "colab": {
     "base_uri": "https://localhost:8080/"
    },
    "id": "qOzY3HWR9s6b",
    "outputId": "012d7abc-c116-4844-9aee-ceef603f5315",
    "scrolled": true
   },
   "outputs": [
    {
     "name": "stdout",
     "output_type": "stream",
     "text": [
      "              precision    recall  f1-score   support\n",
      "\n",
      "  bruteforce       1.00      0.98      0.99      5775\n",
      "      normal       1.00      1.00      1.00     75237\n",
      "      scan_A       1.00      1.00      1.00      7960\n",
      "     scan_SU       1.00      1.00      1.00      4487\n",
      "      sparta       1.00      1.00      1.00      5646\n",
      "\n",
      "    accuracy                           1.00     99105\n",
      "   macro avg       1.00      1.00      1.00     99105\n",
      "weighted avg       1.00      1.00      1.00     99105\n",
      "\n"
     ]
    }
   ],
   "source": [
    "print(classification_report(ytest,pred))"
   ]
  },
  {
   "cell_type": "code",
   "execution_count": 265,
   "id": "f171dfbf",
   "metadata": {},
   "outputs": [],
   "source": [
    "report_rfc=pd.DataFrame(classification_report(ytest,pred,output_dict=True)).transpose()"
   ]
  },
  {
   "cell_type": "markdown",
   "id": "CX1BN7mQ93OW",
   "metadata": {
    "id": "CX1BN7mQ93OW"
   },
   "source": [
    "### Logistic Regression"
   ]
  },
  {
   "cell_type": "code",
   "execution_count": 266,
   "id": "iflLstOB-U4i",
   "metadata": {
    "id": "iflLstOB-U4i"
   },
   "outputs": [],
   "source": [
    "from sklearn.linear_model import LogisticRegression"
   ]
  },
  {
   "cell_type": "code",
   "execution_count": 267,
   "id": "xA7_9Qsm-3mC",
   "metadata": {
    "id": "xA7_9Qsm-3mC"
   },
   "outputs": [],
   "source": [
    "lr=LogisticRegression(n_jobs=-1,max_iter=3000)"
   ]
  },
  {
   "cell_type": "code",
   "execution_count": 268,
   "id": "eh0OALxi-5xF",
   "metadata": {
    "colab": {
     "base_uri": "https://localhost:8080/"
    },
    "id": "eh0OALxi-5xF",
    "outputId": "3ed29d93-26e4-4503-a41f-6d7d5a1d91ab"
   },
   "outputs": [
    {
     "data": {
      "text/html": [
       "<style>#sk-container-id-21 {color: black;background-color: white;}#sk-container-id-21 pre{padding: 0;}#sk-container-id-21 div.sk-toggleable {background-color: white;}#sk-container-id-21 label.sk-toggleable__label {cursor: pointer;display: block;width: 100%;margin-bottom: 0;padding: 0.3em;box-sizing: border-box;text-align: center;}#sk-container-id-21 label.sk-toggleable__label-arrow:before {content: \"▸\";float: left;margin-right: 0.25em;color: #696969;}#sk-container-id-21 label.sk-toggleable__label-arrow:hover:before {color: black;}#sk-container-id-21 div.sk-estimator:hover label.sk-toggleable__label-arrow:before {color: black;}#sk-container-id-21 div.sk-toggleable__content {max-height: 0;max-width: 0;overflow: hidden;text-align: left;background-color: #f0f8ff;}#sk-container-id-21 div.sk-toggleable__content pre {margin: 0.2em;color: black;border-radius: 0.25em;background-color: #f0f8ff;}#sk-container-id-21 input.sk-toggleable__control:checked~div.sk-toggleable__content {max-height: 200px;max-width: 100%;overflow: auto;}#sk-container-id-21 input.sk-toggleable__control:checked~label.sk-toggleable__label-arrow:before {content: \"▾\";}#sk-container-id-21 div.sk-estimator input.sk-toggleable__control:checked~label.sk-toggleable__label {background-color: #d4ebff;}#sk-container-id-21 div.sk-label input.sk-toggleable__control:checked~label.sk-toggleable__label {background-color: #d4ebff;}#sk-container-id-21 input.sk-hidden--visually {border: 0;clip: rect(1px 1px 1px 1px);clip: rect(1px, 1px, 1px, 1px);height: 1px;margin: -1px;overflow: hidden;padding: 0;position: absolute;width: 1px;}#sk-container-id-21 div.sk-estimator {font-family: monospace;background-color: #f0f8ff;border: 1px dotted black;border-radius: 0.25em;box-sizing: border-box;margin-bottom: 0.5em;}#sk-container-id-21 div.sk-estimator:hover {background-color: #d4ebff;}#sk-container-id-21 div.sk-parallel-item::after {content: \"\";width: 100%;border-bottom: 1px solid gray;flex-grow: 1;}#sk-container-id-21 div.sk-label:hover label.sk-toggleable__label {background-color: #d4ebff;}#sk-container-id-21 div.sk-serial::before {content: \"\";position: absolute;border-left: 1px solid gray;box-sizing: border-box;top: 0;bottom: 0;left: 50%;z-index: 0;}#sk-container-id-21 div.sk-serial {display: flex;flex-direction: column;align-items: center;background-color: white;padding-right: 0.2em;padding-left: 0.2em;position: relative;}#sk-container-id-21 div.sk-item {position: relative;z-index: 1;}#sk-container-id-21 div.sk-parallel {display: flex;align-items: stretch;justify-content: center;background-color: white;position: relative;}#sk-container-id-21 div.sk-item::before, #sk-container-id-21 div.sk-parallel-item::before {content: \"\";position: absolute;border-left: 1px solid gray;box-sizing: border-box;top: 0;bottom: 0;left: 50%;z-index: -1;}#sk-container-id-21 div.sk-parallel-item {display: flex;flex-direction: column;z-index: 1;position: relative;background-color: white;}#sk-container-id-21 div.sk-parallel-item:first-child::after {align-self: flex-end;width: 50%;}#sk-container-id-21 div.sk-parallel-item:last-child::after {align-self: flex-start;width: 50%;}#sk-container-id-21 div.sk-parallel-item:only-child::after {width: 0;}#sk-container-id-21 div.sk-dashed-wrapped {border: 1px dashed gray;margin: 0 0.4em 0.5em 0.4em;box-sizing: border-box;padding-bottom: 0.4em;background-color: white;}#sk-container-id-21 div.sk-label label {font-family: monospace;font-weight: bold;display: inline-block;line-height: 1.2em;}#sk-container-id-21 div.sk-label-container {text-align: center;}#sk-container-id-21 div.sk-container {/* jupyter's `normalize.less` sets `[hidden] { display: none; }` but bootstrap.min.css set `[hidden] { display: none !important; }` so we also need the `!important` here to be able to override the default hidden behavior on the sphinx rendered scikit-learn.org. See: https://github.com/scikit-learn/scikit-learn/issues/21755 */display: inline-block !important;position: relative;}#sk-container-id-21 div.sk-text-repr-fallback {display: none;}</style><div id=\"sk-container-id-21\" class=\"sk-top-container\"><div class=\"sk-text-repr-fallback\"><pre>LogisticRegression(max_iter=3000, n_jobs=-1)</pre><b>In a Jupyter environment, please rerun this cell to show the HTML representation or trust the notebook. <br />On GitHub, the HTML representation is unable to render, please try loading this page with nbviewer.org.</b></div><div class=\"sk-container\" hidden><div class=\"sk-item\"><div class=\"sk-estimator sk-toggleable\"><input class=\"sk-toggleable__control sk-hidden--visually\" id=\"sk-estimator-id-25\" type=\"checkbox\" checked><label for=\"sk-estimator-id-25\" class=\"sk-toggleable__label sk-toggleable__label-arrow\">LogisticRegression</label><div class=\"sk-toggleable__content\"><pre>LogisticRegression(max_iter=3000, n_jobs=-1)</pre></div></div></div></div></div>"
      ],
      "text/plain": [
       "LogisticRegression(max_iter=3000, n_jobs=-1)"
      ]
     },
     "execution_count": 268,
     "metadata": {},
     "output_type": "execute_result"
    }
   ],
   "source": [
    "lr.fit(xtrain,ytrain)"
   ]
  },
  {
   "cell_type": "code",
   "execution_count": 269,
   "id": "G0EuUBkU_Yr9",
   "metadata": {
    "id": "G0EuUBkU_Yr9"
   },
   "outputs": [],
   "source": [
    "pred=lr.predict(xtest)"
   ]
  },
  {
   "cell_type": "code",
   "execution_count": 270,
   "id": "GcMTKyJF_aLl",
   "metadata": {
    "colab": {
     "base_uri": "https://localhost:8080/"
    },
    "id": "GcMTKyJF_aLl",
    "outputId": "874cea7b-3a7e-4f91-a4f3-8f15d51a4888",
    "scrolled": true
   },
   "outputs": [
    {
     "name": "stdout",
     "output_type": "stream",
     "text": [
      "              precision    recall  f1-score   support\n",
      "\n",
      "  bruteforce       1.00      0.98      0.99      5775\n",
      "      normal       0.99      1.00      0.99     75237\n",
      "      scan_A       1.00      0.94      0.97      7960\n",
      "     scan_SU       0.92      0.99      0.95      4487\n",
      "      sparta       1.00      1.00      1.00      5646\n",
      "\n",
      "    accuracy                           0.99     99105\n",
      "   macro avg       0.98      0.98      0.98     99105\n",
      "weighted avg       0.99      0.99      0.99     99105\n",
      "\n"
     ]
    }
   ],
   "source": [
    "print(classification_report(ytest,pred))"
   ]
  },
  {
   "cell_type": "code",
   "execution_count": 271,
   "id": "a20d23bf",
   "metadata": {},
   "outputs": [],
   "source": [
    "report_lr=pd.DataFrame(classification_report(ytest,pred,output_dict=True)).transpose()"
   ]
  },
  {
   "cell_type": "markdown",
   "id": "zY5huihW_b54",
   "metadata": {
    "id": "zY5huihW_b54"
   },
   "source": [
    "### Decision Trees"
   ]
  },
  {
   "cell_type": "code",
   "execution_count": 272,
   "id": "bUhDZe94_prt",
   "metadata": {
    "id": "bUhDZe94_prt"
   },
   "outputs": [],
   "source": [
    "from sklearn.tree import DecisionTreeClassifier"
   ]
  },
  {
   "cell_type": "code",
   "execution_count": 273,
   "id": "FgjC9tJi_tOj",
   "metadata": {
    "id": "FgjC9tJi_tOj"
   },
   "outputs": [],
   "source": [
    "dtc=DecisionTreeClassifier()"
   ]
  },
  {
   "cell_type": "code",
   "execution_count": 274,
   "id": "b1hQD0-U_wXP",
   "metadata": {
    "colab": {
     "base_uri": "https://localhost:8080/"
    },
    "id": "b1hQD0-U_wXP",
    "outputId": "8c28c32b-d973-48b0-9a8e-f99ec0cab7e1"
   },
   "outputs": [
    {
     "data": {
      "text/html": [
       "<style>#sk-container-id-22 {color: black;background-color: white;}#sk-container-id-22 pre{padding: 0;}#sk-container-id-22 div.sk-toggleable {background-color: white;}#sk-container-id-22 label.sk-toggleable__label {cursor: pointer;display: block;width: 100%;margin-bottom: 0;padding: 0.3em;box-sizing: border-box;text-align: center;}#sk-container-id-22 label.sk-toggleable__label-arrow:before {content: \"▸\";float: left;margin-right: 0.25em;color: #696969;}#sk-container-id-22 label.sk-toggleable__label-arrow:hover:before {color: black;}#sk-container-id-22 div.sk-estimator:hover label.sk-toggleable__label-arrow:before {color: black;}#sk-container-id-22 div.sk-toggleable__content {max-height: 0;max-width: 0;overflow: hidden;text-align: left;background-color: #f0f8ff;}#sk-container-id-22 div.sk-toggleable__content pre {margin: 0.2em;color: black;border-radius: 0.25em;background-color: #f0f8ff;}#sk-container-id-22 input.sk-toggleable__control:checked~div.sk-toggleable__content {max-height: 200px;max-width: 100%;overflow: auto;}#sk-container-id-22 input.sk-toggleable__control:checked~label.sk-toggleable__label-arrow:before {content: \"▾\";}#sk-container-id-22 div.sk-estimator input.sk-toggleable__control:checked~label.sk-toggleable__label {background-color: #d4ebff;}#sk-container-id-22 div.sk-label input.sk-toggleable__control:checked~label.sk-toggleable__label {background-color: #d4ebff;}#sk-container-id-22 input.sk-hidden--visually {border: 0;clip: rect(1px 1px 1px 1px);clip: rect(1px, 1px, 1px, 1px);height: 1px;margin: -1px;overflow: hidden;padding: 0;position: absolute;width: 1px;}#sk-container-id-22 div.sk-estimator {font-family: monospace;background-color: #f0f8ff;border: 1px dotted black;border-radius: 0.25em;box-sizing: border-box;margin-bottom: 0.5em;}#sk-container-id-22 div.sk-estimator:hover {background-color: #d4ebff;}#sk-container-id-22 div.sk-parallel-item::after {content: \"\";width: 100%;border-bottom: 1px solid gray;flex-grow: 1;}#sk-container-id-22 div.sk-label:hover label.sk-toggleable__label {background-color: #d4ebff;}#sk-container-id-22 div.sk-serial::before {content: \"\";position: absolute;border-left: 1px solid gray;box-sizing: border-box;top: 0;bottom: 0;left: 50%;z-index: 0;}#sk-container-id-22 div.sk-serial {display: flex;flex-direction: column;align-items: center;background-color: white;padding-right: 0.2em;padding-left: 0.2em;position: relative;}#sk-container-id-22 div.sk-item {position: relative;z-index: 1;}#sk-container-id-22 div.sk-parallel {display: flex;align-items: stretch;justify-content: center;background-color: white;position: relative;}#sk-container-id-22 div.sk-item::before, #sk-container-id-22 div.sk-parallel-item::before {content: \"\";position: absolute;border-left: 1px solid gray;box-sizing: border-box;top: 0;bottom: 0;left: 50%;z-index: -1;}#sk-container-id-22 div.sk-parallel-item {display: flex;flex-direction: column;z-index: 1;position: relative;background-color: white;}#sk-container-id-22 div.sk-parallel-item:first-child::after {align-self: flex-end;width: 50%;}#sk-container-id-22 div.sk-parallel-item:last-child::after {align-self: flex-start;width: 50%;}#sk-container-id-22 div.sk-parallel-item:only-child::after {width: 0;}#sk-container-id-22 div.sk-dashed-wrapped {border: 1px dashed gray;margin: 0 0.4em 0.5em 0.4em;box-sizing: border-box;padding-bottom: 0.4em;background-color: white;}#sk-container-id-22 div.sk-label label {font-family: monospace;font-weight: bold;display: inline-block;line-height: 1.2em;}#sk-container-id-22 div.sk-label-container {text-align: center;}#sk-container-id-22 div.sk-container {/* jupyter's `normalize.less` sets `[hidden] { display: none; }` but bootstrap.min.css set `[hidden] { display: none !important; }` so we also need the `!important` here to be able to override the default hidden behavior on the sphinx rendered scikit-learn.org. See: https://github.com/scikit-learn/scikit-learn/issues/21755 */display: inline-block !important;position: relative;}#sk-container-id-22 div.sk-text-repr-fallback {display: none;}</style><div id=\"sk-container-id-22\" class=\"sk-top-container\"><div class=\"sk-text-repr-fallback\"><pre>DecisionTreeClassifier()</pre><b>In a Jupyter environment, please rerun this cell to show the HTML representation or trust the notebook. <br />On GitHub, the HTML representation is unable to render, please try loading this page with nbviewer.org.</b></div><div class=\"sk-container\" hidden><div class=\"sk-item\"><div class=\"sk-estimator sk-toggleable\"><input class=\"sk-toggleable__control sk-hidden--visually\" id=\"sk-estimator-id-26\" type=\"checkbox\" checked><label for=\"sk-estimator-id-26\" class=\"sk-toggleable__label sk-toggleable__label-arrow\">DecisionTreeClassifier</label><div class=\"sk-toggleable__content\"><pre>DecisionTreeClassifier()</pre></div></div></div></div></div>"
      ],
      "text/plain": [
       "DecisionTreeClassifier()"
      ]
     },
     "execution_count": 274,
     "metadata": {},
     "output_type": "execute_result"
    }
   ],
   "source": [
    "dtc.fit(xtrain,ytrain)"
   ]
  },
  {
   "cell_type": "code",
   "execution_count": 275,
   "id": "gghgp-Kl_x-S",
   "metadata": {
    "id": "gghgp-Kl_x-S"
   },
   "outputs": [],
   "source": [
    "pred=dtc.predict(xtest)"
   ]
  },
  {
   "cell_type": "code",
   "execution_count": 276,
   "id": "oqn-G5Ho_18B",
   "metadata": {
    "colab": {
     "base_uri": "https://localhost:8080/"
    },
    "id": "oqn-G5Ho_18B",
    "outputId": "113c13b1-8f03-4e72-efef-0cb822764c41",
    "scrolled": true
   },
   "outputs": [
    {
     "name": "stdout",
     "output_type": "stream",
     "text": [
      "              precision    recall  f1-score   support\n",
      "\n",
      "  bruteforce       0.99      0.99      0.99      5775\n",
      "      normal       1.00      1.00      1.00     75237\n",
      "      scan_A       1.00      1.00      1.00      7960\n",
      "     scan_SU       1.00      1.00      1.00      4487\n",
      "      sparta       1.00      1.00      1.00      5646\n",
      "\n",
      "    accuracy                           1.00     99105\n",
      "   macro avg       1.00      1.00      1.00     99105\n",
      "weighted avg       1.00      1.00      1.00     99105\n",
      "\n"
     ]
    }
   ],
   "source": [
    "print(classification_report(ytest,pred))"
   ]
  },
  {
   "cell_type": "code",
   "execution_count": 277,
   "id": "774bbbdf",
   "metadata": {},
   "outputs": [],
   "source": [
    "report_dtc=pd.DataFrame(classification_report(ytest,pred,output_dict=True)).transpose()"
   ]
  },
  {
   "cell_type": "markdown",
   "id": "HEw3RFZw_31e",
   "metadata": {
    "id": "HEw3RFZw_31e"
   },
   "source": [
    "### Naive Bayes"
   ]
  },
  {
   "cell_type": "code",
   "execution_count": 278,
   "id": "59BX9x_oAQWM",
   "metadata": {
    "id": "59BX9x_oAQWM"
   },
   "outputs": [],
   "source": [
    "from sklearn.naive_bayes import GaussianNB"
   ]
  },
  {
   "cell_type": "code",
   "execution_count": 279,
   "id": "NM6kmII1AZDn",
   "metadata": {
    "id": "NM6kmII1AZDn"
   },
   "outputs": [],
   "source": [
    "gnb=GaussianNB()"
   ]
  },
  {
   "cell_type": "code",
   "execution_count": 280,
   "id": "7kNDXMrqAaT_",
   "metadata": {
    "colab": {
     "base_uri": "https://localhost:8080/"
    },
    "id": "7kNDXMrqAaT_",
    "outputId": "9123dfb3-da40-424c-a357-d4b31515488a"
   },
   "outputs": [
    {
     "data": {
      "text/html": [
       "<style>#sk-container-id-23 {color: black;background-color: white;}#sk-container-id-23 pre{padding: 0;}#sk-container-id-23 div.sk-toggleable {background-color: white;}#sk-container-id-23 label.sk-toggleable__label {cursor: pointer;display: block;width: 100%;margin-bottom: 0;padding: 0.3em;box-sizing: border-box;text-align: center;}#sk-container-id-23 label.sk-toggleable__label-arrow:before {content: \"▸\";float: left;margin-right: 0.25em;color: #696969;}#sk-container-id-23 label.sk-toggleable__label-arrow:hover:before {color: black;}#sk-container-id-23 div.sk-estimator:hover label.sk-toggleable__label-arrow:before {color: black;}#sk-container-id-23 div.sk-toggleable__content {max-height: 0;max-width: 0;overflow: hidden;text-align: left;background-color: #f0f8ff;}#sk-container-id-23 div.sk-toggleable__content pre {margin: 0.2em;color: black;border-radius: 0.25em;background-color: #f0f8ff;}#sk-container-id-23 input.sk-toggleable__control:checked~div.sk-toggleable__content {max-height: 200px;max-width: 100%;overflow: auto;}#sk-container-id-23 input.sk-toggleable__control:checked~label.sk-toggleable__label-arrow:before {content: \"▾\";}#sk-container-id-23 div.sk-estimator input.sk-toggleable__control:checked~label.sk-toggleable__label {background-color: #d4ebff;}#sk-container-id-23 div.sk-label input.sk-toggleable__control:checked~label.sk-toggleable__label {background-color: #d4ebff;}#sk-container-id-23 input.sk-hidden--visually {border: 0;clip: rect(1px 1px 1px 1px);clip: rect(1px, 1px, 1px, 1px);height: 1px;margin: -1px;overflow: hidden;padding: 0;position: absolute;width: 1px;}#sk-container-id-23 div.sk-estimator {font-family: monospace;background-color: #f0f8ff;border: 1px dotted black;border-radius: 0.25em;box-sizing: border-box;margin-bottom: 0.5em;}#sk-container-id-23 div.sk-estimator:hover {background-color: #d4ebff;}#sk-container-id-23 div.sk-parallel-item::after {content: \"\";width: 100%;border-bottom: 1px solid gray;flex-grow: 1;}#sk-container-id-23 div.sk-label:hover label.sk-toggleable__label {background-color: #d4ebff;}#sk-container-id-23 div.sk-serial::before {content: \"\";position: absolute;border-left: 1px solid gray;box-sizing: border-box;top: 0;bottom: 0;left: 50%;z-index: 0;}#sk-container-id-23 div.sk-serial {display: flex;flex-direction: column;align-items: center;background-color: white;padding-right: 0.2em;padding-left: 0.2em;position: relative;}#sk-container-id-23 div.sk-item {position: relative;z-index: 1;}#sk-container-id-23 div.sk-parallel {display: flex;align-items: stretch;justify-content: center;background-color: white;position: relative;}#sk-container-id-23 div.sk-item::before, #sk-container-id-23 div.sk-parallel-item::before {content: \"\";position: absolute;border-left: 1px solid gray;box-sizing: border-box;top: 0;bottom: 0;left: 50%;z-index: -1;}#sk-container-id-23 div.sk-parallel-item {display: flex;flex-direction: column;z-index: 1;position: relative;background-color: white;}#sk-container-id-23 div.sk-parallel-item:first-child::after {align-self: flex-end;width: 50%;}#sk-container-id-23 div.sk-parallel-item:last-child::after {align-self: flex-start;width: 50%;}#sk-container-id-23 div.sk-parallel-item:only-child::after {width: 0;}#sk-container-id-23 div.sk-dashed-wrapped {border: 1px dashed gray;margin: 0 0.4em 0.5em 0.4em;box-sizing: border-box;padding-bottom: 0.4em;background-color: white;}#sk-container-id-23 div.sk-label label {font-family: monospace;font-weight: bold;display: inline-block;line-height: 1.2em;}#sk-container-id-23 div.sk-label-container {text-align: center;}#sk-container-id-23 div.sk-container {/* jupyter's `normalize.less` sets `[hidden] { display: none; }` but bootstrap.min.css set `[hidden] { display: none !important; }` so we also need the `!important` here to be able to override the default hidden behavior on the sphinx rendered scikit-learn.org. See: https://github.com/scikit-learn/scikit-learn/issues/21755 */display: inline-block !important;position: relative;}#sk-container-id-23 div.sk-text-repr-fallback {display: none;}</style><div id=\"sk-container-id-23\" class=\"sk-top-container\"><div class=\"sk-text-repr-fallback\"><pre>GaussianNB()</pre><b>In a Jupyter environment, please rerun this cell to show the HTML representation or trust the notebook. <br />On GitHub, the HTML representation is unable to render, please try loading this page with nbviewer.org.</b></div><div class=\"sk-container\" hidden><div class=\"sk-item\"><div class=\"sk-estimator sk-toggleable\"><input class=\"sk-toggleable__control sk-hidden--visually\" id=\"sk-estimator-id-27\" type=\"checkbox\" checked><label for=\"sk-estimator-id-27\" class=\"sk-toggleable__label sk-toggleable__label-arrow\">GaussianNB</label><div class=\"sk-toggleable__content\"><pre>GaussianNB()</pre></div></div></div></div></div>"
      ],
      "text/plain": [
       "GaussianNB()"
      ]
     },
     "execution_count": 280,
     "metadata": {},
     "output_type": "execute_result"
    }
   ],
   "source": [
    "gnb.fit(xtrain,ytrain)"
   ]
  },
  {
   "cell_type": "code",
   "execution_count": 281,
   "id": "bvTz4_6xAcia",
   "metadata": {
    "id": "bvTz4_6xAcia"
   },
   "outputs": [],
   "source": [
    "pred=gnb.predict(xtest)"
   ]
  },
  {
   "cell_type": "code",
   "execution_count": 282,
   "id": "VCm6NuZwAgcQ",
   "metadata": {
    "colab": {
     "base_uri": "https://localhost:8080/"
    },
    "id": "VCm6NuZwAgcQ",
    "outputId": "01c2e1ea-7d2b-4275-f73c-d1ef36a18a20",
    "scrolled": true
   },
   "outputs": [
    {
     "name": "stdout",
     "output_type": "stream",
     "text": [
      "              precision    recall  f1-score   support\n",
      "\n",
      "  bruteforce       1.00      0.98      0.99      5775\n",
      "      normal       1.00      0.97      0.99     75237\n",
      "      scan_A       0.84      1.00      0.91      7960\n",
      "     scan_SU       0.92      1.00      0.96      4487\n",
      "      sparta       1.00      1.00      1.00      5646\n",
      "\n",
      "    accuracy                           0.98     99105\n",
      "   macro avg       0.95      0.99      0.97     99105\n",
      "weighted avg       0.98      0.98      0.98     99105\n",
      "\n"
     ]
    }
   ],
   "source": [
    "print(classification_report(ytest,pred))"
   ]
  },
  {
   "cell_type": "code",
   "execution_count": 283,
   "id": "82a41257",
   "metadata": {},
   "outputs": [],
   "source": [
    "report_nb=pd.DataFrame(classification_report(ytest,pred,output_dict=True)).transpose()"
   ]
  },
  {
   "cell_type": "markdown",
   "id": "QtPPFKVMSmb0",
   "metadata": {
    "id": "QtPPFKVMSmb0"
   },
   "source": [
    "### Support Vector Machines : Kernel Linear"
   ]
  },
  {
   "cell_type": "code",
   "execution_count": 284,
   "id": "mT0No2ikSmb1",
   "metadata": {
    "id": "mT0No2ikSmb1"
   },
   "outputs": [],
   "source": [
    "from sklearn.svm import LinearSVC"
   ]
  },
  {
   "cell_type": "code",
   "execution_count": 285,
   "id": "6RMOiHH7Smb1",
   "metadata": {
    "id": "6RMOiHH7Smb1"
   },
   "outputs": [],
   "source": [
    "svc_linear=LinearSVC()"
   ]
  },
  {
   "cell_type": "code",
   "execution_count": 286,
   "id": "ZszcjMOrSmb1",
   "metadata": {
    "id": "ZszcjMOrSmb1"
   },
   "outputs": [
    {
     "data": {
      "text/html": [
       "<style>#sk-container-id-24 {color: black;background-color: white;}#sk-container-id-24 pre{padding: 0;}#sk-container-id-24 div.sk-toggleable {background-color: white;}#sk-container-id-24 label.sk-toggleable__label {cursor: pointer;display: block;width: 100%;margin-bottom: 0;padding: 0.3em;box-sizing: border-box;text-align: center;}#sk-container-id-24 label.sk-toggleable__label-arrow:before {content: \"▸\";float: left;margin-right: 0.25em;color: #696969;}#sk-container-id-24 label.sk-toggleable__label-arrow:hover:before {color: black;}#sk-container-id-24 div.sk-estimator:hover label.sk-toggleable__label-arrow:before {color: black;}#sk-container-id-24 div.sk-toggleable__content {max-height: 0;max-width: 0;overflow: hidden;text-align: left;background-color: #f0f8ff;}#sk-container-id-24 div.sk-toggleable__content pre {margin: 0.2em;color: black;border-radius: 0.25em;background-color: #f0f8ff;}#sk-container-id-24 input.sk-toggleable__control:checked~div.sk-toggleable__content {max-height: 200px;max-width: 100%;overflow: auto;}#sk-container-id-24 input.sk-toggleable__control:checked~label.sk-toggleable__label-arrow:before {content: \"▾\";}#sk-container-id-24 div.sk-estimator input.sk-toggleable__control:checked~label.sk-toggleable__label {background-color: #d4ebff;}#sk-container-id-24 div.sk-label input.sk-toggleable__control:checked~label.sk-toggleable__label {background-color: #d4ebff;}#sk-container-id-24 input.sk-hidden--visually {border: 0;clip: rect(1px 1px 1px 1px);clip: rect(1px, 1px, 1px, 1px);height: 1px;margin: -1px;overflow: hidden;padding: 0;position: absolute;width: 1px;}#sk-container-id-24 div.sk-estimator {font-family: monospace;background-color: #f0f8ff;border: 1px dotted black;border-radius: 0.25em;box-sizing: border-box;margin-bottom: 0.5em;}#sk-container-id-24 div.sk-estimator:hover {background-color: #d4ebff;}#sk-container-id-24 div.sk-parallel-item::after {content: \"\";width: 100%;border-bottom: 1px solid gray;flex-grow: 1;}#sk-container-id-24 div.sk-label:hover label.sk-toggleable__label {background-color: #d4ebff;}#sk-container-id-24 div.sk-serial::before {content: \"\";position: absolute;border-left: 1px solid gray;box-sizing: border-box;top: 0;bottom: 0;left: 50%;z-index: 0;}#sk-container-id-24 div.sk-serial {display: flex;flex-direction: column;align-items: center;background-color: white;padding-right: 0.2em;padding-left: 0.2em;position: relative;}#sk-container-id-24 div.sk-item {position: relative;z-index: 1;}#sk-container-id-24 div.sk-parallel {display: flex;align-items: stretch;justify-content: center;background-color: white;position: relative;}#sk-container-id-24 div.sk-item::before, #sk-container-id-24 div.sk-parallel-item::before {content: \"\";position: absolute;border-left: 1px solid gray;box-sizing: border-box;top: 0;bottom: 0;left: 50%;z-index: -1;}#sk-container-id-24 div.sk-parallel-item {display: flex;flex-direction: column;z-index: 1;position: relative;background-color: white;}#sk-container-id-24 div.sk-parallel-item:first-child::after {align-self: flex-end;width: 50%;}#sk-container-id-24 div.sk-parallel-item:last-child::after {align-self: flex-start;width: 50%;}#sk-container-id-24 div.sk-parallel-item:only-child::after {width: 0;}#sk-container-id-24 div.sk-dashed-wrapped {border: 1px dashed gray;margin: 0 0.4em 0.5em 0.4em;box-sizing: border-box;padding-bottom: 0.4em;background-color: white;}#sk-container-id-24 div.sk-label label {font-family: monospace;font-weight: bold;display: inline-block;line-height: 1.2em;}#sk-container-id-24 div.sk-label-container {text-align: center;}#sk-container-id-24 div.sk-container {/* jupyter's `normalize.less` sets `[hidden] { display: none; }` but bootstrap.min.css set `[hidden] { display: none !important; }` so we also need the `!important` here to be able to override the default hidden behavior on the sphinx rendered scikit-learn.org. See: https://github.com/scikit-learn/scikit-learn/issues/21755 */display: inline-block !important;position: relative;}#sk-container-id-24 div.sk-text-repr-fallback {display: none;}</style><div id=\"sk-container-id-24\" class=\"sk-top-container\"><div class=\"sk-text-repr-fallback\"><pre>LinearSVC()</pre><b>In a Jupyter environment, please rerun this cell to show the HTML representation or trust the notebook. <br />On GitHub, the HTML representation is unable to render, please try loading this page with nbviewer.org.</b></div><div class=\"sk-container\" hidden><div class=\"sk-item\"><div class=\"sk-estimator sk-toggleable\"><input class=\"sk-toggleable__control sk-hidden--visually\" id=\"sk-estimator-id-28\" type=\"checkbox\" checked><label for=\"sk-estimator-id-28\" class=\"sk-toggleable__label sk-toggleable__label-arrow\">LinearSVC</label><div class=\"sk-toggleable__content\"><pre>LinearSVC()</pre></div></div></div></div></div>"
      ],
      "text/plain": [
       "LinearSVC()"
      ]
     },
     "execution_count": 286,
     "metadata": {},
     "output_type": "execute_result"
    }
   ],
   "source": [
    "svc_linear.fit(xtrain,ytrain)"
   ]
  },
  {
   "cell_type": "code",
   "execution_count": 287,
   "id": "jiSGrxW8Smb2",
   "metadata": {
    "id": "jiSGrxW8Smb2"
   },
   "outputs": [],
   "source": [
    "pred=svc_linear.predict(xtest)"
   ]
  },
  {
   "cell_type": "code",
   "execution_count": 288,
   "id": "MhnoGXDrSmb2",
   "metadata": {
    "id": "MhnoGXDrSmb2",
    "scrolled": true
   },
   "outputs": [
    {
     "name": "stdout",
     "output_type": "stream",
     "text": [
      "              precision    recall  f1-score   support\n",
      "\n",
      "  bruteforce       1.00      0.98      0.99      5775\n",
      "      normal       0.99      1.00      1.00     75237\n",
      "      scan_A       1.00      0.94      0.97      7960\n",
      "     scan_SU       0.98      0.99      0.98      4487\n",
      "      sparta       1.00      1.00      1.00      5646\n",
      "\n",
      "    accuracy                           0.99     99105\n",
      "   macro avg       0.99      0.98      0.99     99105\n",
      "weighted avg       0.99      0.99      0.99     99105\n",
      "\n"
     ]
    }
   ],
   "source": [
    "print(classification_report(ytest,pred))"
   ]
  },
  {
   "cell_type": "code",
   "execution_count": 289,
   "id": "d3593e22",
   "metadata": {},
   "outputs": [],
   "source": [
    "report_svm=pd.DataFrame(classification_report(ytest,pred,output_dict=True)).transpose()"
   ]
  },
  {
   "cell_type": "markdown",
   "id": "CMhBjToXA6Yt",
   "metadata": {
    "id": "CMhBjToXA6Yt"
   },
   "source": [
    "### K nearest Neighbour"
   ]
  },
  {
   "cell_type": "code",
   "execution_count": 290,
   "id": "pVwxBLIPBATN",
   "metadata": {
    "id": "pVwxBLIPBATN"
   },
   "outputs": [],
   "source": [
    "from sklearn.neighbors import KNeighborsClassifier"
   ]
  },
  {
   "cell_type": "code",
   "execution_count": 291,
   "id": "Nyh4zzSaBLPn",
   "metadata": {
    "id": "Nyh4zzSaBLPn"
   },
   "outputs": [],
   "source": [
    "knn=KNeighborsClassifier()"
   ]
  },
  {
   "cell_type": "code",
   "execution_count": 292,
   "id": "XUzYbwW6BNLd",
   "metadata": {
    "id": "XUzYbwW6BNLd"
   },
   "outputs": [
    {
     "data": {
      "text/html": [
       "<style>#sk-container-id-25 {color: black;background-color: white;}#sk-container-id-25 pre{padding: 0;}#sk-container-id-25 div.sk-toggleable {background-color: white;}#sk-container-id-25 label.sk-toggleable__label {cursor: pointer;display: block;width: 100%;margin-bottom: 0;padding: 0.3em;box-sizing: border-box;text-align: center;}#sk-container-id-25 label.sk-toggleable__label-arrow:before {content: \"▸\";float: left;margin-right: 0.25em;color: #696969;}#sk-container-id-25 label.sk-toggleable__label-arrow:hover:before {color: black;}#sk-container-id-25 div.sk-estimator:hover label.sk-toggleable__label-arrow:before {color: black;}#sk-container-id-25 div.sk-toggleable__content {max-height: 0;max-width: 0;overflow: hidden;text-align: left;background-color: #f0f8ff;}#sk-container-id-25 div.sk-toggleable__content pre {margin: 0.2em;color: black;border-radius: 0.25em;background-color: #f0f8ff;}#sk-container-id-25 input.sk-toggleable__control:checked~div.sk-toggleable__content {max-height: 200px;max-width: 100%;overflow: auto;}#sk-container-id-25 input.sk-toggleable__control:checked~label.sk-toggleable__label-arrow:before {content: \"▾\";}#sk-container-id-25 div.sk-estimator input.sk-toggleable__control:checked~label.sk-toggleable__label {background-color: #d4ebff;}#sk-container-id-25 div.sk-label input.sk-toggleable__control:checked~label.sk-toggleable__label {background-color: #d4ebff;}#sk-container-id-25 input.sk-hidden--visually {border: 0;clip: rect(1px 1px 1px 1px);clip: rect(1px, 1px, 1px, 1px);height: 1px;margin: -1px;overflow: hidden;padding: 0;position: absolute;width: 1px;}#sk-container-id-25 div.sk-estimator {font-family: monospace;background-color: #f0f8ff;border: 1px dotted black;border-radius: 0.25em;box-sizing: border-box;margin-bottom: 0.5em;}#sk-container-id-25 div.sk-estimator:hover {background-color: #d4ebff;}#sk-container-id-25 div.sk-parallel-item::after {content: \"\";width: 100%;border-bottom: 1px solid gray;flex-grow: 1;}#sk-container-id-25 div.sk-label:hover label.sk-toggleable__label {background-color: #d4ebff;}#sk-container-id-25 div.sk-serial::before {content: \"\";position: absolute;border-left: 1px solid gray;box-sizing: border-box;top: 0;bottom: 0;left: 50%;z-index: 0;}#sk-container-id-25 div.sk-serial {display: flex;flex-direction: column;align-items: center;background-color: white;padding-right: 0.2em;padding-left: 0.2em;position: relative;}#sk-container-id-25 div.sk-item {position: relative;z-index: 1;}#sk-container-id-25 div.sk-parallel {display: flex;align-items: stretch;justify-content: center;background-color: white;position: relative;}#sk-container-id-25 div.sk-item::before, #sk-container-id-25 div.sk-parallel-item::before {content: \"\";position: absolute;border-left: 1px solid gray;box-sizing: border-box;top: 0;bottom: 0;left: 50%;z-index: -1;}#sk-container-id-25 div.sk-parallel-item {display: flex;flex-direction: column;z-index: 1;position: relative;background-color: white;}#sk-container-id-25 div.sk-parallel-item:first-child::after {align-self: flex-end;width: 50%;}#sk-container-id-25 div.sk-parallel-item:last-child::after {align-self: flex-start;width: 50%;}#sk-container-id-25 div.sk-parallel-item:only-child::after {width: 0;}#sk-container-id-25 div.sk-dashed-wrapped {border: 1px dashed gray;margin: 0 0.4em 0.5em 0.4em;box-sizing: border-box;padding-bottom: 0.4em;background-color: white;}#sk-container-id-25 div.sk-label label {font-family: monospace;font-weight: bold;display: inline-block;line-height: 1.2em;}#sk-container-id-25 div.sk-label-container {text-align: center;}#sk-container-id-25 div.sk-container {/* jupyter's `normalize.less` sets `[hidden] { display: none; }` but bootstrap.min.css set `[hidden] { display: none !important; }` so we also need the `!important` here to be able to override the default hidden behavior on the sphinx rendered scikit-learn.org. See: https://github.com/scikit-learn/scikit-learn/issues/21755 */display: inline-block !important;position: relative;}#sk-container-id-25 div.sk-text-repr-fallback {display: none;}</style><div id=\"sk-container-id-25\" class=\"sk-top-container\"><div class=\"sk-text-repr-fallback\"><pre>KNeighborsClassifier()</pre><b>In a Jupyter environment, please rerun this cell to show the HTML representation or trust the notebook. <br />On GitHub, the HTML representation is unable to render, please try loading this page with nbviewer.org.</b></div><div class=\"sk-container\" hidden><div class=\"sk-item\"><div class=\"sk-estimator sk-toggleable\"><input class=\"sk-toggleable__control sk-hidden--visually\" id=\"sk-estimator-id-29\" type=\"checkbox\" checked><label for=\"sk-estimator-id-29\" class=\"sk-toggleable__label sk-toggleable__label-arrow\">KNeighborsClassifier</label><div class=\"sk-toggleable__content\"><pre>KNeighborsClassifier()</pre></div></div></div></div></div>"
      ],
      "text/plain": [
       "KNeighborsClassifier()"
      ]
     },
     "execution_count": 292,
     "metadata": {},
     "output_type": "execute_result"
    }
   ],
   "source": [
    "knn.fit(xtrain,ytrain)"
   ]
  },
  {
   "cell_type": "code",
   "execution_count": 293,
   "id": "lQpB1F7QBPfZ",
   "metadata": {
    "id": "lQpB1F7QBPfZ"
   },
   "outputs": [],
   "source": [
    "pred=knn.predict(xtest)"
   ]
  },
  {
   "cell_type": "code",
   "execution_count": 294,
   "id": "TvtijAGIBRg3",
   "metadata": {
    "id": "TvtijAGIBRg3",
    "scrolled": false
   },
   "outputs": [
    {
     "name": "stdout",
     "output_type": "stream",
     "text": [
      "              precision    recall  f1-score   support\n",
      "\n",
      "  bruteforce       1.00      0.98      0.99      5775\n",
      "      normal       1.00      1.00      1.00     75237\n",
      "      scan_A       1.00      1.00      1.00      7960\n",
      "     scan_SU       1.00      1.00      1.00      4487\n",
      "      sparta       1.00      1.00      1.00      5646\n",
      "\n",
      "    accuracy                           1.00     99105\n",
      "   macro avg       1.00      1.00      1.00     99105\n",
      "weighted avg       1.00      1.00      1.00     99105\n",
      "\n"
     ]
    }
   ],
   "source": [
    "print(classification_report(ytest,pred))"
   ]
  },
  {
   "cell_type": "code",
   "execution_count": 295,
   "id": "735d8042",
   "metadata": {},
   "outputs": [],
   "source": [
    "report_knn=pd.DataFrame(classification_report(ytest,pred,output_dict=True)).transpose()"
   ]
  },
  {
   "cell_type": "markdown",
   "id": "3627fd4d",
   "metadata": {},
   "source": [
    "### Combining results and outputting"
   ]
  },
  {
   "cell_type": "code",
   "execution_count": 296,
   "id": "5f00c6e5",
   "metadata": {},
   "outputs": [],
   "source": [
    "report_uni=pd.concat([report_rfc,report_lr,report_dtc,report_nb,report_svm,report_knn],\n",
    "                     keys=['Random Forest','Logistic Regression','Decision Trees','Naive bayes','Support Vector Machines','K Nearest Neighbour'])"
   ]
  },
  {
   "cell_type": "code",
   "execution_count": 297,
   "id": "28ceba51",
   "metadata": {},
   "outputs": [],
   "source": [
    "report_uni.to_csv('UniFlow_results.csv')"
   ]
  },
  {
   "cell_type": "markdown",
   "id": "LNGXat5kDun5",
   "metadata": {
    "id": "LNGXat5kDun5"
   },
   "source": [
    "## Bi-Flow data"
   ]
  },
  {
   "cell_type": "markdown",
   "id": "E-q-jbdtDuoI",
   "metadata": {
    "id": "E-q-jbdtDuoI"
   },
   "source": [
    "### Creating train test split"
   ]
  },
  {
   "cell_type": "code",
   "execution_count": 138,
   "id": "qmmPlrc6DuoI",
   "metadata": {
    "id": "qmmPlrc6DuoI"
   },
   "outputs": [],
   "source": [
    "from sklearn.model_selection import train_test_split"
   ]
  },
  {
   "cell_type": "code",
   "execution_count": 139,
   "id": "TS8V9yj-DuoI",
   "metadata": {
    "id": "TS8V9yj-DuoI"
   },
   "outputs": [],
   "source": [
    "xtrain, xtest, ytrain, ytest = train_test_split(bi_df.drop('is_attack',axis=1), bi_df['is_attack'], test_size=0.20, random_state=42,stratify= bi_df['is_attack'])"
   ]
  },
  {
   "cell_type": "code",
   "execution_count": 140,
   "id": "0ae856e9",
   "metadata": {},
   "outputs": [],
   "source": [
    "xtrain=xtrain.values\n",
    "ytrain=ytrain.values\n",
    "xtest=xtest.values\n",
    "ytest=ytest.values"
   ]
  },
  {
   "cell_type": "markdown",
   "id": "9c68b32a",
   "metadata": {},
   "source": [
    "### Scaling"
   ]
  },
  {
   "cell_type": "code",
   "execution_count": 141,
   "id": "aaa4b1cb",
   "metadata": {},
   "outputs": [],
   "source": [
    "from sklearn.preprocessing import MinMaxScaler"
   ]
  },
  {
   "cell_type": "code",
   "execution_count": 142,
   "id": "f7293d3c",
   "metadata": {},
   "outputs": [],
   "source": [
    "ss=MinMaxScaler()\n",
    "ss.fit(xtrain)\n",
    "xtrain=ss.transform(xtrain)\n",
    "xtest=ss.transform(xtest)"
   ]
  },
  {
   "cell_type": "markdown",
   "id": "tr9CSwapDuoI",
   "metadata": {
    "id": "tr9CSwapDuoI"
   },
   "source": [
    "### Random Forest Classifier"
   ]
  },
  {
   "cell_type": "code",
   "execution_count": 143,
   "id": "c0b7MGdGDuoJ",
   "metadata": {
    "id": "c0b7MGdGDuoJ"
   },
   "outputs": [],
   "source": [
    "from sklearn.ensemble import RandomForestClassifier"
   ]
  },
  {
   "cell_type": "code",
   "execution_count": 144,
   "id": "fu5ylfX9DuoJ",
   "metadata": {
    "id": "fu5ylfX9DuoJ"
   },
   "outputs": [],
   "source": [
    "rfc=RandomForestClassifier()"
   ]
  },
  {
   "cell_type": "code",
   "execution_count": 145,
   "id": "dcgv7cxcDuoJ",
   "metadata": {
    "colab": {
     "base_uri": "https://localhost:8080/"
    },
    "id": "dcgv7cxcDuoJ",
    "outputId": "1b46d224-ee68-4f6f-8874-1c595cf67f9f"
   },
   "outputs": [
    {
     "data": {
      "text/html": [
       "<style>#sk-container-id-7 {color: black;background-color: white;}#sk-container-id-7 pre{padding: 0;}#sk-container-id-7 div.sk-toggleable {background-color: white;}#sk-container-id-7 label.sk-toggleable__label {cursor: pointer;display: block;width: 100%;margin-bottom: 0;padding: 0.3em;box-sizing: border-box;text-align: center;}#sk-container-id-7 label.sk-toggleable__label-arrow:before {content: \"▸\";float: left;margin-right: 0.25em;color: #696969;}#sk-container-id-7 label.sk-toggleable__label-arrow:hover:before {color: black;}#sk-container-id-7 div.sk-estimator:hover label.sk-toggleable__label-arrow:before {color: black;}#sk-container-id-7 div.sk-toggleable__content {max-height: 0;max-width: 0;overflow: hidden;text-align: left;background-color: #f0f8ff;}#sk-container-id-7 div.sk-toggleable__content pre {margin: 0.2em;color: black;border-radius: 0.25em;background-color: #f0f8ff;}#sk-container-id-7 input.sk-toggleable__control:checked~div.sk-toggleable__content {max-height: 200px;max-width: 100%;overflow: auto;}#sk-container-id-7 input.sk-toggleable__control:checked~label.sk-toggleable__label-arrow:before {content: \"▾\";}#sk-container-id-7 div.sk-estimator input.sk-toggleable__control:checked~label.sk-toggleable__label {background-color: #d4ebff;}#sk-container-id-7 div.sk-label input.sk-toggleable__control:checked~label.sk-toggleable__label {background-color: #d4ebff;}#sk-container-id-7 input.sk-hidden--visually {border: 0;clip: rect(1px 1px 1px 1px);clip: rect(1px, 1px, 1px, 1px);height: 1px;margin: -1px;overflow: hidden;padding: 0;position: absolute;width: 1px;}#sk-container-id-7 div.sk-estimator {font-family: monospace;background-color: #f0f8ff;border: 1px dotted black;border-radius: 0.25em;box-sizing: border-box;margin-bottom: 0.5em;}#sk-container-id-7 div.sk-estimator:hover {background-color: #d4ebff;}#sk-container-id-7 div.sk-parallel-item::after {content: \"\";width: 100%;border-bottom: 1px solid gray;flex-grow: 1;}#sk-container-id-7 div.sk-label:hover label.sk-toggleable__label {background-color: #d4ebff;}#sk-container-id-7 div.sk-serial::before {content: \"\";position: absolute;border-left: 1px solid gray;box-sizing: border-box;top: 0;bottom: 0;left: 50%;z-index: 0;}#sk-container-id-7 div.sk-serial {display: flex;flex-direction: column;align-items: center;background-color: white;padding-right: 0.2em;padding-left: 0.2em;position: relative;}#sk-container-id-7 div.sk-item {position: relative;z-index: 1;}#sk-container-id-7 div.sk-parallel {display: flex;align-items: stretch;justify-content: center;background-color: white;position: relative;}#sk-container-id-7 div.sk-item::before, #sk-container-id-7 div.sk-parallel-item::before {content: \"\";position: absolute;border-left: 1px solid gray;box-sizing: border-box;top: 0;bottom: 0;left: 50%;z-index: -1;}#sk-container-id-7 div.sk-parallel-item {display: flex;flex-direction: column;z-index: 1;position: relative;background-color: white;}#sk-container-id-7 div.sk-parallel-item:first-child::after {align-self: flex-end;width: 50%;}#sk-container-id-7 div.sk-parallel-item:last-child::after {align-self: flex-start;width: 50%;}#sk-container-id-7 div.sk-parallel-item:only-child::after {width: 0;}#sk-container-id-7 div.sk-dashed-wrapped {border: 1px dashed gray;margin: 0 0.4em 0.5em 0.4em;box-sizing: border-box;padding-bottom: 0.4em;background-color: white;}#sk-container-id-7 div.sk-label label {font-family: monospace;font-weight: bold;display: inline-block;line-height: 1.2em;}#sk-container-id-7 div.sk-label-container {text-align: center;}#sk-container-id-7 div.sk-container {/* jupyter's `normalize.less` sets `[hidden] { display: none; }` but bootstrap.min.css set `[hidden] { display: none !important; }` so we also need the `!important` here to be able to override the default hidden behavior on the sphinx rendered scikit-learn.org. See: https://github.com/scikit-learn/scikit-learn/issues/21755 */display: inline-block !important;position: relative;}#sk-container-id-7 div.sk-text-repr-fallback {display: none;}</style><div id=\"sk-container-id-7\" class=\"sk-top-container\"><div class=\"sk-text-repr-fallback\"><pre>RandomForestClassifier()</pre><b>In a Jupyter environment, please rerun this cell to show the HTML representation or trust the notebook. <br />On GitHub, the HTML representation is unable to render, please try loading this page with nbviewer.org.</b></div><div class=\"sk-container\" hidden><div class=\"sk-item\"><div class=\"sk-estimator sk-toggleable\"><input class=\"sk-toggleable__control sk-hidden--visually\" id=\"sk-estimator-id-7\" type=\"checkbox\" checked><label for=\"sk-estimator-id-7\" class=\"sk-toggleable__label sk-toggleable__label-arrow\">RandomForestClassifier</label><div class=\"sk-toggleable__content\"><pre>RandomForestClassifier()</pre></div></div></div></div></div>"
      ],
      "text/plain": [
       "RandomForestClassifier()"
      ]
     },
     "execution_count": 145,
     "metadata": {},
     "output_type": "execute_result"
    }
   ],
   "source": [
    "rfc.fit(xtrain,ytrain)"
   ]
  },
  {
   "cell_type": "code",
   "execution_count": 146,
   "id": "yswc0J7TDuoJ",
   "metadata": {
    "id": "yswc0J7TDuoJ"
   },
   "outputs": [],
   "source": [
    "pred=rfc.predict(xtest)"
   ]
  },
  {
   "cell_type": "code",
   "execution_count": 147,
   "id": "kv5bVA4eDuoK",
   "metadata": {
    "colab": {
     "base_uri": "https://localhost:8080/"
    },
    "id": "kv5bVA4eDuoK",
    "outputId": "2bcbeac3-5752-4c44-f066-f66da08e9eb5"
   },
   "outputs": [
    {
     "name": "stdout",
     "output_type": "stream",
     "text": [
      "              precision    recall  f1-score   support\n",
      "\n",
      "  bruteforce       1.00      0.98      0.99      2909\n",
      "      normal       1.00      1.00      1.00     37676\n",
      "      scan_A       1.00      1.00      1.00      3981\n",
      "     scan_SU       1.00      1.00      1.00      4487\n",
      "      sparta       1.00      1.00      1.00      2823\n",
      "\n",
      "    accuracy                           1.00     51876\n",
      "   macro avg       1.00      1.00      1.00     51876\n",
      "weighted avg       1.00      1.00      1.00     51876\n",
      "\n"
     ]
    }
   ],
   "source": [
    "print(classification_report(ytest,pred))"
   ]
  },
  {
   "cell_type": "code",
   "execution_count": 148,
   "id": "5a3f1148",
   "metadata": {},
   "outputs": [],
   "source": [
    "report_rfc=pd.DataFrame(classification_report(ytest,pred,output_dict=True)).transpose()"
   ]
  },
  {
   "cell_type": "markdown",
   "id": "6aI3RZqCDuoK",
   "metadata": {
    "id": "6aI3RZqCDuoK"
   },
   "source": [
    "### Logistic Regression"
   ]
  },
  {
   "cell_type": "code",
   "execution_count": 149,
   "id": "PtzUUi-QDuoK",
   "metadata": {
    "id": "PtzUUi-QDuoK"
   },
   "outputs": [],
   "source": [
    "from sklearn.linear_model import LogisticRegression"
   ]
  },
  {
   "cell_type": "code",
   "execution_count": 150,
   "id": "lKb4CDaIDuoK",
   "metadata": {
    "id": "lKb4CDaIDuoK"
   },
   "outputs": [],
   "source": [
    "lr=LogisticRegression(n_jobs=-1,max_iter=3000)"
   ]
  },
  {
   "cell_type": "code",
   "execution_count": 151,
   "id": "miBmg1F-DuoL",
   "metadata": {
    "colab": {
     "base_uri": "https://localhost:8080/"
    },
    "id": "miBmg1F-DuoL",
    "outputId": "ffbc8271-a85c-429d-b31b-a5bab5e3d352"
   },
   "outputs": [
    {
     "data": {
      "text/html": [
       "<style>#sk-container-id-8 {color: black;background-color: white;}#sk-container-id-8 pre{padding: 0;}#sk-container-id-8 div.sk-toggleable {background-color: white;}#sk-container-id-8 label.sk-toggleable__label {cursor: pointer;display: block;width: 100%;margin-bottom: 0;padding: 0.3em;box-sizing: border-box;text-align: center;}#sk-container-id-8 label.sk-toggleable__label-arrow:before {content: \"▸\";float: left;margin-right: 0.25em;color: #696969;}#sk-container-id-8 label.sk-toggleable__label-arrow:hover:before {color: black;}#sk-container-id-8 div.sk-estimator:hover label.sk-toggleable__label-arrow:before {color: black;}#sk-container-id-8 div.sk-toggleable__content {max-height: 0;max-width: 0;overflow: hidden;text-align: left;background-color: #f0f8ff;}#sk-container-id-8 div.sk-toggleable__content pre {margin: 0.2em;color: black;border-radius: 0.25em;background-color: #f0f8ff;}#sk-container-id-8 input.sk-toggleable__control:checked~div.sk-toggleable__content {max-height: 200px;max-width: 100%;overflow: auto;}#sk-container-id-8 input.sk-toggleable__control:checked~label.sk-toggleable__label-arrow:before {content: \"▾\";}#sk-container-id-8 div.sk-estimator input.sk-toggleable__control:checked~label.sk-toggleable__label {background-color: #d4ebff;}#sk-container-id-8 div.sk-label input.sk-toggleable__control:checked~label.sk-toggleable__label {background-color: #d4ebff;}#sk-container-id-8 input.sk-hidden--visually {border: 0;clip: rect(1px 1px 1px 1px);clip: rect(1px, 1px, 1px, 1px);height: 1px;margin: -1px;overflow: hidden;padding: 0;position: absolute;width: 1px;}#sk-container-id-8 div.sk-estimator {font-family: monospace;background-color: #f0f8ff;border: 1px dotted black;border-radius: 0.25em;box-sizing: border-box;margin-bottom: 0.5em;}#sk-container-id-8 div.sk-estimator:hover {background-color: #d4ebff;}#sk-container-id-8 div.sk-parallel-item::after {content: \"\";width: 100%;border-bottom: 1px solid gray;flex-grow: 1;}#sk-container-id-8 div.sk-label:hover label.sk-toggleable__label {background-color: #d4ebff;}#sk-container-id-8 div.sk-serial::before {content: \"\";position: absolute;border-left: 1px solid gray;box-sizing: border-box;top: 0;bottom: 0;left: 50%;z-index: 0;}#sk-container-id-8 div.sk-serial {display: flex;flex-direction: column;align-items: center;background-color: white;padding-right: 0.2em;padding-left: 0.2em;position: relative;}#sk-container-id-8 div.sk-item {position: relative;z-index: 1;}#sk-container-id-8 div.sk-parallel {display: flex;align-items: stretch;justify-content: center;background-color: white;position: relative;}#sk-container-id-8 div.sk-item::before, #sk-container-id-8 div.sk-parallel-item::before {content: \"\";position: absolute;border-left: 1px solid gray;box-sizing: border-box;top: 0;bottom: 0;left: 50%;z-index: -1;}#sk-container-id-8 div.sk-parallel-item {display: flex;flex-direction: column;z-index: 1;position: relative;background-color: white;}#sk-container-id-8 div.sk-parallel-item:first-child::after {align-self: flex-end;width: 50%;}#sk-container-id-8 div.sk-parallel-item:last-child::after {align-self: flex-start;width: 50%;}#sk-container-id-8 div.sk-parallel-item:only-child::after {width: 0;}#sk-container-id-8 div.sk-dashed-wrapped {border: 1px dashed gray;margin: 0 0.4em 0.5em 0.4em;box-sizing: border-box;padding-bottom: 0.4em;background-color: white;}#sk-container-id-8 div.sk-label label {font-family: monospace;font-weight: bold;display: inline-block;line-height: 1.2em;}#sk-container-id-8 div.sk-label-container {text-align: center;}#sk-container-id-8 div.sk-container {/* jupyter's `normalize.less` sets `[hidden] { display: none; }` but bootstrap.min.css set `[hidden] { display: none !important; }` so we also need the `!important` here to be able to override the default hidden behavior on the sphinx rendered scikit-learn.org. See: https://github.com/scikit-learn/scikit-learn/issues/21755 */display: inline-block !important;position: relative;}#sk-container-id-8 div.sk-text-repr-fallback {display: none;}</style><div id=\"sk-container-id-8\" class=\"sk-top-container\"><div class=\"sk-text-repr-fallback\"><pre>LogisticRegression(max_iter=3000, n_jobs=-1)</pre><b>In a Jupyter environment, please rerun this cell to show the HTML representation or trust the notebook. <br />On GitHub, the HTML representation is unable to render, please try loading this page with nbviewer.org.</b></div><div class=\"sk-container\" hidden><div class=\"sk-item\"><div class=\"sk-estimator sk-toggleable\"><input class=\"sk-toggleable__control sk-hidden--visually\" id=\"sk-estimator-id-8\" type=\"checkbox\" checked><label for=\"sk-estimator-id-8\" class=\"sk-toggleable__label sk-toggleable__label-arrow\">LogisticRegression</label><div class=\"sk-toggleable__content\"><pre>LogisticRegression(max_iter=3000, n_jobs=-1)</pre></div></div></div></div></div>"
      ],
      "text/plain": [
       "LogisticRegression(max_iter=3000, n_jobs=-1)"
      ]
     },
     "execution_count": 151,
     "metadata": {},
     "output_type": "execute_result"
    }
   ],
   "source": [
    "lr.fit(xtrain,ytrain)"
   ]
  },
  {
   "cell_type": "code",
   "execution_count": 152,
   "id": "GQZU5ld1DuoL",
   "metadata": {
    "id": "GQZU5ld1DuoL"
   },
   "outputs": [],
   "source": [
    "pred=lr.predict(xtest)"
   ]
  },
  {
   "cell_type": "code",
   "execution_count": 153,
   "id": "UvVyzaqFDuoL",
   "metadata": {
    "colab": {
     "base_uri": "https://localhost:8080/"
    },
    "id": "UvVyzaqFDuoL",
    "outputId": "011c922d-a521-4f95-8626-8b466c2cb869",
    "scrolled": false
   },
   "outputs": [
    {
     "name": "stdout",
     "output_type": "stream",
     "text": [
      "              precision    recall  f1-score   support\n",
      "\n",
      "  bruteforce       0.88      0.08      0.15      2909\n",
      "      normal       0.93      1.00      0.96     37676\n",
      "      scan_A       0.98      1.00      0.99      3981\n",
      "     scan_SU       1.00      0.99      0.99      4487\n",
      "      sparta       1.00      1.00      1.00      2823\n",
      "\n",
      "    accuracy                           0.94     51876\n",
      "   macro avg       0.96      0.81      0.82     51876\n",
      "weighted avg       0.94      0.94      0.92     51876\n",
      "\n"
     ]
    }
   ],
   "source": [
    "print(classification_report(ytest,pred))"
   ]
  },
  {
   "cell_type": "code",
   "execution_count": 154,
   "id": "2bb8be14",
   "metadata": {},
   "outputs": [],
   "source": [
    "report_lr=pd.DataFrame(classification_report(ytest,pred,output_dict=True)).transpose()"
   ]
  },
  {
   "cell_type": "markdown",
   "id": "Q5Uxkp7UDuoL",
   "metadata": {
    "id": "Q5Uxkp7UDuoL"
   },
   "source": [
    "### Decision Trees"
   ]
  },
  {
   "cell_type": "code",
   "execution_count": 155,
   "id": "VrtIUeYoDuoM",
   "metadata": {
    "id": "VrtIUeYoDuoM"
   },
   "outputs": [],
   "source": [
    "from sklearn.tree import DecisionTreeClassifier"
   ]
  },
  {
   "cell_type": "code",
   "execution_count": 156,
   "id": "rONacXhxDuoM",
   "metadata": {
    "id": "rONacXhxDuoM"
   },
   "outputs": [],
   "source": [
    "dtc=DecisionTreeClassifier()"
   ]
  },
  {
   "cell_type": "code",
   "execution_count": 157,
   "id": "RrXBOHNrDuoM",
   "metadata": {
    "colab": {
     "base_uri": "https://localhost:8080/"
    },
    "id": "RrXBOHNrDuoM",
    "outputId": "664a77d4-1fbe-4219-8648-037fd970c8f3"
   },
   "outputs": [
    {
     "data": {
      "text/html": [
       "<style>#sk-container-id-9 {color: black;background-color: white;}#sk-container-id-9 pre{padding: 0;}#sk-container-id-9 div.sk-toggleable {background-color: white;}#sk-container-id-9 label.sk-toggleable__label {cursor: pointer;display: block;width: 100%;margin-bottom: 0;padding: 0.3em;box-sizing: border-box;text-align: center;}#sk-container-id-9 label.sk-toggleable__label-arrow:before {content: \"▸\";float: left;margin-right: 0.25em;color: #696969;}#sk-container-id-9 label.sk-toggleable__label-arrow:hover:before {color: black;}#sk-container-id-9 div.sk-estimator:hover label.sk-toggleable__label-arrow:before {color: black;}#sk-container-id-9 div.sk-toggleable__content {max-height: 0;max-width: 0;overflow: hidden;text-align: left;background-color: #f0f8ff;}#sk-container-id-9 div.sk-toggleable__content pre {margin: 0.2em;color: black;border-radius: 0.25em;background-color: #f0f8ff;}#sk-container-id-9 input.sk-toggleable__control:checked~div.sk-toggleable__content {max-height: 200px;max-width: 100%;overflow: auto;}#sk-container-id-9 input.sk-toggleable__control:checked~label.sk-toggleable__label-arrow:before {content: \"▾\";}#sk-container-id-9 div.sk-estimator input.sk-toggleable__control:checked~label.sk-toggleable__label {background-color: #d4ebff;}#sk-container-id-9 div.sk-label input.sk-toggleable__control:checked~label.sk-toggleable__label {background-color: #d4ebff;}#sk-container-id-9 input.sk-hidden--visually {border: 0;clip: rect(1px 1px 1px 1px);clip: rect(1px, 1px, 1px, 1px);height: 1px;margin: -1px;overflow: hidden;padding: 0;position: absolute;width: 1px;}#sk-container-id-9 div.sk-estimator {font-family: monospace;background-color: #f0f8ff;border: 1px dotted black;border-radius: 0.25em;box-sizing: border-box;margin-bottom: 0.5em;}#sk-container-id-9 div.sk-estimator:hover {background-color: #d4ebff;}#sk-container-id-9 div.sk-parallel-item::after {content: \"\";width: 100%;border-bottom: 1px solid gray;flex-grow: 1;}#sk-container-id-9 div.sk-label:hover label.sk-toggleable__label {background-color: #d4ebff;}#sk-container-id-9 div.sk-serial::before {content: \"\";position: absolute;border-left: 1px solid gray;box-sizing: border-box;top: 0;bottom: 0;left: 50%;z-index: 0;}#sk-container-id-9 div.sk-serial {display: flex;flex-direction: column;align-items: center;background-color: white;padding-right: 0.2em;padding-left: 0.2em;position: relative;}#sk-container-id-9 div.sk-item {position: relative;z-index: 1;}#sk-container-id-9 div.sk-parallel {display: flex;align-items: stretch;justify-content: center;background-color: white;position: relative;}#sk-container-id-9 div.sk-item::before, #sk-container-id-9 div.sk-parallel-item::before {content: \"\";position: absolute;border-left: 1px solid gray;box-sizing: border-box;top: 0;bottom: 0;left: 50%;z-index: -1;}#sk-container-id-9 div.sk-parallel-item {display: flex;flex-direction: column;z-index: 1;position: relative;background-color: white;}#sk-container-id-9 div.sk-parallel-item:first-child::after {align-self: flex-end;width: 50%;}#sk-container-id-9 div.sk-parallel-item:last-child::after {align-self: flex-start;width: 50%;}#sk-container-id-9 div.sk-parallel-item:only-child::after {width: 0;}#sk-container-id-9 div.sk-dashed-wrapped {border: 1px dashed gray;margin: 0 0.4em 0.5em 0.4em;box-sizing: border-box;padding-bottom: 0.4em;background-color: white;}#sk-container-id-9 div.sk-label label {font-family: monospace;font-weight: bold;display: inline-block;line-height: 1.2em;}#sk-container-id-9 div.sk-label-container {text-align: center;}#sk-container-id-9 div.sk-container {/* jupyter's `normalize.less` sets `[hidden] { display: none; }` but bootstrap.min.css set `[hidden] { display: none !important; }` so we also need the `!important` here to be able to override the default hidden behavior on the sphinx rendered scikit-learn.org. See: https://github.com/scikit-learn/scikit-learn/issues/21755 */display: inline-block !important;position: relative;}#sk-container-id-9 div.sk-text-repr-fallback {display: none;}</style><div id=\"sk-container-id-9\" class=\"sk-top-container\"><div class=\"sk-text-repr-fallback\"><pre>DecisionTreeClassifier()</pre><b>In a Jupyter environment, please rerun this cell to show the HTML representation or trust the notebook. <br />On GitHub, the HTML representation is unable to render, please try loading this page with nbviewer.org.</b></div><div class=\"sk-container\" hidden><div class=\"sk-item\"><div class=\"sk-estimator sk-toggleable\"><input class=\"sk-toggleable__control sk-hidden--visually\" id=\"sk-estimator-id-9\" type=\"checkbox\" checked><label for=\"sk-estimator-id-9\" class=\"sk-toggleable__label sk-toggleable__label-arrow\">DecisionTreeClassifier</label><div class=\"sk-toggleable__content\"><pre>DecisionTreeClassifier()</pre></div></div></div></div></div>"
      ],
      "text/plain": [
       "DecisionTreeClassifier()"
      ]
     },
     "execution_count": 157,
     "metadata": {},
     "output_type": "execute_result"
    }
   ],
   "source": [
    "dtc.fit(xtrain,ytrain)"
   ]
  },
  {
   "cell_type": "code",
   "execution_count": 158,
   "id": "tZtQFabmDuoM",
   "metadata": {
    "id": "tZtQFabmDuoM"
   },
   "outputs": [],
   "source": [
    "pred=dtc.predict(xtest)"
   ]
  },
  {
   "cell_type": "code",
   "execution_count": 159,
   "id": "P5kHZm2nDuoN",
   "metadata": {
    "colab": {
     "base_uri": "https://localhost:8080/"
    },
    "id": "P5kHZm2nDuoN",
    "outputId": "29b2d72f-6846-4a13-a320-2a5a9dae54ae",
    "scrolled": false
   },
   "outputs": [
    {
     "name": "stdout",
     "output_type": "stream",
     "text": [
      "              precision    recall  f1-score   support\n",
      "\n",
      "  bruteforce       0.98      0.99      0.99      2909\n",
      "      normal       1.00      1.00      1.00     37676\n",
      "      scan_A       1.00      1.00      1.00      3981\n",
      "     scan_SU       1.00      1.00      1.00      4487\n",
      "      sparta       1.00      1.00      1.00      2823\n",
      "\n",
      "    accuracy                           1.00     51876\n",
      "   macro avg       1.00      1.00      1.00     51876\n",
      "weighted avg       1.00      1.00      1.00     51876\n",
      "\n"
     ]
    }
   ],
   "source": [
    "print(classification_report(ytest,pred))"
   ]
  },
  {
   "cell_type": "code",
   "execution_count": 160,
   "id": "67d99198",
   "metadata": {},
   "outputs": [],
   "source": [
    "report_dtc=pd.DataFrame(classification_report(ytest,pred,output_dict=True)).transpose()"
   ]
  },
  {
   "cell_type": "markdown",
   "id": "--0x8kMCDuoN",
   "metadata": {
    "id": "--0x8kMCDuoN"
   },
   "source": [
    "### Naive Bayes"
   ]
  },
  {
   "cell_type": "code",
   "execution_count": 161,
   "id": "pK6rjmPWDuoN",
   "metadata": {
    "id": "pK6rjmPWDuoN"
   },
   "outputs": [],
   "source": [
    "from sklearn.naive_bayes import GaussianNB"
   ]
  },
  {
   "cell_type": "code",
   "execution_count": 162,
   "id": "O8Kh7TYtDuoN",
   "metadata": {
    "id": "O8Kh7TYtDuoN"
   },
   "outputs": [],
   "source": [
    "gnb=GaussianNB()"
   ]
  },
  {
   "cell_type": "code",
   "execution_count": 163,
   "id": "ezyo29xzDuoO",
   "metadata": {
    "colab": {
     "base_uri": "https://localhost:8080/"
    },
    "id": "ezyo29xzDuoO",
    "outputId": "9123dfb3-da40-424c-a357-d4b31515488a"
   },
   "outputs": [
    {
     "data": {
      "text/html": [
       "<style>#sk-container-id-10 {color: black;background-color: white;}#sk-container-id-10 pre{padding: 0;}#sk-container-id-10 div.sk-toggleable {background-color: white;}#sk-container-id-10 label.sk-toggleable__label {cursor: pointer;display: block;width: 100%;margin-bottom: 0;padding: 0.3em;box-sizing: border-box;text-align: center;}#sk-container-id-10 label.sk-toggleable__label-arrow:before {content: \"▸\";float: left;margin-right: 0.25em;color: #696969;}#sk-container-id-10 label.sk-toggleable__label-arrow:hover:before {color: black;}#sk-container-id-10 div.sk-estimator:hover label.sk-toggleable__label-arrow:before {color: black;}#sk-container-id-10 div.sk-toggleable__content {max-height: 0;max-width: 0;overflow: hidden;text-align: left;background-color: #f0f8ff;}#sk-container-id-10 div.sk-toggleable__content pre {margin: 0.2em;color: black;border-radius: 0.25em;background-color: #f0f8ff;}#sk-container-id-10 input.sk-toggleable__control:checked~div.sk-toggleable__content {max-height: 200px;max-width: 100%;overflow: auto;}#sk-container-id-10 input.sk-toggleable__control:checked~label.sk-toggleable__label-arrow:before {content: \"▾\";}#sk-container-id-10 div.sk-estimator input.sk-toggleable__control:checked~label.sk-toggleable__label {background-color: #d4ebff;}#sk-container-id-10 div.sk-label input.sk-toggleable__control:checked~label.sk-toggleable__label {background-color: #d4ebff;}#sk-container-id-10 input.sk-hidden--visually {border: 0;clip: rect(1px 1px 1px 1px);clip: rect(1px, 1px, 1px, 1px);height: 1px;margin: -1px;overflow: hidden;padding: 0;position: absolute;width: 1px;}#sk-container-id-10 div.sk-estimator {font-family: monospace;background-color: #f0f8ff;border: 1px dotted black;border-radius: 0.25em;box-sizing: border-box;margin-bottom: 0.5em;}#sk-container-id-10 div.sk-estimator:hover {background-color: #d4ebff;}#sk-container-id-10 div.sk-parallel-item::after {content: \"\";width: 100%;border-bottom: 1px solid gray;flex-grow: 1;}#sk-container-id-10 div.sk-label:hover label.sk-toggleable__label {background-color: #d4ebff;}#sk-container-id-10 div.sk-serial::before {content: \"\";position: absolute;border-left: 1px solid gray;box-sizing: border-box;top: 0;bottom: 0;left: 50%;z-index: 0;}#sk-container-id-10 div.sk-serial {display: flex;flex-direction: column;align-items: center;background-color: white;padding-right: 0.2em;padding-left: 0.2em;position: relative;}#sk-container-id-10 div.sk-item {position: relative;z-index: 1;}#sk-container-id-10 div.sk-parallel {display: flex;align-items: stretch;justify-content: center;background-color: white;position: relative;}#sk-container-id-10 div.sk-item::before, #sk-container-id-10 div.sk-parallel-item::before {content: \"\";position: absolute;border-left: 1px solid gray;box-sizing: border-box;top: 0;bottom: 0;left: 50%;z-index: -1;}#sk-container-id-10 div.sk-parallel-item {display: flex;flex-direction: column;z-index: 1;position: relative;background-color: white;}#sk-container-id-10 div.sk-parallel-item:first-child::after {align-self: flex-end;width: 50%;}#sk-container-id-10 div.sk-parallel-item:last-child::after {align-self: flex-start;width: 50%;}#sk-container-id-10 div.sk-parallel-item:only-child::after {width: 0;}#sk-container-id-10 div.sk-dashed-wrapped {border: 1px dashed gray;margin: 0 0.4em 0.5em 0.4em;box-sizing: border-box;padding-bottom: 0.4em;background-color: white;}#sk-container-id-10 div.sk-label label {font-family: monospace;font-weight: bold;display: inline-block;line-height: 1.2em;}#sk-container-id-10 div.sk-label-container {text-align: center;}#sk-container-id-10 div.sk-container {/* jupyter's `normalize.less` sets `[hidden] { display: none; }` but bootstrap.min.css set `[hidden] { display: none !important; }` so we also need the `!important` here to be able to override the default hidden behavior on the sphinx rendered scikit-learn.org. See: https://github.com/scikit-learn/scikit-learn/issues/21755 */display: inline-block !important;position: relative;}#sk-container-id-10 div.sk-text-repr-fallback {display: none;}</style><div id=\"sk-container-id-10\" class=\"sk-top-container\"><div class=\"sk-text-repr-fallback\"><pre>GaussianNB()</pre><b>In a Jupyter environment, please rerun this cell to show the HTML representation or trust the notebook. <br />On GitHub, the HTML representation is unable to render, please try loading this page with nbviewer.org.</b></div><div class=\"sk-container\" hidden><div class=\"sk-item\"><div class=\"sk-estimator sk-toggleable\"><input class=\"sk-toggleable__control sk-hidden--visually\" id=\"sk-estimator-id-10\" type=\"checkbox\" checked><label for=\"sk-estimator-id-10\" class=\"sk-toggleable__label sk-toggleable__label-arrow\">GaussianNB</label><div class=\"sk-toggleable__content\"><pre>GaussianNB()</pre></div></div></div></div></div>"
      ],
      "text/plain": [
       "GaussianNB()"
      ]
     },
     "execution_count": 163,
     "metadata": {},
     "output_type": "execute_result"
    }
   ],
   "source": [
    "gnb.fit(xtrain,ytrain)"
   ]
  },
  {
   "cell_type": "code",
   "execution_count": 164,
   "id": "EXPtIourDuoO",
   "metadata": {
    "id": "EXPtIourDuoO"
   },
   "outputs": [],
   "source": [
    "pred=gnb.predict(xtest)"
   ]
  },
  {
   "cell_type": "code",
   "execution_count": 165,
   "id": "YbnPY_c_DuoO",
   "metadata": {
    "colab": {
     "base_uri": "https://localhost:8080/"
    },
    "id": "YbnPY_c_DuoO",
    "outputId": "01c2e1ea-7d2b-4275-f73c-d1ef36a18a20",
    "scrolled": true
   },
   "outputs": [
    {
     "name": "stdout",
     "output_type": "stream",
     "text": [
      "              precision    recall  f1-score   support\n",
      "\n",
      "  bruteforce       1.00      0.97      0.99      2909\n",
      "      normal       1.00      0.98      0.99     37676\n",
      "      scan_A       0.87      1.00      0.93      3981\n",
      "     scan_SU       1.00      1.00      1.00      4487\n",
      "      sparta       1.00      1.00      1.00      2823\n",
      "\n",
      "    accuracy                           0.99     51876\n",
      "   macro avg       0.97      0.99      0.98     51876\n",
      "weighted avg       0.99      0.99      0.99     51876\n",
      "\n"
     ]
    }
   ],
   "source": [
    "print(classification_report(ytest,pred))"
   ]
  },
  {
   "cell_type": "code",
   "execution_count": 166,
   "id": "d159bdc0",
   "metadata": {},
   "outputs": [],
   "source": [
    "report_nb=pd.DataFrame(classification_report(ytest,pred,output_dict=True)).transpose()"
   ]
  },
  {
   "cell_type": "markdown",
   "id": "w-zoufIxTFaF",
   "metadata": {
    "id": "w-zoufIxTFaF"
   },
   "source": [
    "### Support Vector Machines : Kernel Linear"
   ]
  },
  {
   "cell_type": "code",
   "execution_count": 167,
   "id": "EwjzapFLTFaF",
   "metadata": {
    "id": "EwjzapFLTFaF"
   },
   "outputs": [],
   "source": [
    "from sklearn.svm import LinearSVC"
   ]
  },
  {
   "cell_type": "code",
   "execution_count": 168,
   "id": "cWKK1LcsTFaF",
   "metadata": {
    "id": "cWKK1LcsTFaF"
   },
   "outputs": [],
   "source": [
    "svc_linear=LinearSVC()"
   ]
  },
  {
   "cell_type": "code",
   "execution_count": 169,
   "id": "riXD6M7oTFaF",
   "metadata": {
    "id": "riXD6M7oTFaF"
   },
   "outputs": [
    {
     "data": {
      "text/html": [
       "<style>#sk-container-id-11 {color: black;background-color: white;}#sk-container-id-11 pre{padding: 0;}#sk-container-id-11 div.sk-toggleable {background-color: white;}#sk-container-id-11 label.sk-toggleable__label {cursor: pointer;display: block;width: 100%;margin-bottom: 0;padding: 0.3em;box-sizing: border-box;text-align: center;}#sk-container-id-11 label.sk-toggleable__label-arrow:before {content: \"▸\";float: left;margin-right: 0.25em;color: #696969;}#sk-container-id-11 label.sk-toggleable__label-arrow:hover:before {color: black;}#sk-container-id-11 div.sk-estimator:hover label.sk-toggleable__label-arrow:before {color: black;}#sk-container-id-11 div.sk-toggleable__content {max-height: 0;max-width: 0;overflow: hidden;text-align: left;background-color: #f0f8ff;}#sk-container-id-11 div.sk-toggleable__content pre {margin: 0.2em;color: black;border-radius: 0.25em;background-color: #f0f8ff;}#sk-container-id-11 input.sk-toggleable__control:checked~div.sk-toggleable__content {max-height: 200px;max-width: 100%;overflow: auto;}#sk-container-id-11 input.sk-toggleable__control:checked~label.sk-toggleable__label-arrow:before {content: \"▾\";}#sk-container-id-11 div.sk-estimator input.sk-toggleable__control:checked~label.sk-toggleable__label {background-color: #d4ebff;}#sk-container-id-11 div.sk-label input.sk-toggleable__control:checked~label.sk-toggleable__label {background-color: #d4ebff;}#sk-container-id-11 input.sk-hidden--visually {border: 0;clip: rect(1px 1px 1px 1px);clip: rect(1px, 1px, 1px, 1px);height: 1px;margin: -1px;overflow: hidden;padding: 0;position: absolute;width: 1px;}#sk-container-id-11 div.sk-estimator {font-family: monospace;background-color: #f0f8ff;border: 1px dotted black;border-radius: 0.25em;box-sizing: border-box;margin-bottom: 0.5em;}#sk-container-id-11 div.sk-estimator:hover {background-color: #d4ebff;}#sk-container-id-11 div.sk-parallel-item::after {content: \"\";width: 100%;border-bottom: 1px solid gray;flex-grow: 1;}#sk-container-id-11 div.sk-label:hover label.sk-toggleable__label {background-color: #d4ebff;}#sk-container-id-11 div.sk-serial::before {content: \"\";position: absolute;border-left: 1px solid gray;box-sizing: border-box;top: 0;bottom: 0;left: 50%;z-index: 0;}#sk-container-id-11 div.sk-serial {display: flex;flex-direction: column;align-items: center;background-color: white;padding-right: 0.2em;padding-left: 0.2em;position: relative;}#sk-container-id-11 div.sk-item {position: relative;z-index: 1;}#sk-container-id-11 div.sk-parallel {display: flex;align-items: stretch;justify-content: center;background-color: white;position: relative;}#sk-container-id-11 div.sk-item::before, #sk-container-id-11 div.sk-parallel-item::before {content: \"\";position: absolute;border-left: 1px solid gray;box-sizing: border-box;top: 0;bottom: 0;left: 50%;z-index: -1;}#sk-container-id-11 div.sk-parallel-item {display: flex;flex-direction: column;z-index: 1;position: relative;background-color: white;}#sk-container-id-11 div.sk-parallel-item:first-child::after {align-self: flex-end;width: 50%;}#sk-container-id-11 div.sk-parallel-item:last-child::after {align-self: flex-start;width: 50%;}#sk-container-id-11 div.sk-parallel-item:only-child::after {width: 0;}#sk-container-id-11 div.sk-dashed-wrapped {border: 1px dashed gray;margin: 0 0.4em 0.5em 0.4em;box-sizing: border-box;padding-bottom: 0.4em;background-color: white;}#sk-container-id-11 div.sk-label label {font-family: monospace;font-weight: bold;display: inline-block;line-height: 1.2em;}#sk-container-id-11 div.sk-label-container {text-align: center;}#sk-container-id-11 div.sk-container {/* jupyter's `normalize.less` sets `[hidden] { display: none; }` but bootstrap.min.css set `[hidden] { display: none !important; }` so we also need the `!important` here to be able to override the default hidden behavior on the sphinx rendered scikit-learn.org. See: https://github.com/scikit-learn/scikit-learn/issues/21755 */display: inline-block !important;position: relative;}#sk-container-id-11 div.sk-text-repr-fallback {display: none;}</style><div id=\"sk-container-id-11\" class=\"sk-top-container\"><div class=\"sk-text-repr-fallback\"><pre>LinearSVC()</pre><b>In a Jupyter environment, please rerun this cell to show the HTML representation or trust the notebook. <br />On GitHub, the HTML representation is unable to render, please try loading this page with nbviewer.org.</b></div><div class=\"sk-container\" hidden><div class=\"sk-item\"><div class=\"sk-estimator sk-toggleable\"><input class=\"sk-toggleable__control sk-hidden--visually\" id=\"sk-estimator-id-11\" type=\"checkbox\" checked><label for=\"sk-estimator-id-11\" class=\"sk-toggleable__label sk-toggleable__label-arrow\">LinearSVC</label><div class=\"sk-toggleable__content\"><pre>LinearSVC()</pre></div></div></div></div></div>"
      ],
      "text/plain": [
       "LinearSVC()"
      ]
     },
     "execution_count": 169,
     "metadata": {},
     "output_type": "execute_result"
    }
   ],
   "source": [
    "svc_linear.fit(xtrain,ytrain)"
   ]
  },
  {
   "cell_type": "code",
   "execution_count": 170,
   "id": "rCnJrnNhTFaG",
   "metadata": {
    "id": "rCnJrnNhTFaG"
   },
   "outputs": [],
   "source": [
    "pred=svc_linear.predict(xtest)"
   ]
  },
  {
   "cell_type": "code",
   "execution_count": 171,
   "id": "8e-Uz0QvTFaG",
   "metadata": {
    "id": "8e-Uz0QvTFaG",
    "scrolled": true
   },
   "outputs": [
    {
     "name": "stdout",
     "output_type": "stream",
     "text": [
      "              precision    recall  f1-score   support\n",
      "\n",
      "  bruteforce       1.00      0.97      0.98      2909\n",
      "      normal       1.00      1.00      1.00     37676\n",
      "      scan_A       0.99      1.00      1.00      3981\n",
      "     scan_SU       1.00      0.99      1.00      4487\n",
      "      sparta       1.00      1.00      1.00      2823\n",
      "\n",
      "    accuracy                           1.00     51876\n",
      "   macro avg       1.00      0.99      0.99     51876\n",
      "weighted avg       1.00      1.00      1.00     51876\n",
      "\n"
     ]
    }
   ],
   "source": [
    "print(classification_report(ytest,pred))"
   ]
  },
  {
   "cell_type": "code",
   "execution_count": 172,
   "id": "2a9a6590",
   "metadata": {},
   "outputs": [],
   "source": [
    "report_svm=pd.DataFrame(classification_report(ytest,pred,output_dict=True)).transpose()"
   ]
  },
  {
   "cell_type": "markdown",
   "id": "JT6-kwgODuoQ",
   "metadata": {
    "id": "JT6-kwgODuoQ"
   },
   "source": [
    "### K nearest Neighbour"
   ]
  },
  {
   "cell_type": "code",
   "execution_count": 173,
   "id": "vrD2KmN-DuoQ",
   "metadata": {
    "id": "vrD2KmN-DuoQ"
   },
   "outputs": [],
   "source": [
    "from sklearn.neighbors import KNeighborsClassifier"
   ]
  },
  {
   "cell_type": "code",
   "execution_count": 174,
   "id": "JnCqVJpSDuoQ",
   "metadata": {
    "id": "JnCqVJpSDuoQ"
   },
   "outputs": [],
   "source": [
    "knn=KNeighborsClassifier()"
   ]
  },
  {
   "cell_type": "code",
   "execution_count": 175,
   "id": "jPLMRedfDuoR",
   "metadata": {
    "id": "jPLMRedfDuoR"
   },
   "outputs": [
    {
     "data": {
      "text/html": [
       "<style>#sk-container-id-12 {color: black;background-color: white;}#sk-container-id-12 pre{padding: 0;}#sk-container-id-12 div.sk-toggleable {background-color: white;}#sk-container-id-12 label.sk-toggleable__label {cursor: pointer;display: block;width: 100%;margin-bottom: 0;padding: 0.3em;box-sizing: border-box;text-align: center;}#sk-container-id-12 label.sk-toggleable__label-arrow:before {content: \"▸\";float: left;margin-right: 0.25em;color: #696969;}#sk-container-id-12 label.sk-toggleable__label-arrow:hover:before {color: black;}#sk-container-id-12 div.sk-estimator:hover label.sk-toggleable__label-arrow:before {color: black;}#sk-container-id-12 div.sk-toggleable__content {max-height: 0;max-width: 0;overflow: hidden;text-align: left;background-color: #f0f8ff;}#sk-container-id-12 div.sk-toggleable__content pre {margin: 0.2em;color: black;border-radius: 0.25em;background-color: #f0f8ff;}#sk-container-id-12 input.sk-toggleable__control:checked~div.sk-toggleable__content {max-height: 200px;max-width: 100%;overflow: auto;}#sk-container-id-12 input.sk-toggleable__control:checked~label.sk-toggleable__label-arrow:before {content: \"▾\";}#sk-container-id-12 div.sk-estimator input.sk-toggleable__control:checked~label.sk-toggleable__label {background-color: #d4ebff;}#sk-container-id-12 div.sk-label input.sk-toggleable__control:checked~label.sk-toggleable__label {background-color: #d4ebff;}#sk-container-id-12 input.sk-hidden--visually {border: 0;clip: rect(1px 1px 1px 1px);clip: rect(1px, 1px, 1px, 1px);height: 1px;margin: -1px;overflow: hidden;padding: 0;position: absolute;width: 1px;}#sk-container-id-12 div.sk-estimator {font-family: monospace;background-color: #f0f8ff;border: 1px dotted black;border-radius: 0.25em;box-sizing: border-box;margin-bottom: 0.5em;}#sk-container-id-12 div.sk-estimator:hover {background-color: #d4ebff;}#sk-container-id-12 div.sk-parallel-item::after {content: \"\";width: 100%;border-bottom: 1px solid gray;flex-grow: 1;}#sk-container-id-12 div.sk-label:hover label.sk-toggleable__label {background-color: #d4ebff;}#sk-container-id-12 div.sk-serial::before {content: \"\";position: absolute;border-left: 1px solid gray;box-sizing: border-box;top: 0;bottom: 0;left: 50%;z-index: 0;}#sk-container-id-12 div.sk-serial {display: flex;flex-direction: column;align-items: center;background-color: white;padding-right: 0.2em;padding-left: 0.2em;position: relative;}#sk-container-id-12 div.sk-item {position: relative;z-index: 1;}#sk-container-id-12 div.sk-parallel {display: flex;align-items: stretch;justify-content: center;background-color: white;position: relative;}#sk-container-id-12 div.sk-item::before, #sk-container-id-12 div.sk-parallel-item::before {content: \"\";position: absolute;border-left: 1px solid gray;box-sizing: border-box;top: 0;bottom: 0;left: 50%;z-index: -1;}#sk-container-id-12 div.sk-parallel-item {display: flex;flex-direction: column;z-index: 1;position: relative;background-color: white;}#sk-container-id-12 div.sk-parallel-item:first-child::after {align-self: flex-end;width: 50%;}#sk-container-id-12 div.sk-parallel-item:last-child::after {align-self: flex-start;width: 50%;}#sk-container-id-12 div.sk-parallel-item:only-child::after {width: 0;}#sk-container-id-12 div.sk-dashed-wrapped {border: 1px dashed gray;margin: 0 0.4em 0.5em 0.4em;box-sizing: border-box;padding-bottom: 0.4em;background-color: white;}#sk-container-id-12 div.sk-label label {font-family: monospace;font-weight: bold;display: inline-block;line-height: 1.2em;}#sk-container-id-12 div.sk-label-container {text-align: center;}#sk-container-id-12 div.sk-container {/* jupyter's `normalize.less` sets `[hidden] { display: none; }` but bootstrap.min.css set `[hidden] { display: none !important; }` so we also need the `!important` here to be able to override the default hidden behavior on the sphinx rendered scikit-learn.org. See: https://github.com/scikit-learn/scikit-learn/issues/21755 */display: inline-block !important;position: relative;}#sk-container-id-12 div.sk-text-repr-fallback {display: none;}</style><div id=\"sk-container-id-12\" class=\"sk-top-container\"><div class=\"sk-text-repr-fallback\"><pre>KNeighborsClassifier()</pre><b>In a Jupyter environment, please rerun this cell to show the HTML representation or trust the notebook. <br />On GitHub, the HTML representation is unable to render, please try loading this page with nbviewer.org.</b></div><div class=\"sk-container\" hidden><div class=\"sk-item\"><div class=\"sk-estimator sk-toggleable\"><input class=\"sk-toggleable__control sk-hidden--visually\" id=\"sk-estimator-id-12\" type=\"checkbox\" checked><label for=\"sk-estimator-id-12\" class=\"sk-toggleable__label sk-toggleable__label-arrow\">KNeighborsClassifier</label><div class=\"sk-toggleable__content\"><pre>KNeighborsClassifier()</pre></div></div></div></div></div>"
      ],
      "text/plain": [
       "KNeighborsClassifier()"
      ]
     },
     "execution_count": 175,
     "metadata": {},
     "output_type": "execute_result"
    }
   ],
   "source": [
    "knn.fit(xtrain,ytrain)"
   ]
  },
  {
   "cell_type": "code",
   "execution_count": 176,
   "id": "O-RPeqguDuoR",
   "metadata": {
    "id": "O-RPeqguDuoR"
   },
   "outputs": [],
   "source": [
    "pred=knn.predict(xtest)"
   ]
  },
  {
   "cell_type": "code",
   "execution_count": 177,
   "id": "3pSgBQkhDuoR",
   "metadata": {
    "id": "3pSgBQkhDuoR",
    "scrolled": true
   },
   "outputs": [
    {
     "name": "stdout",
     "output_type": "stream",
     "text": [
      "              precision    recall  f1-score   support\n",
      "\n",
      "  bruteforce       1.00      0.97      0.98      2909\n",
      "      normal       1.00      1.00      1.00     37676\n",
      "      scan_A       1.00      1.00      1.00      3981\n",
      "     scan_SU       1.00      1.00      1.00      4487\n",
      "      sparta       1.00      1.00      1.00      2823\n",
      "\n",
      "    accuracy                           1.00     51876\n",
      "   macro avg       1.00      0.99      1.00     51876\n",
      "weighted avg       1.00      1.00      1.00     51876\n",
      "\n"
     ]
    }
   ],
   "source": [
    "print(classification_report(ytest,pred))"
   ]
  },
  {
   "cell_type": "code",
   "execution_count": 178,
   "id": "9d15c3cd",
   "metadata": {},
   "outputs": [],
   "source": [
    "report_knn=pd.DataFrame(classification_report(ytest,pred,output_dict=True)).transpose()"
   ]
  },
  {
   "cell_type": "markdown",
   "id": "bc4c2ecb",
   "metadata": {},
   "source": [
    "### Combining results and outputting"
   ]
  },
  {
   "cell_type": "code",
   "execution_count": 179,
   "id": "1e8c0b2c",
   "metadata": {},
   "outputs": [],
   "source": [
    "report_bi=pd.concat([report_rfc,report_lr,report_dtc,report_nb,report_svm,report_knn],\n",
    "                     keys=['Random Forest','Logistic Regression','Decision Trees','Naive bayes','Support Vector Machines','K Nearest Neighbour'])"
   ]
  },
  {
   "cell_type": "code",
   "execution_count": 180,
   "id": "336c8af7",
   "metadata": {},
   "outputs": [],
   "source": [
    "report_bi.to_csv('BiFlow_results.csv')"
   ]
  },
  {
   "cell_type": "markdown",
   "id": "zihSdPQZFY_N",
   "metadata": {
    "id": "zihSdPQZFY_N"
   },
   "source": [
    "## Packet Data"
   ]
  },
  {
   "cell_type": "markdown",
   "id": "sx_e3_NTFoGt",
   "metadata": {
    "id": "sx_e3_NTFoGt"
   },
   "source": [
    "### Creating train test split"
   ]
  },
  {
   "cell_type": "code",
   "execution_count": 181,
   "id": "pVA-eFBYFoGu",
   "metadata": {
    "id": "pVA-eFBYFoGu"
   },
   "outputs": [],
   "source": [
    "from sklearn.model_selection import train_test_split"
   ]
  },
  {
   "cell_type": "code",
   "execution_count": 182,
   "id": "wg_W1EiOFoGu",
   "metadata": {
    "id": "wg_W1EiOFoGu"
   },
   "outputs": [],
   "source": [
    "xtrain, xtest, ytrain, ytest = train_test_split(packet_df.drop('is_attack',axis=1), packet_df['is_attack'], test_size=0.20, random_state=42,stratify= packet_df['is_attack'])"
   ]
  },
  {
   "cell_type": "markdown",
   "id": "JN7lTCSJQJmj",
   "metadata": {
    "id": "JN7lTCSJQJmj"
   },
   "source": [
    "### Encoding and Scaling data"
   ]
  },
  {
   "cell_type": "code",
   "execution_count": 183,
   "id": "a203501e",
   "metadata": {},
   "outputs": [],
   "source": [
    "cols=xtrain.columns\n",
    "cols=list(cols)\n",
    "cols.remove('protocol')"
   ]
  },
  {
   "cell_type": "code",
   "execution_count": 184,
   "id": "IWxDM-BgQNPw",
   "metadata": {
    "id": "IWxDM-BgQNPw"
   },
   "outputs": [],
   "source": [
    "from sklearn.compose import make_column_transformer\n",
    "from sklearn.preprocessing import MinMaxScaler"
   ]
  },
  {
   "cell_type": "code",
   "execution_count": 185,
   "id": "Usq6awjIQUkq",
   "metadata": {
    "id": "Usq6awjIQUkq"
   },
   "outputs": [],
   "source": [
    "mct=make_column_transformer((BinaryEncoder(),['protocol']),\n",
    "                            (MinMaxScaler(),cols))"
   ]
  },
  {
   "cell_type": "code",
   "execution_count": 186,
   "id": "v4eAefvfR1wU",
   "metadata": {
    "id": "v4eAefvfR1wU",
    "scrolled": true
   },
   "outputs": [
    {
     "data": {
      "text/html": [
       "<style>#sk-container-id-13 {color: black;background-color: white;}#sk-container-id-13 pre{padding: 0;}#sk-container-id-13 div.sk-toggleable {background-color: white;}#sk-container-id-13 label.sk-toggleable__label {cursor: pointer;display: block;width: 100%;margin-bottom: 0;padding: 0.3em;box-sizing: border-box;text-align: center;}#sk-container-id-13 label.sk-toggleable__label-arrow:before {content: \"▸\";float: left;margin-right: 0.25em;color: #696969;}#sk-container-id-13 label.sk-toggleable__label-arrow:hover:before {color: black;}#sk-container-id-13 div.sk-estimator:hover label.sk-toggleable__label-arrow:before {color: black;}#sk-container-id-13 div.sk-toggleable__content {max-height: 0;max-width: 0;overflow: hidden;text-align: left;background-color: #f0f8ff;}#sk-container-id-13 div.sk-toggleable__content pre {margin: 0.2em;color: black;border-radius: 0.25em;background-color: #f0f8ff;}#sk-container-id-13 input.sk-toggleable__control:checked~div.sk-toggleable__content {max-height: 200px;max-width: 100%;overflow: auto;}#sk-container-id-13 input.sk-toggleable__control:checked~label.sk-toggleable__label-arrow:before {content: \"▾\";}#sk-container-id-13 div.sk-estimator input.sk-toggleable__control:checked~label.sk-toggleable__label {background-color: #d4ebff;}#sk-container-id-13 div.sk-label input.sk-toggleable__control:checked~label.sk-toggleable__label {background-color: #d4ebff;}#sk-container-id-13 input.sk-hidden--visually {border: 0;clip: rect(1px 1px 1px 1px);clip: rect(1px, 1px, 1px, 1px);height: 1px;margin: -1px;overflow: hidden;padding: 0;position: absolute;width: 1px;}#sk-container-id-13 div.sk-estimator {font-family: monospace;background-color: #f0f8ff;border: 1px dotted black;border-radius: 0.25em;box-sizing: border-box;margin-bottom: 0.5em;}#sk-container-id-13 div.sk-estimator:hover {background-color: #d4ebff;}#sk-container-id-13 div.sk-parallel-item::after {content: \"\";width: 100%;border-bottom: 1px solid gray;flex-grow: 1;}#sk-container-id-13 div.sk-label:hover label.sk-toggleable__label {background-color: #d4ebff;}#sk-container-id-13 div.sk-serial::before {content: \"\";position: absolute;border-left: 1px solid gray;box-sizing: border-box;top: 0;bottom: 0;left: 50%;z-index: 0;}#sk-container-id-13 div.sk-serial {display: flex;flex-direction: column;align-items: center;background-color: white;padding-right: 0.2em;padding-left: 0.2em;position: relative;}#sk-container-id-13 div.sk-item {position: relative;z-index: 1;}#sk-container-id-13 div.sk-parallel {display: flex;align-items: stretch;justify-content: center;background-color: white;position: relative;}#sk-container-id-13 div.sk-item::before, #sk-container-id-13 div.sk-parallel-item::before {content: \"\";position: absolute;border-left: 1px solid gray;box-sizing: border-box;top: 0;bottom: 0;left: 50%;z-index: -1;}#sk-container-id-13 div.sk-parallel-item {display: flex;flex-direction: column;z-index: 1;position: relative;background-color: white;}#sk-container-id-13 div.sk-parallel-item:first-child::after {align-self: flex-end;width: 50%;}#sk-container-id-13 div.sk-parallel-item:last-child::after {align-self: flex-start;width: 50%;}#sk-container-id-13 div.sk-parallel-item:only-child::after {width: 0;}#sk-container-id-13 div.sk-dashed-wrapped {border: 1px dashed gray;margin: 0 0.4em 0.5em 0.4em;box-sizing: border-box;padding-bottom: 0.4em;background-color: white;}#sk-container-id-13 div.sk-label label {font-family: monospace;font-weight: bold;display: inline-block;line-height: 1.2em;}#sk-container-id-13 div.sk-label-container {text-align: center;}#sk-container-id-13 div.sk-container {/* jupyter's `normalize.less` sets `[hidden] { display: none; }` but bootstrap.min.css set `[hidden] { display: none !important; }` so we also need the `!important` here to be able to override the default hidden behavior on the sphinx rendered scikit-learn.org. See: https://github.com/scikit-learn/scikit-learn/issues/21755 */display: inline-block !important;position: relative;}#sk-container-id-13 div.sk-text-repr-fallback {display: none;}</style><div id=\"sk-container-id-13\" class=\"sk-top-container\"><div class=\"sk-text-repr-fallback\"><pre>ColumnTransformer(transformers=[(&#x27;binaryencoder&#x27;, BinaryEncoder(),\n",
       "                                 [&#x27;protocol&#x27;]),\n",
       "                                (&#x27;minmaxscaler&#x27;, MinMaxScaler(),\n",
       "                                 [&#x27;ttl&#x27;, &#x27;ip_len&#x27;, &#x27;ip_flag_df&#x27;, &#x27;ip_flag_mf&#x27;,\n",
       "                                  &#x27;src_port&#x27;, &#x27;dst_port&#x27;, &#x27;tcp_flag_res&#x27;,\n",
       "                                  &#x27;tcp_flag_ack&#x27;, &#x27;tcp_flag_push&#x27;,\n",
       "                                  &#x27;tcp_flag_reset&#x27;, &#x27;tcp_flag_syn&#x27;,\n",
       "                                  &#x27;tcp_flag_fin&#x27;, &#x27;mqtt_messagetype&#x27;,\n",
       "                                  &#x27;mqtt_messagelength&#x27;, &#x27;mqtt_flag_uname&#x27;])])</pre><b>In a Jupyter environment, please rerun this cell to show the HTML representation or trust the notebook. <br />On GitHub, the HTML representation is unable to render, please try loading this page with nbviewer.org.</b></div><div class=\"sk-container\" hidden><div class=\"sk-item sk-dashed-wrapped\"><div class=\"sk-label-container\"><div class=\"sk-label sk-toggleable\"><input class=\"sk-toggleable__control sk-hidden--visually\" id=\"sk-estimator-id-13\" type=\"checkbox\" ><label for=\"sk-estimator-id-13\" class=\"sk-toggleable__label sk-toggleable__label-arrow\">ColumnTransformer</label><div class=\"sk-toggleable__content\"><pre>ColumnTransformer(transformers=[(&#x27;binaryencoder&#x27;, BinaryEncoder(),\n",
       "                                 [&#x27;protocol&#x27;]),\n",
       "                                (&#x27;minmaxscaler&#x27;, MinMaxScaler(),\n",
       "                                 [&#x27;ttl&#x27;, &#x27;ip_len&#x27;, &#x27;ip_flag_df&#x27;, &#x27;ip_flag_mf&#x27;,\n",
       "                                  &#x27;src_port&#x27;, &#x27;dst_port&#x27;, &#x27;tcp_flag_res&#x27;,\n",
       "                                  &#x27;tcp_flag_ack&#x27;, &#x27;tcp_flag_push&#x27;,\n",
       "                                  &#x27;tcp_flag_reset&#x27;, &#x27;tcp_flag_syn&#x27;,\n",
       "                                  &#x27;tcp_flag_fin&#x27;, &#x27;mqtt_messagetype&#x27;,\n",
       "                                  &#x27;mqtt_messagelength&#x27;, &#x27;mqtt_flag_uname&#x27;])])</pre></div></div></div><div class=\"sk-parallel\"><div class=\"sk-parallel-item\"><div class=\"sk-item\"><div class=\"sk-label-container\"><div class=\"sk-label sk-toggleable\"><input class=\"sk-toggleable__control sk-hidden--visually\" id=\"sk-estimator-id-14\" type=\"checkbox\" ><label for=\"sk-estimator-id-14\" class=\"sk-toggleable__label sk-toggleable__label-arrow\">binaryencoder</label><div class=\"sk-toggleable__content\"><pre>[&#x27;protocol&#x27;]</pre></div></div></div><div class=\"sk-serial\"><div class=\"sk-item\"><div class=\"sk-estimator sk-toggleable\"><input class=\"sk-toggleable__control sk-hidden--visually\" id=\"sk-estimator-id-15\" type=\"checkbox\" ><label for=\"sk-estimator-id-15\" class=\"sk-toggleable__label sk-toggleable__label-arrow\">BinaryEncoder</label><div class=\"sk-toggleable__content\"><pre>BinaryEncoder()</pre></div></div></div></div></div></div><div class=\"sk-parallel-item\"><div class=\"sk-item\"><div class=\"sk-label-container\"><div class=\"sk-label sk-toggleable\"><input class=\"sk-toggleable__control sk-hidden--visually\" id=\"sk-estimator-id-16\" type=\"checkbox\" ><label for=\"sk-estimator-id-16\" class=\"sk-toggleable__label sk-toggleable__label-arrow\">minmaxscaler</label><div class=\"sk-toggleable__content\"><pre>[&#x27;ttl&#x27;, &#x27;ip_len&#x27;, &#x27;ip_flag_df&#x27;, &#x27;ip_flag_mf&#x27;, &#x27;src_port&#x27;, &#x27;dst_port&#x27;, &#x27;tcp_flag_res&#x27;, &#x27;tcp_flag_ack&#x27;, &#x27;tcp_flag_push&#x27;, &#x27;tcp_flag_reset&#x27;, &#x27;tcp_flag_syn&#x27;, &#x27;tcp_flag_fin&#x27;, &#x27;mqtt_messagetype&#x27;, &#x27;mqtt_messagelength&#x27;, &#x27;mqtt_flag_uname&#x27;]</pre></div></div></div><div class=\"sk-serial\"><div class=\"sk-item\"><div class=\"sk-estimator sk-toggleable\"><input class=\"sk-toggleable__control sk-hidden--visually\" id=\"sk-estimator-id-17\" type=\"checkbox\" ><label for=\"sk-estimator-id-17\" class=\"sk-toggleable__label sk-toggleable__label-arrow\">MinMaxScaler</label><div class=\"sk-toggleable__content\"><pre>MinMaxScaler()</pre></div></div></div></div></div></div></div></div></div></div>"
      ],
      "text/plain": [
       "ColumnTransformer(transformers=[('binaryencoder', BinaryEncoder(),\n",
       "                                 ['protocol']),\n",
       "                                ('minmaxscaler', MinMaxScaler(),\n",
       "                                 ['ttl', 'ip_len', 'ip_flag_df', 'ip_flag_mf',\n",
       "                                  'src_port', 'dst_port', 'tcp_flag_res',\n",
       "                                  'tcp_flag_ack', 'tcp_flag_push',\n",
       "                                  'tcp_flag_reset', 'tcp_flag_syn',\n",
       "                                  'tcp_flag_fin', 'mqtt_messagetype',\n",
       "                                  'mqtt_messagelength', 'mqtt_flag_uname'])])"
      ]
     },
     "execution_count": 186,
     "metadata": {},
     "output_type": "execute_result"
    }
   ],
   "source": [
    "mct.fit(xtrain)"
   ]
  },
  {
   "cell_type": "code",
   "execution_count": 187,
   "id": "be2f6787",
   "metadata": {},
   "outputs": [],
   "source": [
    "xtrain=mct.transform(xtrain)\n",
    "xtest=mct.transform(xtest)"
   ]
  },
  {
   "cell_type": "code",
   "execution_count": 188,
   "id": "136b6707",
   "metadata": {},
   "outputs": [],
   "source": [
    "ytrain=ytrain.values\n",
    "ytest=ytest.values"
   ]
  },
  {
   "cell_type": "code",
   "execution_count": 189,
   "id": "5dc0d1b0",
   "metadata": {},
   "outputs": [
    {
     "data": {
      "text/plain": [
       "(2411997, 20)"
      ]
     },
     "execution_count": 189,
     "metadata": {},
     "output_type": "execute_result"
    }
   ],
   "source": [
    "xtrain.shape"
   ]
  },
  {
   "cell_type": "markdown",
   "id": "UVH9-3bcFoGu",
   "metadata": {
    "id": "UVH9-3bcFoGu"
   },
   "source": [
    "### Random Forest Classifier"
   ]
  },
  {
   "cell_type": "code",
   "execution_count": 190,
   "id": "16e8XgOGFoGv",
   "metadata": {
    "id": "16e8XgOGFoGv"
   },
   "outputs": [],
   "source": [
    "from sklearn.ensemble import RandomForestClassifier"
   ]
  },
  {
   "cell_type": "code",
   "execution_count": 191,
   "id": "P8WgfwWxFoGv",
   "metadata": {
    "id": "P8WgfwWxFoGv"
   },
   "outputs": [],
   "source": [
    "rfc=RandomForestClassifier(n_estimators = 10,n_jobs=-1)"
   ]
  },
  {
   "cell_type": "code",
   "execution_count": 192,
   "id": "IuYQtTdfFoGv",
   "metadata": {
    "colab": {
     "base_uri": "https://localhost:8080/"
    },
    "id": "IuYQtTdfFoGv",
    "outputId": "1b46d224-ee68-4f6f-8874-1c595cf67f9f"
   },
   "outputs": [
    {
     "data": {
      "text/html": [
       "<style>#sk-container-id-14 {color: black;background-color: white;}#sk-container-id-14 pre{padding: 0;}#sk-container-id-14 div.sk-toggleable {background-color: white;}#sk-container-id-14 label.sk-toggleable__label {cursor: pointer;display: block;width: 100%;margin-bottom: 0;padding: 0.3em;box-sizing: border-box;text-align: center;}#sk-container-id-14 label.sk-toggleable__label-arrow:before {content: \"▸\";float: left;margin-right: 0.25em;color: #696969;}#sk-container-id-14 label.sk-toggleable__label-arrow:hover:before {color: black;}#sk-container-id-14 div.sk-estimator:hover label.sk-toggleable__label-arrow:before {color: black;}#sk-container-id-14 div.sk-toggleable__content {max-height: 0;max-width: 0;overflow: hidden;text-align: left;background-color: #f0f8ff;}#sk-container-id-14 div.sk-toggleable__content pre {margin: 0.2em;color: black;border-radius: 0.25em;background-color: #f0f8ff;}#sk-container-id-14 input.sk-toggleable__control:checked~div.sk-toggleable__content {max-height: 200px;max-width: 100%;overflow: auto;}#sk-container-id-14 input.sk-toggleable__control:checked~label.sk-toggleable__label-arrow:before {content: \"▾\";}#sk-container-id-14 div.sk-estimator input.sk-toggleable__control:checked~label.sk-toggleable__label {background-color: #d4ebff;}#sk-container-id-14 div.sk-label input.sk-toggleable__control:checked~label.sk-toggleable__label {background-color: #d4ebff;}#sk-container-id-14 input.sk-hidden--visually {border: 0;clip: rect(1px 1px 1px 1px);clip: rect(1px, 1px, 1px, 1px);height: 1px;margin: -1px;overflow: hidden;padding: 0;position: absolute;width: 1px;}#sk-container-id-14 div.sk-estimator {font-family: monospace;background-color: #f0f8ff;border: 1px dotted black;border-radius: 0.25em;box-sizing: border-box;margin-bottom: 0.5em;}#sk-container-id-14 div.sk-estimator:hover {background-color: #d4ebff;}#sk-container-id-14 div.sk-parallel-item::after {content: \"\";width: 100%;border-bottom: 1px solid gray;flex-grow: 1;}#sk-container-id-14 div.sk-label:hover label.sk-toggleable__label {background-color: #d4ebff;}#sk-container-id-14 div.sk-serial::before {content: \"\";position: absolute;border-left: 1px solid gray;box-sizing: border-box;top: 0;bottom: 0;left: 50%;z-index: 0;}#sk-container-id-14 div.sk-serial {display: flex;flex-direction: column;align-items: center;background-color: white;padding-right: 0.2em;padding-left: 0.2em;position: relative;}#sk-container-id-14 div.sk-item {position: relative;z-index: 1;}#sk-container-id-14 div.sk-parallel {display: flex;align-items: stretch;justify-content: center;background-color: white;position: relative;}#sk-container-id-14 div.sk-item::before, #sk-container-id-14 div.sk-parallel-item::before {content: \"\";position: absolute;border-left: 1px solid gray;box-sizing: border-box;top: 0;bottom: 0;left: 50%;z-index: -1;}#sk-container-id-14 div.sk-parallel-item {display: flex;flex-direction: column;z-index: 1;position: relative;background-color: white;}#sk-container-id-14 div.sk-parallel-item:first-child::after {align-self: flex-end;width: 50%;}#sk-container-id-14 div.sk-parallel-item:last-child::after {align-self: flex-start;width: 50%;}#sk-container-id-14 div.sk-parallel-item:only-child::after {width: 0;}#sk-container-id-14 div.sk-dashed-wrapped {border: 1px dashed gray;margin: 0 0.4em 0.5em 0.4em;box-sizing: border-box;padding-bottom: 0.4em;background-color: white;}#sk-container-id-14 div.sk-label label {font-family: monospace;font-weight: bold;display: inline-block;line-height: 1.2em;}#sk-container-id-14 div.sk-label-container {text-align: center;}#sk-container-id-14 div.sk-container {/* jupyter's `normalize.less` sets `[hidden] { display: none; }` but bootstrap.min.css set `[hidden] { display: none !important; }` so we also need the `!important` here to be able to override the default hidden behavior on the sphinx rendered scikit-learn.org. See: https://github.com/scikit-learn/scikit-learn/issues/21755 */display: inline-block !important;position: relative;}#sk-container-id-14 div.sk-text-repr-fallback {display: none;}</style><div id=\"sk-container-id-14\" class=\"sk-top-container\"><div class=\"sk-text-repr-fallback\"><pre>RandomForestClassifier(n_estimators=10, n_jobs=-1)</pre><b>In a Jupyter environment, please rerun this cell to show the HTML representation or trust the notebook. <br />On GitHub, the HTML representation is unable to render, please try loading this page with nbviewer.org.</b></div><div class=\"sk-container\" hidden><div class=\"sk-item\"><div class=\"sk-estimator sk-toggleable\"><input class=\"sk-toggleable__control sk-hidden--visually\" id=\"sk-estimator-id-18\" type=\"checkbox\" checked><label for=\"sk-estimator-id-18\" class=\"sk-toggleable__label sk-toggleable__label-arrow\">RandomForestClassifier</label><div class=\"sk-toggleable__content\"><pre>RandomForestClassifier(n_estimators=10, n_jobs=-1)</pre></div></div></div></div></div>"
      ],
      "text/plain": [
       "RandomForestClassifier(n_estimators=10, n_jobs=-1)"
      ]
     },
     "execution_count": 192,
     "metadata": {},
     "output_type": "execute_result"
    }
   ],
   "source": [
    "rfc.fit(xtrain,ytrain)"
   ]
  },
  {
   "cell_type": "code",
   "execution_count": 193,
   "id": "-k6mjy__FoGw",
   "metadata": {
    "id": "-k6mjy__FoGw"
   },
   "outputs": [],
   "source": [
    "pred=rfc.predict(xtest)"
   ]
  },
  {
   "cell_type": "code",
   "execution_count": 194,
   "id": "XJdhT_b_FoGw",
   "metadata": {
    "colab": {
     "base_uri": "https://localhost:8080/"
    },
    "id": "XJdhT_b_FoGw",
    "outputId": "2bcbeac3-5752-4c44-f066-f66da08e9eb5",
    "scrolled": true
   },
   "outputs": [
    {
     "name": "stdout",
     "output_type": "stream",
     "text": [
      "              precision    recall  f1-score   support\n",
      "\n",
      "  bruteforce       0.99      1.00      0.99    199972\n",
      "      normal       1.00      0.99      0.99    193229\n",
      "      scan_A       1.00      1.00      1.00      8125\n",
      "     scan_SU       1.00      1.00      1.00      4487\n",
      "      sparta       1.00      1.00      1.00    197187\n",
      "\n",
      "    accuracy                           1.00    603000\n",
      "   macro avg       1.00      1.00      1.00    603000\n",
      "weighted avg       1.00      1.00      1.00    603000\n",
      "\n"
     ]
    }
   ],
   "source": [
    "print(classification_report(ytest,pred))"
   ]
  },
  {
   "cell_type": "code",
   "execution_count": 195,
   "id": "7f78af0c",
   "metadata": {},
   "outputs": [],
   "source": [
    "report_rfc=pd.DataFrame(classification_report(ytest,pred,output_dict=True)).transpose()"
   ]
  },
  {
   "cell_type": "markdown",
   "id": "Z8Nd8flSFoGw",
   "metadata": {
    "id": "Z8Nd8flSFoGw"
   },
   "source": [
    "### Logistic Regression"
   ]
  },
  {
   "cell_type": "code",
   "execution_count": 196,
   "id": "ksE2mI8_FoGw",
   "metadata": {
    "id": "ksE2mI8_FoGw"
   },
   "outputs": [],
   "source": [
    "from sklearn.linear_model import LogisticRegression"
   ]
  },
  {
   "cell_type": "code",
   "execution_count": 197,
   "id": "mHLnVivhFoGx",
   "metadata": {
    "id": "mHLnVivhFoGx"
   },
   "outputs": [],
   "source": [
    "lr=LogisticRegression(solver='sag',n_jobs=-1,max_iter=1000)"
   ]
  },
  {
   "cell_type": "code",
   "execution_count": 198,
   "id": "72850a05",
   "metadata": {},
   "outputs": [
    {
     "data": {
      "text/html": [
       "<style>#sk-container-id-15 {color: black;background-color: white;}#sk-container-id-15 pre{padding: 0;}#sk-container-id-15 div.sk-toggleable {background-color: white;}#sk-container-id-15 label.sk-toggleable__label {cursor: pointer;display: block;width: 100%;margin-bottom: 0;padding: 0.3em;box-sizing: border-box;text-align: center;}#sk-container-id-15 label.sk-toggleable__label-arrow:before {content: \"▸\";float: left;margin-right: 0.25em;color: #696969;}#sk-container-id-15 label.sk-toggleable__label-arrow:hover:before {color: black;}#sk-container-id-15 div.sk-estimator:hover label.sk-toggleable__label-arrow:before {color: black;}#sk-container-id-15 div.sk-toggleable__content {max-height: 0;max-width: 0;overflow: hidden;text-align: left;background-color: #f0f8ff;}#sk-container-id-15 div.sk-toggleable__content pre {margin: 0.2em;color: black;border-radius: 0.25em;background-color: #f0f8ff;}#sk-container-id-15 input.sk-toggleable__control:checked~div.sk-toggleable__content {max-height: 200px;max-width: 100%;overflow: auto;}#sk-container-id-15 input.sk-toggleable__control:checked~label.sk-toggleable__label-arrow:before {content: \"▾\";}#sk-container-id-15 div.sk-estimator input.sk-toggleable__control:checked~label.sk-toggleable__label {background-color: #d4ebff;}#sk-container-id-15 div.sk-label input.sk-toggleable__control:checked~label.sk-toggleable__label {background-color: #d4ebff;}#sk-container-id-15 input.sk-hidden--visually {border: 0;clip: rect(1px 1px 1px 1px);clip: rect(1px, 1px, 1px, 1px);height: 1px;margin: -1px;overflow: hidden;padding: 0;position: absolute;width: 1px;}#sk-container-id-15 div.sk-estimator {font-family: monospace;background-color: #f0f8ff;border: 1px dotted black;border-radius: 0.25em;box-sizing: border-box;margin-bottom: 0.5em;}#sk-container-id-15 div.sk-estimator:hover {background-color: #d4ebff;}#sk-container-id-15 div.sk-parallel-item::after {content: \"\";width: 100%;border-bottom: 1px solid gray;flex-grow: 1;}#sk-container-id-15 div.sk-label:hover label.sk-toggleable__label {background-color: #d4ebff;}#sk-container-id-15 div.sk-serial::before {content: \"\";position: absolute;border-left: 1px solid gray;box-sizing: border-box;top: 0;bottom: 0;left: 50%;z-index: 0;}#sk-container-id-15 div.sk-serial {display: flex;flex-direction: column;align-items: center;background-color: white;padding-right: 0.2em;padding-left: 0.2em;position: relative;}#sk-container-id-15 div.sk-item {position: relative;z-index: 1;}#sk-container-id-15 div.sk-parallel {display: flex;align-items: stretch;justify-content: center;background-color: white;position: relative;}#sk-container-id-15 div.sk-item::before, #sk-container-id-15 div.sk-parallel-item::before {content: \"\";position: absolute;border-left: 1px solid gray;box-sizing: border-box;top: 0;bottom: 0;left: 50%;z-index: -1;}#sk-container-id-15 div.sk-parallel-item {display: flex;flex-direction: column;z-index: 1;position: relative;background-color: white;}#sk-container-id-15 div.sk-parallel-item:first-child::after {align-self: flex-end;width: 50%;}#sk-container-id-15 div.sk-parallel-item:last-child::after {align-self: flex-start;width: 50%;}#sk-container-id-15 div.sk-parallel-item:only-child::after {width: 0;}#sk-container-id-15 div.sk-dashed-wrapped {border: 1px dashed gray;margin: 0 0.4em 0.5em 0.4em;box-sizing: border-box;padding-bottom: 0.4em;background-color: white;}#sk-container-id-15 div.sk-label label {font-family: monospace;font-weight: bold;display: inline-block;line-height: 1.2em;}#sk-container-id-15 div.sk-label-container {text-align: center;}#sk-container-id-15 div.sk-container {/* jupyter's `normalize.less` sets `[hidden] { display: none; }` but bootstrap.min.css set `[hidden] { display: none !important; }` so we also need the `!important` here to be able to override the default hidden behavior on the sphinx rendered scikit-learn.org. See: https://github.com/scikit-learn/scikit-learn/issues/21755 */display: inline-block !important;position: relative;}#sk-container-id-15 div.sk-text-repr-fallback {display: none;}</style><div id=\"sk-container-id-15\" class=\"sk-top-container\"><div class=\"sk-text-repr-fallback\"><pre>LogisticRegression(max_iter=1000, n_jobs=-1, solver=&#x27;sag&#x27;)</pre><b>In a Jupyter environment, please rerun this cell to show the HTML representation or trust the notebook. <br />On GitHub, the HTML representation is unable to render, please try loading this page with nbviewer.org.</b></div><div class=\"sk-container\" hidden><div class=\"sk-item\"><div class=\"sk-estimator sk-toggleable\"><input class=\"sk-toggleable__control sk-hidden--visually\" id=\"sk-estimator-id-19\" type=\"checkbox\" checked><label for=\"sk-estimator-id-19\" class=\"sk-toggleable__label sk-toggleable__label-arrow\">LogisticRegression</label><div class=\"sk-toggleable__content\"><pre>LogisticRegression(max_iter=1000, n_jobs=-1, solver=&#x27;sag&#x27;)</pre></div></div></div></div></div>"
      ],
      "text/plain": [
       "LogisticRegression(max_iter=1000, n_jobs=-1, solver='sag')"
      ]
     },
     "execution_count": 198,
     "metadata": {},
     "output_type": "execute_result"
    }
   ],
   "source": [
    "lr.fit(xtrain,ytrain)"
   ]
  },
  {
   "cell_type": "code",
   "execution_count": 199,
   "id": "MYJU0hWpFoGx",
   "metadata": {
    "id": "MYJU0hWpFoGx"
   },
   "outputs": [],
   "source": [
    "pred=lr.predict(xtest)"
   ]
  },
  {
   "cell_type": "code",
   "execution_count": 200,
   "id": "Nuzb_394FoGx",
   "metadata": {
    "colab": {
     "base_uri": "https://localhost:8080/"
    },
    "id": "Nuzb_394FoGx",
    "outputId": "011c922d-a521-4f95-8626-8b466c2cb869",
    "scrolled": true
   },
   "outputs": [
    {
     "name": "stdout",
     "output_type": "stream",
     "text": [
      "              precision    recall  f1-score   support\n",
      "\n",
      "  bruteforce       0.50      0.86      0.63    199972\n",
      "      normal       0.68      0.47      0.56    193229\n",
      "      scan_A       0.94      0.99      0.97      8125\n",
      "     scan_SU       1.00      1.00      1.00      4487\n",
      "      sparta       1.00      0.59      0.74    197187\n",
      "\n",
      "    accuracy                           0.65    603000\n",
      "   macro avg       0.83      0.78      0.78    603000\n",
      "weighted avg       0.73      0.65      0.65    603000\n",
      "\n"
     ]
    }
   ],
   "source": [
    "print(classification_report(ytest,pred))"
   ]
  },
  {
   "cell_type": "code",
   "execution_count": 201,
   "id": "a6c0f659",
   "metadata": {},
   "outputs": [],
   "source": [
    "report_lr=pd.DataFrame(classification_report(ytest,pred,output_dict=True)).transpose()"
   ]
  },
  {
   "cell_type": "markdown",
   "id": "_l-DIULRFoGy",
   "metadata": {
    "id": "_l-DIULRFoGy"
   },
   "source": [
    "### Decision Trees"
   ]
  },
  {
   "cell_type": "code",
   "execution_count": 202,
   "id": "NMPBbXdpFoGy",
   "metadata": {
    "id": "NMPBbXdpFoGy"
   },
   "outputs": [],
   "source": [
    "from sklearn.tree import DecisionTreeClassifier"
   ]
  },
  {
   "cell_type": "code",
   "execution_count": 203,
   "id": "uaoLpIlHFoGy",
   "metadata": {
    "id": "uaoLpIlHFoGy"
   },
   "outputs": [],
   "source": [
    "dtc=DecisionTreeClassifier()"
   ]
  },
  {
   "cell_type": "code",
   "execution_count": 204,
   "id": "Z_hsedTeFoGy",
   "metadata": {
    "colab": {
     "base_uri": "https://localhost:8080/"
    },
    "id": "Z_hsedTeFoGy",
    "outputId": "664a77d4-1fbe-4219-8648-037fd970c8f3"
   },
   "outputs": [
    {
     "data": {
      "text/html": [
       "<style>#sk-container-id-16 {color: black;background-color: white;}#sk-container-id-16 pre{padding: 0;}#sk-container-id-16 div.sk-toggleable {background-color: white;}#sk-container-id-16 label.sk-toggleable__label {cursor: pointer;display: block;width: 100%;margin-bottom: 0;padding: 0.3em;box-sizing: border-box;text-align: center;}#sk-container-id-16 label.sk-toggleable__label-arrow:before {content: \"▸\";float: left;margin-right: 0.25em;color: #696969;}#sk-container-id-16 label.sk-toggleable__label-arrow:hover:before {color: black;}#sk-container-id-16 div.sk-estimator:hover label.sk-toggleable__label-arrow:before {color: black;}#sk-container-id-16 div.sk-toggleable__content {max-height: 0;max-width: 0;overflow: hidden;text-align: left;background-color: #f0f8ff;}#sk-container-id-16 div.sk-toggleable__content pre {margin: 0.2em;color: black;border-radius: 0.25em;background-color: #f0f8ff;}#sk-container-id-16 input.sk-toggleable__control:checked~div.sk-toggleable__content {max-height: 200px;max-width: 100%;overflow: auto;}#sk-container-id-16 input.sk-toggleable__control:checked~label.sk-toggleable__label-arrow:before {content: \"▾\";}#sk-container-id-16 div.sk-estimator input.sk-toggleable__control:checked~label.sk-toggleable__label {background-color: #d4ebff;}#sk-container-id-16 div.sk-label input.sk-toggleable__control:checked~label.sk-toggleable__label {background-color: #d4ebff;}#sk-container-id-16 input.sk-hidden--visually {border: 0;clip: rect(1px 1px 1px 1px);clip: rect(1px, 1px, 1px, 1px);height: 1px;margin: -1px;overflow: hidden;padding: 0;position: absolute;width: 1px;}#sk-container-id-16 div.sk-estimator {font-family: monospace;background-color: #f0f8ff;border: 1px dotted black;border-radius: 0.25em;box-sizing: border-box;margin-bottom: 0.5em;}#sk-container-id-16 div.sk-estimator:hover {background-color: #d4ebff;}#sk-container-id-16 div.sk-parallel-item::after {content: \"\";width: 100%;border-bottom: 1px solid gray;flex-grow: 1;}#sk-container-id-16 div.sk-label:hover label.sk-toggleable__label {background-color: #d4ebff;}#sk-container-id-16 div.sk-serial::before {content: \"\";position: absolute;border-left: 1px solid gray;box-sizing: border-box;top: 0;bottom: 0;left: 50%;z-index: 0;}#sk-container-id-16 div.sk-serial {display: flex;flex-direction: column;align-items: center;background-color: white;padding-right: 0.2em;padding-left: 0.2em;position: relative;}#sk-container-id-16 div.sk-item {position: relative;z-index: 1;}#sk-container-id-16 div.sk-parallel {display: flex;align-items: stretch;justify-content: center;background-color: white;position: relative;}#sk-container-id-16 div.sk-item::before, #sk-container-id-16 div.sk-parallel-item::before {content: \"\";position: absolute;border-left: 1px solid gray;box-sizing: border-box;top: 0;bottom: 0;left: 50%;z-index: -1;}#sk-container-id-16 div.sk-parallel-item {display: flex;flex-direction: column;z-index: 1;position: relative;background-color: white;}#sk-container-id-16 div.sk-parallel-item:first-child::after {align-self: flex-end;width: 50%;}#sk-container-id-16 div.sk-parallel-item:last-child::after {align-self: flex-start;width: 50%;}#sk-container-id-16 div.sk-parallel-item:only-child::after {width: 0;}#sk-container-id-16 div.sk-dashed-wrapped {border: 1px dashed gray;margin: 0 0.4em 0.5em 0.4em;box-sizing: border-box;padding-bottom: 0.4em;background-color: white;}#sk-container-id-16 div.sk-label label {font-family: monospace;font-weight: bold;display: inline-block;line-height: 1.2em;}#sk-container-id-16 div.sk-label-container {text-align: center;}#sk-container-id-16 div.sk-container {/* jupyter's `normalize.less` sets `[hidden] { display: none; }` but bootstrap.min.css set `[hidden] { display: none !important; }` so we also need the `!important` here to be able to override the default hidden behavior on the sphinx rendered scikit-learn.org. See: https://github.com/scikit-learn/scikit-learn/issues/21755 */display: inline-block !important;position: relative;}#sk-container-id-16 div.sk-text-repr-fallback {display: none;}</style><div id=\"sk-container-id-16\" class=\"sk-top-container\"><div class=\"sk-text-repr-fallback\"><pre>DecisionTreeClassifier()</pre><b>In a Jupyter environment, please rerun this cell to show the HTML representation or trust the notebook. <br />On GitHub, the HTML representation is unable to render, please try loading this page with nbviewer.org.</b></div><div class=\"sk-container\" hidden><div class=\"sk-item\"><div class=\"sk-estimator sk-toggleable\"><input class=\"sk-toggleable__control sk-hidden--visually\" id=\"sk-estimator-id-20\" type=\"checkbox\" checked><label for=\"sk-estimator-id-20\" class=\"sk-toggleable__label sk-toggleable__label-arrow\">DecisionTreeClassifier</label><div class=\"sk-toggleable__content\"><pre>DecisionTreeClassifier()</pre></div></div></div></div></div>"
      ],
      "text/plain": [
       "DecisionTreeClassifier()"
      ]
     },
     "execution_count": 204,
     "metadata": {},
     "output_type": "execute_result"
    }
   ],
   "source": [
    "dtc.fit(xtrain,ytrain)"
   ]
  },
  {
   "cell_type": "code",
   "execution_count": 205,
   "id": "7iiKi_yaFoGz",
   "metadata": {
    "id": "7iiKi_yaFoGz"
   },
   "outputs": [],
   "source": [
    "pred=dtc.predict(xtest)"
   ]
  },
  {
   "cell_type": "code",
   "execution_count": 206,
   "id": "3Sk4P0ZLFoGz",
   "metadata": {
    "colab": {
     "base_uri": "https://localhost:8080/"
    },
    "id": "3Sk4P0ZLFoGz",
    "outputId": "29b2d72f-6846-4a13-a320-2a5a9dae54ae",
    "scrolled": true
   },
   "outputs": [
    {
     "name": "stdout",
     "output_type": "stream",
     "text": [
      "              precision    recall  f1-score   support\n",
      "\n",
      "  bruteforce       1.00      1.00      1.00    199972\n",
      "      normal       1.00      1.00      1.00    193229\n",
      "      scan_A       1.00      1.00      1.00      8125\n",
      "     scan_SU       1.00      1.00      1.00      4487\n",
      "      sparta       1.00      1.00      1.00    197187\n",
      "\n",
      "    accuracy                           1.00    603000\n",
      "   macro avg       1.00      1.00      1.00    603000\n",
      "weighted avg       1.00      1.00      1.00    603000\n",
      "\n"
     ]
    }
   ],
   "source": [
    "print(classification_report(ytest,pred))"
   ]
  },
  {
   "cell_type": "code",
   "execution_count": 207,
   "id": "a7801154",
   "metadata": {},
   "outputs": [],
   "source": [
    "report_dtc=pd.DataFrame(classification_report(ytest,pred,output_dict=True)).transpose()"
   ]
  },
  {
   "cell_type": "markdown",
   "id": "2X8VctoCFoGz",
   "metadata": {
    "id": "2X8VctoCFoGz"
   },
   "source": [
    "### Naive Bayes"
   ]
  },
  {
   "cell_type": "code",
   "execution_count": 208,
   "id": "5Uno3_5bFoGz",
   "metadata": {
    "id": "5Uno3_5bFoGz"
   },
   "outputs": [],
   "source": [
    "from sklearn.naive_bayes import GaussianNB"
   ]
  },
  {
   "cell_type": "code",
   "execution_count": 209,
   "id": "K7Z-5dysFoG0",
   "metadata": {
    "id": "K7Z-5dysFoG0"
   },
   "outputs": [],
   "source": [
    "gnb=GaussianNB()"
   ]
  },
  {
   "cell_type": "code",
   "execution_count": 210,
   "id": "50KZZAsuFoG0",
   "metadata": {
    "colab": {
     "base_uri": "https://localhost:8080/"
    },
    "id": "50KZZAsuFoG0",
    "outputId": "9123dfb3-da40-424c-a357-d4b31515488a"
   },
   "outputs": [
    {
     "data": {
      "text/html": [
       "<style>#sk-container-id-17 {color: black;background-color: white;}#sk-container-id-17 pre{padding: 0;}#sk-container-id-17 div.sk-toggleable {background-color: white;}#sk-container-id-17 label.sk-toggleable__label {cursor: pointer;display: block;width: 100%;margin-bottom: 0;padding: 0.3em;box-sizing: border-box;text-align: center;}#sk-container-id-17 label.sk-toggleable__label-arrow:before {content: \"▸\";float: left;margin-right: 0.25em;color: #696969;}#sk-container-id-17 label.sk-toggleable__label-arrow:hover:before {color: black;}#sk-container-id-17 div.sk-estimator:hover label.sk-toggleable__label-arrow:before {color: black;}#sk-container-id-17 div.sk-toggleable__content {max-height: 0;max-width: 0;overflow: hidden;text-align: left;background-color: #f0f8ff;}#sk-container-id-17 div.sk-toggleable__content pre {margin: 0.2em;color: black;border-radius: 0.25em;background-color: #f0f8ff;}#sk-container-id-17 input.sk-toggleable__control:checked~div.sk-toggleable__content {max-height: 200px;max-width: 100%;overflow: auto;}#sk-container-id-17 input.sk-toggleable__control:checked~label.sk-toggleable__label-arrow:before {content: \"▾\";}#sk-container-id-17 div.sk-estimator input.sk-toggleable__control:checked~label.sk-toggleable__label {background-color: #d4ebff;}#sk-container-id-17 div.sk-label input.sk-toggleable__control:checked~label.sk-toggleable__label {background-color: #d4ebff;}#sk-container-id-17 input.sk-hidden--visually {border: 0;clip: rect(1px 1px 1px 1px);clip: rect(1px, 1px, 1px, 1px);height: 1px;margin: -1px;overflow: hidden;padding: 0;position: absolute;width: 1px;}#sk-container-id-17 div.sk-estimator {font-family: monospace;background-color: #f0f8ff;border: 1px dotted black;border-radius: 0.25em;box-sizing: border-box;margin-bottom: 0.5em;}#sk-container-id-17 div.sk-estimator:hover {background-color: #d4ebff;}#sk-container-id-17 div.sk-parallel-item::after {content: \"\";width: 100%;border-bottom: 1px solid gray;flex-grow: 1;}#sk-container-id-17 div.sk-label:hover label.sk-toggleable__label {background-color: #d4ebff;}#sk-container-id-17 div.sk-serial::before {content: \"\";position: absolute;border-left: 1px solid gray;box-sizing: border-box;top: 0;bottom: 0;left: 50%;z-index: 0;}#sk-container-id-17 div.sk-serial {display: flex;flex-direction: column;align-items: center;background-color: white;padding-right: 0.2em;padding-left: 0.2em;position: relative;}#sk-container-id-17 div.sk-item {position: relative;z-index: 1;}#sk-container-id-17 div.sk-parallel {display: flex;align-items: stretch;justify-content: center;background-color: white;position: relative;}#sk-container-id-17 div.sk-item::before, #sk-container-id-17 div.sk-parallel-item::before {content: \"\";position: absolute;border-left: 1px solid gray;box-sizing: border-box;top: 0;bottom: 0;left: 50%;z-index: -1;}#sk-container-id-17 div.sk-parallel-item {display: flex;flex-direction: column;z-index: 1;position: relative;background-color: white;}#sk-container-id-17 div.sk-parallel-item:first-child::after {align-self: flex-end;width: 50%;}#sk-container-id-17 div.sk-parallel-item:last-child::after {align-self: flex-start;width: 50%;}#sk-container-id-17 div.sk-parallel-item:only-child::after {width: 0;}#sk-container-id-17 div.sk-dashed-wrapped {border: 1px dashed gray;margin: 0 0.4em 0.5em 0.4em;box-sizing: border-box;padding-bottom: 0.4em;background-color: white;}#sk-container-id-17 div.sk-label label {font-family: monospace;font-weight: bold;display: inline-block;line-height: 1.2em;}#sk-container-id-17 div.sk-label-container {text-align: center;}#sk-container-id-17 div.sk-container {/* jupyter's `normalize.less` sets `[hidden] { display: none; }` but bootstrap.min.css set `[hidden] { display: none !important; }` so we also need the `!important` here to be able to override the default hidden behavior on the sphinx rendered scikit-learn.org. See: https://github.com/scikit-learn/scikit-learn/issues/21755 */display: inline-block !important;position: relative;}#sk-container-id-17 div.sk-text-repr-fallback {display: none;}</style><div id=\"sk-container-id-17\" class=\"sk-top-container\"><div class=\"sk-text-repr-fallback\"><pre>GaussianNB()</pre><b>In a Jupyter environment, please rerun this cell to show the HTML representation or trust the notebook. <br />On GitHub, the HTML representation is unable to render, please try loading this page with nbviewer.org.</b></div><div class=\"sk-container\" hidden><div class=\"sk-item\"><div class=\"sk-estimator sk-toggleable\"><input class=\"sk-toggleable__control sk-hidden--visually\" id=\"sk-estimator-id-21\" type=\"checkbox\" checked><label for=\"sk-estimator-id-21\" class=\"sk-toggleable__label sk-toggleable__label-arrow\">GaussianNB</label><div class=\"sk-toggleable__content\"><pre>GaussianNB()</pre></div></div></div></div></div>"
      ],
      "text/plain": [
       "GaussianNB()"
      ]
     },
     "execution_count": 210,
     "metadata": {},
     "output_type": "execute_result"
    }
   ],
   "source": [
    "gnb.fit(xtrain,ytrain)"
   ]
  },
  {
   "cell_type": "code",
   "execution_count": 211,
   "id": "RGExb_7QFoG0",
   "metadata": {
    "id": "RGExb_7QFoG0"
   },
   "outputs": [],
   "source": [
    "pred=gnb.predict(xtest)"
   ]
  },
  {
   "cell_type": "code",
   "execution_count": 212,
   "id": "DTxeBVBTFoG0",
   "metadata": {
    "colab": {
     "base_uri": "https://localhost:8080/"
    },
    "id": "DTxeBVBTFoG0",
    "outputId": "01c2e1ea-7d2b-4275-f73c-d1ef36a18a20",
    "scrolled": true
   },
   "outputs": [
    {
     "name": "stdout",
     "output_type": "stream",
     "text": [
      "              precision    recall  f1-score   support\n",
      "\n",
      "  bruteforce       0.51      0.20      0.29    199972\n",
      "      normal       1.00      0.19      0.32    193229\n",
      "      scan_A       0.68      1.00      0.81      8125\n",
      "     scan_SU       1.00      1.00      1.00      4487\n",
      "      sparta       0.41      0.98      0.58    197187\n",
      "\n",
      "    accuracy                           0.47    603000\n",
      "   macro avg       0.72      0.67      0.60    603000\n",
      "weighted avg       0.64      0.47      0.40    603000\n",
      "\n"
     ]
    }
   ],
   "source": [
    "print(classification_report(ytest,pred))"
   ]
  },
  {
   "cell_type": "code",
   "execution_count": 213,
   "id": "da809218",
   "metadata": {},
   "outputs": [],
   "source": [
    "report_nb=pd.DataFrame(classification_report(ytest,pred,output_dict=True)).transpose()"
   ]
  },
  {
   "cell_type": "markdown",
   "id": "wkAT37TpTbSK",
   "metadata": {
    "id": "wkAT37TpTbSK"
   },
   "source": [
    "### Support Vector Machines : Kernel Linear"
   ]
  },
  {
   "cell_type": "code",
   "execution_count": 214,
   "id": "6ImDu7ASTbSK",
   "metadata": {
    "id": "6ImDu7ASTbSK"
   },
   "outputs": [],
   "source": [
    "from sklearn.svm import LinearSVC"
   ]
  },
  {
   "cell_type": "code",
   "execution_count": 215,
   "id": "pQ5bct01TbSL",
   "metadata": {
    "id": "pQ5bct01TbSL"
   },
   "outputs": [],
   "source": [
    "svc_linear=LinearSVC()"
   ]
  },
  {
   "cell_type": "code",
   "execution_count": 216,
   "id": "HAV3erAnTbSL",
   "metadata": {
    "id": "HAV3erAnTbSL"
   },
   "outputs": [
    {
     "data": {
      "text/html": [
       "<style>#sk-container-id-18 {color: black;background-color: white;}#sk-container-id-18 pre{padding: 0;}#sk-container-id-18 div.sk-toggleable {background-color: white;}#sk-container-id-18 label.sk-toggleable__label {cursor: pointer;display: block;width: 100%;margin-bottom: 0;padding: 0.3em;box-sizing: border-box;text-align: center;}#sk-container-id-18 label.sk-toggleable__label-arrow:before {content: \"▸\";float: left;margin-right: 0.25em;color: #696969;}#sk-container-id-18 label.sk-toggleable__label-arrow:hover:before {color: black;}#sk-container-id-18 div.sk-estimator:hover label.sk-toggleable__label-arrow:before {color: black;}#sk-container-id-18 div.sk-toggleable__content {max-height: 0;max-width: 0;overflow: hidden;text-align: left;background-color: #f0f8ff;}#sk-container-id-18 div.sk-toggleable__content pre {margin: 0.2em;color: black;border-radius: 0.25em;background-color: #f0f8ff;}#sk-container-id-18 input.sk-toggleable__control:checked~div.sk-toggleable__content {max-height: 200px;max-width: 100%;overflow: auto;}#sk-container-id-18 input.sk-toggleable__control:checked~label.sk-toggleable__label-arrow:before {content: \"▾\";}#sk-container-id-18 div.sk-estimator input.sk-toggleable__control:checked~label.sk-toggleable__label {background-color: #d4ebff;}#sk-container-id-18 div.sk-label input.sk-toggleable__control:checked~label.sk-toggleable__label {background-color: #d4ebff;}#sk-container-id-18 input.sk-hidden--visually {border: 0;clip: rect(1px 1px 1px 1px);clip: rect(1px, 1px, 1px, 1px);height: 1px;margin: -1px;overflow: hidden;padding: 0;position: absolute;width: 1px;}#sk-container-id-18 div.sk-estimator {font-family: monospace;background-color: #f0f8ff;border: 1px dotted black;border-radius: 0.25em;box-sizing: border-box;margin-bottom: 0.5em;}#sk-container-id-18 div.sk-estimator:hover {background-color: #d4ebff;}#sk-container-id-18 div.sk-parallel-item::after {content: \"\";width: 100%;border-bottom: 1px solid gray;flex-grow: 1;}#sk-container-id-18 div.sk-label:hover label.sk-toggleable__label {background-color: #d4ebff;}#sk-container-id-18 div.sk-serial::before {content: \"\";position: absolute;border-left: 1px solid gray;box-sizing: border-box;top: 0;bottom: 0;left: 50%;z-index: 0;}#sk-container-id-18 div.sk-serial {display: flex;flex-direction: column;align-items: center;background-color: white;padding-right: 0.2em;padding-left: 0.2em;position: relative;}#sk-container-id-18 div.sk-item {position: relative;z-index: 1;}#sk-container-id-18 div.sk-parallel {display: flex;align-items: stretch;justify-content: center;background-color: white;position: relative;}#sk-container-id-18 div.sk-item::before, #sk-container-id-18 div.sk-parallel-item::before {content: \"\";position: absolute;border-left: 1px solid gray;box-sizing: border-box;top: 0;bottom: 0;left: 50%;z-index: -1;}#sk-container-id-18 div.sk-parallel-item {display: flex;flex-direction: column;z-index: 1;position: relative;background-color: white;}#sk-container-id-18 div.sk-parallel-item:first-child::after {align-self: flex-end;width: 50%;}#sk-container-id-18 div.sk-parallel-item:last-child::after {align-self: flex-start;width: 50%;}#sk-container-id-18 div.sk-parallel-item:only-child::after {width: 0;}#sk-container-id-18 div.sk-dashed-wrapped {border: 1px dashed gray;margin: 0 0.4em 0.5em 0.4em;box-sizing: border-box;padding-bottom: 0.4em;background-color: white;}#sk-container-id-18 div.sk-label label {font-family: monospace;font-weight: bold;display: inline-block;line-height: 1.2em;}#sk-container-id-18 div.sk-label-container {text-align: center;}#sk-container-id-18 div.sk-container {/* jupyter's `normalize.less` sets `[hidden] { display: none; }` but bootstrap.min.css set `[hidden] { display: none !important; }` so we also need the `!important` here to be able to override the default hidden behavior on the sphinx rendered scikit-learn.org. See: https://github.com/scikit-learn/scikit-learn/issues/21755 */display: inline-block !important;position: relative;}#sk-container-id-18 div.sk-text-repr-fallback {display: none;}</style><div id=\"sk-container-id-18\" class=\"sk-top-container\"><div class=\"sk-text-repr-fallback\"><pre>LinearSVC()</pre><b>In a Jupyter environment, please rerun this cell to show the HTML representation or trust the notebook. <br />On GitHub, the HTML representation is unable to render, please try loading this page with nbviewer.org.</b></div><div class=\"sk-container\" hidden><div class=\"sk-item\"><div class=\"sk-estimator sk-toggleable\"><input class=\"sk-toggleable__control sk-hidden--visually\" id=\"sk-estimator-id-22\" type=\"checkbox\" checked><label for=\"sk-estimator-id-22\" class=\"sk-toggleable__label sk-toggleable__label-arrow\">LinearSVC</label><div class=\"sk-toggleable__content\"><pre>LinearSVC()</pre></div></div></div></div></div>"
      ],
      "text/plain": [
       "LinearSVC()"
      ]
     },
     "execution_count": 216,
     "metadata": {},
     "output_type": "execute_result"
    }
   ],
   "source": [
    "svc_linear.fit(xtrain,ytrain)"
   ]
  },
  {
   "cell_type": "code",
   "execution_count": 217,
   "id": "bAFPM3NwTbSM",
   "metadata": {
    "id": "bAFPM3NwTbSM"
   },
   "outputs": [],
   "source": [
    "pred=svc_linear.predict(xtest)"
   ]
  },
  {
   "cell_type": "code",
   "execution_count": 218,
   "id": "ghzGQBzyTbSM",
   "metadata": {
    "id": "ghzGQBzyTbSM",
    "scrolled": true
   },
   "outputs": [
    {
     "name": "stdout",
     "output_type": "stream",
     "text": [
      "              precision    recall  f1-score   support\n",
      "\n",
      "  bruteforce       0.50      0.86      0.63    199972\n",
      "      normal       0.69      0.47      0.56    193229\n",
      "      scan_A       0.95      0.99      0.97      8125\n",
      "     scan_SU       0.99      0.99      0.99      4487\n",
      "      sparta       1.00      0.59      0.74    197187\n",
      "\n",
      "    accuracy                           0.65    603000\n",
      "   macro avg       0.83      0.78      0.78    603000\n",
      "weighted avg       0.73      0.65      0.65    603000\n",
      "\n"
     ]
    }
   ],
   "source": [
    "print(classification_report(ytest,pred))"
   ]
  },
  {
   "cell_type": "code",
   "execution_count": 219,
   "id": "2c2b4b81",
   "metadata": {},
   "outputs": [],
   "source": [
    "report_svm=pd.DataFrame(classification_report(ytest,pred,output_dict=True)).transpose()"
   ]
  },
  {
   "cell_type": "markdown",
   "id": "oLaekFnfFoG2",
   "metadata": {
    "id": "oLaekFnfFoG2"
   },
   "source": [
    "### K nearest Neighbour"
   ]
  },
  {
   "cell_type": "code",
   "execution_count": 220,
   "id": "iEc8_hJhFoG2",
   "metadata": {
    "id": "iEc8_hJhFoG2"
   },
   "outputs": [],
   "source": [
    "from sklearn.neighbors import KNeighborsClassifier"
   ]
  },
  {
   "cell_type": "code",
   "execution_count": 221,
   "id": "VlP_QkeYFoG2",
   "metadata": {
    "id": "VlP_QkeYFoG2"
   },
   "outputs": [],
   "source": [
    "knn=KNeighborsClassifier(n_jobs=-1)"
   ]
  },
  {
   "cell_type": "code",
   "execution_count": 222,
   "id": "2muBH3U8FoG2",
   "metadata": {
    "id": "2muBH3U8FoG2"
   },
   "outputs": [
    {
     "data": {
      "text/html": [
       "<style>#sk-container-id-19 {color: black;background-color: white;}#sk-container-id-19 pre{padding: 0;}#sk-container-id-19 div.sk-toggleable {background-color: white;}#sk-container-id-19 label.sk-toggleable__label {cursor: pointer;display: block;width: 100%;margin-bottom: 0;padding: 0.3em;box-sizing: border-box;text-align: center;}#sk-container-id-19 label.sk-toggleable__label-arrow:before {content: \"▸\";float: left;margin-right: 0.25em;color: #696969;}#sk-container-id-19 label.sk-toggleable__label-arrow:hover:before {color: black;}#sk-container-id-19 div.sk-estimator:hover label.sk-toggleable__label-arrow:before {color: black;}#sk-container-id-19 div.sk-toggleable__content {max-height: 0;max-width: 0;overflow: hidden;text-align: left;background-color: #f0f8ff;}#sk-container-id-19 div.sk-toggleable__content pre {margin: 0.2em;color: black;border-radius: 0.25em;background-color: #f0f8ff;}#sk-container-id-19 input.sk-toggleable__control:checked~div.sk-toggleable__content {max-height: 200px;max-width: 100%;overflow: auto;}#sk-container-id-19 input.sk-toggleable__control:checked~label.sk-toggleable__label-arrow:before {content: \"▾\";}#sk-container-id-19 div.sk-estimator input.sk-toggleable__control:checked~label.sk-toggleable__label {background-color: #d4ebff;}#sk-container-id-19 div.sk-label input.sk-toggleable__control:checked~label.sk-toggleable__label {background-color: #d4ebff;}#sk-container-id-19 input.sk-hidden--visually {border: 0;clip: rect(1px 1px 1px 1px);clip: rect(1px, 1px, 1px, 1px);height: 1px;margin: -1px;overflow: hidden;padding: 0;position: absolute;width: 1px;}#sk-container-id-19 div.sk-estimator {font-family: monospace;background-color: #f0f8ff;border: 1px dotted black;border-radius: 0.25em;box-sizing: border-box;margin-bottom: 0.5em;}#sk-container-id-19 div.sk-estimator:hover {background-color: #d4ebff;}#sk-container-id-19 div.sk-parallel-item::after {content: \"\";width: 100%;border-bottom: 1px solid gray;flex-grow: 1;}#sk-container-id-19 div.sk-label:hover label.sk-toggleable__label {background-color: #d4ebff;}#sk-container-id-19 div.sk-serial::before {content: \"\";position: absolute;border-left: 1px solid gray;box-sizing: border-box;top: 0;bottom: 0;left: 50%;z-index: 0;}#sk-container-id-19 div.sk-serial {display: flex;flex-direction: column;align-items: center;background-color: white;padding-right: 0.2em;padding-left: 0.2em;position: relative;}#sk-container-id-19 div.sk-item {position: relative;z-index: 1;}#sk-container-id-19 div.sk-parallel {display: flex;align-items: stretch;justify-content: center;background-color: white;position: relative;}#sk-container-id-19 div.sk-item::before, #sk-container-id-19 div.sk-parallel-item::before {content: \"\";position: absolute;border-left: 1px solid gray;box-sizing: border-box;top: 0;bottom: 0;left: 50%;z-index: -1;}#sk-container-id-19 div.sk-parallel-item {display: flex;flex-direction: column;z-index: 1;position: relative;background-color: white;}#sk-container-id-19 div.sk-parallel-item:first-child::after {align-self: flex-end;width: 50%;}#sk-container-id-19 div.sk-parallel-item:last-child::after {align-self: flex-start;width: 50%;}#sk-container-id-19 div.sk-parallel-item:only-child::after {width: 0;}#sk-container-id-19 div.sk-dashed-wrapped {border: 1px dashed gray;margin: 0 0.4em 0.5em 0.4em;box-sizing: border-box;padding-bottom: 0.4em;background-color: white;}#sk-container-id-19 div.sk-label label {font-family: monospace;font-weight: bold;display: inline-block;line-height: 1.2em;}#sk-container-id-19 div.sk-label-container {text-align: center;}#sk-container-id-19 div.sk-container {/* jupyter's `normalize.less` sets `[hidden] { display: none; }` but bootstrap.min.css set `[hidden] { display: none !important; }` so we also need the `!important` here to be able to override the default hidden behavior on the sphinx rendered scikit-learn.org. See: https://github.com/scikit-learn/scikit-learn/issues/21755 */display: inline-block !important;position: relative;}#sk-container-id-19 div.sk-text-repr-fallback {display: none;}</style><div id=\"sk-container-id-19\" class=\"sk-top-container\"><div class=\"sk-text-repr-fallback\"><pre>KNeighborsClassifier(n_jobs=-1)</pre><b>In a Jupyter environment, please rerun this cell to show the HTML representation or trust the notebook. <br />On GitHub, the HTML representation is unable to render, please try loading this page with nbviewer.org.</b></div><div class=\"sk-container\" hidden><div class=\"sk-item\"><div class=\"sk-estimator sk-toggleable\"><input class=\"sk-toggleable__control sk-hidden--visually\" id=\"sk-estimator-id-23\" type=\"checkbox\" checked><label for=\"sk-estimator-id-23\" class=\"sk-toggleable__label sk-toggleable__label-arrow\">KNeighborsClassifier</label><div class=\"sk-toggleable__content\"><pre>KNeighborsClassifier(n_jobs=-1)</pre></div></div></div></div></div>"
      ],
      "text/plain": [
       "KNeighborsClassifier(n_jobs=-1)"
      ]
     },
     "execution_count": 222,
     "metadata": {},
     "output_type": "execute_result"
    }
   ],
   "source": [
    "knn.fit(xtrain,ytrain)"
   ]
  },
  {
   "cell_type": "code",
   "execution_count": 223,
   "id": "Be775PZDFoG3",
   "metadata": {
    "id": "Be775PZDFoG3"
   },
   "outputs": [],
   "source": [
    "pred=knn.predict(xtest)"
   ]
  },
  {
   "cell_type": "code",
   "execution_count": 224,
   "id": "uaVknSc6FoG3",
   "metadata": {
    "id": "uaVknSc6FoG3"
   },
   "outputs": [
    {
     "name": "stdout",
     "output_type": "stream",
     "text": [
      "              precision    recall  f1-score   support\n",
      "\n",
      "  bruteforce       0.94      0.97      0.95    199972\n",
      "      normal       0.97      0.93      0.95    193229\n",
      "      scan_A       1.00      1.00      1.00      8125\n",
      "     scan_SU       1.00      1.00      1.00      4487\n",
      "      sparta       1.00      1.00      1.00    197187\n",
      "\n",
      "    accuracy                           0.97    603000\n",
      "   macro avg       0.98      0.98      0.98    603000\n",
      "weighted avg       0.97      0.97      0.97    603000\n",
      "\n"
     ]
    }
   ],
   "source": [
    "print(classification_report(ytest,pred))"
   ]
  },
  {
   "cell_type": "code",
   "execution_count": 225,
   "id": "9be5cbaa",
   "metadata": {},
   "outputs": [],
   "source": [
    "report_knn=pd.DataFrame(classification_report(ytest,pred,output_dict=True)).transpose()"
   ]
  },
  {
   "cell_type": "markdown",
   "id": "1fd1b20f",
   "metadata": {},
   "source": [
    "### Combining results and outputting"
   ]
  },
  {
   "cell_type": "code",
   "execution_count": 226,
   "id": "48d710ce",
   "metadata": {},
   "outputs": [],
   "source": [
    "report_packet=pd.concat([report_rfc,report_lr,report_dtc,report_nb,report_svm,report_knn],\n",
    "                     keys=['Random Forest','Logistic Regression','Decision Trees','Naive bayes','Support Vector Machines','K Nearest Neighbour'])"
   ]
  },
  {
   "cell_type": "code",
   "execution_count": 227,
   "id": "04a8a777",
   "metadata": {},
   "outputs": [],
   "source": [
    "report_packet.to_csv('Packet_results.csv')"
   ]
  },
  {
   "cell_type": "code",
   "execution_count": 228,
   "id": "6884ad8d",
   "metadata": {},
   "outputs": [
    {
     "data": {
      "text/plain": [
       "['timestamp',\n",
       " 'src_ip',\n",
       " 'dst_ip',\n",
       " ['ip_flag_rb',\n",
       "  'tcp_flag_ns',\n",
       "  'tcp_flag_cwr',\n",
       "  'tcp_flag_ecn',\n",
       "  'tcp_flag_urg',\n",
       "  'mqtt_flag_passwd',\n",
       "  'mqtt_flag_retain',\n",
       "  'mqtt_flag_qos',\n",
       "  'mqtt_flag_willflag',\n",
       "  'mqtt_flag_clean',\n",
       "  'mqtt_flag_reserved']]"
      ]
     },
     "execution_count": 228,
     "metadata": {},
     "output_type": "execute_result"
    }
   ],
   "source": [
    "to_drop_packet"
   ]
  },
  {
   "cell_type": "code",
   "execution_count": 229,
   "id": "83ae8353",
   "metadata": {},
   "outputs": [
    {
     "data": {
      "text/plain": [
       "['bwd_num_pkts',\n",
       " 'bwd_mean_iat',\n",
       " 'bwd_std_iat',\n",
       " 'fwd_min_iat',\n",
       " 'bwd_min_iat',\n",
       " 'bwd_max_iat',\n",
       " 'bwd_min_pkt_len',\n",
       " 'fwd_max_pkt_len',\n",
       " 'bwd_max_pkt_len',\n",
       " 'bwd_num_bytes',\n",
       " 'fwd_num_psh_flags',\n",
       " 'bwd_num_psh_flags',\n",
       " 'bwd_num_rst_flags',\n",
       " 'ip_src',\n",
       " 'ip_dst',\n",
       " 'proto']"
      ]
     },
     "execution_count": 229,
     "metadata": {},
     "output_type": "execute_result"
    }
   ],
   "source": [
    "to_drop_bi"
   ]
  },
  {
   "cell_type": "code",
   "execution_count": 230,
   "id": "e9b35f4b",
   "metadata": {},
   "outputs": [
    {
     "data": {
      "text/plain": [
       "['min_iat', 'max_pkt_len', 'ip_src', 'ip_dst', 'proto']"
      ]
     },
     "execution_count": 230,
     "metadata": {},
     "output_type": "execute_result"
    }
   ],
   "source": [
    "to_drop_uni"
   ]
  },
  {
   "cell_type": "code",
   "execution_count": null,
   "id": "b690c68c",
   "metadata": {},
   "outputs": [],
   "source": []
  }
 ],
 "metadata": {
  "colab": {
   "collapsed_sections": [],
   "name": "Intrusion_detection_MQTT-IDS2020.ipynb",
   "provenance": [],
   "toc_visible": true
  },
  "gpuClass": "standard",
  "kernelspec": {
   "display_name": "Python 3 (ipykernel)",
   "language": "python",
   "name": "python3"
  },
  "language_info": {
   "codemirror_mode": {
    "name": "ipython",
    "version": 3
   },
   "file_extension": ".py",
   "mimetype": "text/x-python",
   "name": "python",
   "nbconvert_exporter": "python",
   "pygments_lexer": "ipython3",
   "version": "3.9.12"
  }
 },
 "nbformat": 4,
 "nbformat_minor": 5
}
